{
  "cells": [
    {
      "cell_type": "markdown",
      "metadata": {
        "id": "view-in-github",
        "colab_type": "text"
      },
      "source": [
        "<a href=\"https://colab.research.google.com/github/Alirs2002/tweet_sentiment_analysis/blob/main/code.ipynb\" target=\"_parent\"><img src=\"https://colab.research.google.com/assets/colab-badge.svg\" alt=\"Open In Colab\"/></a>"
      ]
    },
    {
      "cell_type": "markdown",
      "metadata": {
        "id": "Aro5D_MuNmf4"
      },
      "source": [
        "in this motherfucker project, i am going to create a model by keras,to classify tweets,to 2 classes\n",
        "\n",
        "1-disaster\n",
        "\n",
        "2-normal"
      ]
    },
    {
      "cell_type": "markdown",
      "metadata": {
        "id": "djOPZvywNmf_"
      },
      "source": [
        "lets import necessary libraries"
      ]
    },
    {
      "cell_type": "code",
      "execution_count": 1,
      "metadata": {
        "id": "x9K9MWPhNmgB"
      },
      "outputs": [],
      "source": [
        "import tensorflow as tf\n",
        "import numpy as np\n",
        "import pandas as pd\n",
        "import matplotlib.pyplot as plt"
      ]
    },
    {
      "cell_type": "markdown",
      "metadata": {
        "id": "LF1AOUfsNmgF"
      },
      "source": [
        "now,lets download our dataset"
      ]
    },
    {
      "cell_type": "code",
      "execution_count": 2,
      "metadata": {
        "colab": {
          "base_uri": "https://localhost:8080/"
        },
        "id": "R-5yf4V6NmgH",
        "outputId": "35d512ca-639e-4b38-8202-49c8587896fe"
      },
      "outputs": [
        {
          "output_type": "stream",
          "name": "stdout",
          "text": [
            "--2023-10-07 17:58:58--  https://storage.googleapis.com/ztm_tf_course/nlp_getting_started.zip\n",
            "Resolving storage.googleapis.com (storage.googleapis.com)... 74.125.20.207, 108.177.98.207, 74.125.197.207, ...\n",
            "Connecting to storage.googleapis.com (storage.googleapis.com)|74.125.20.207|:443... connected.\n",
            "HTTP request sent, awaiting response... 200 OK\n",
            "Length: 607343 (593K) [application/zip]\n",
            "Saving to: ‘nlp_getting_started.zip’\n",
            "\n",
            "\rnlp_getting_started   0%[                    ]       0  --.-KB/s               \rnlp_getting_started 100%[===================>] 593.11K  --.-KB/s    in 0.007s  \n",
            "\n",
            "2023-10-07 17:58:58 (87.2 MB/s) - ‘nlp_getting_started.zip’ saved [607343/607343]\n",
            "\n"
          ]
        }
      ],
      "source": [
        "!wget \"https://storage.googleapis.com/ztm_tf_course/nlp_getting_started.zip\""
      ]
    },
    {
      "cell_type": "code",
      "execution_count": 3,
      "metadata": {
        "colab": {
          "base_uri": "https://localhost:8080/"
        },
        "id": "gSnDqHyXNmgJ",
        "outputId": "12a80063-fb3a-4e39-d9cc-2bbec540a6ad"
      },
      "outputs": [
        {
          "output_type": "stream",
          "name": "stdout",
          "text": [
            "nlp_getting_started.zip  sample_data\n"
          ]
        }
      ],
      "source": [
        "!ls"
      ]
    },
    {
      "cell_type": "code",
      "execution_count": 4,
      "metadata": {
        "colab": {
          "base_uri": "https://localhost:8080/"
        },
        "id": "mwTvveLMNmgK",
        "outputId": "f3d41de5-2051-4795-c949-4074844f90ae"
      },
      "outputs": [
        {
          "output_type": "stream",
          "name": "stdout",
          "text": [
            "bin\t\t\t    etc     media\t\t      root  tools\n",
            "boot\t\t\t    home    mnt\t\t\t      run   usr\n",
            "content\t\t\t    lib     NGC-DL-CONTAINER-LICENSE  sbin  var\n",
            "cuda-keyring_1.0-1_all.deb  lib32   opt\t\t\t      srv\n",
            "datalab\t\t\t    lib64   proc\t\t      sys\n",
            "dev\t\t\t    libx32  python-apt\t\t      tmp\n"
          ]
        }
      ],
      "source": [
        "!ls .."
      ]
    },
    {
      "cell_type": "markdown",
      "source": [
        "now,lets create a function to unzip our data"
      ],
      "metadata": {
        "id": "Uel1DdrINtU9"
      }
    },
    {
      "cell_type": "code",
      "execution_count": 5,
      "metadata": {
        "id": "KgwX68UoNmgN"
      },
      "outputs": [],
      "source": [
        "import zipfile\n",
        "\n",
        "def unzip_data(path):\n",
        "\n",
        "  zip_file_ref = zipfile.ZipFile(path,\"r\")\n",
        "\n",
        "  zip_file_ref.extractall()\n",
        "\n",
        "  zip_file_ref.close()"
      ]
    },
    {
      "cell_type": "code",
      "source": [
        "zip_file_path = \"./nlp_getting_started.zip\""
      ],
      "metadata": {
        "id": "p2361p4FOILU"
      },
      "execution_count": 6,
      "outputs": []
    },
    {
      "cell_type": "code",
      "source": [
        "unzip_data(zip_file_path)"
      ],
      "metadata": {
        "id": "u8iqcgEeOvCx"
      },
      "execution_count": 7,
      "outputs": []
    },
    {
      "cell_type": "code",
      "source": [
        "!ls"
      ],
      "metadata": {
        "colab": {
          "base_uri": "https://localhost:8080/"
        },
        "id": "yvZ5EYUDOzB4",
        "outputId": "4abeb7e7-3b41-4a49-b3ac-d6fca2422a55"
      },
      "execution_count": 8,
      "outputs": [
        {
          "output_type": "stream",
          "name": "stdout",
          "text": [
            "nlp_getting_started.zip  sample_submission.csv\ttrain.csv\n",
            "sample_data\t\t test.csv\n"
          ]
        }
      ]
    },
    {
      "cell_type": "markdown",
      "source": [
        "now,lets import our train and test datasets"
      ],
      "metadata": {
        "id": "V2IdHRZ2PDXt"
      }
    },
    {
      "cell_type": "code",
      "source": [
        "train_data_path = \"./train.csv\"\n",
        "\n",
        "test_data_path = \"./test.csv\""
      ],
      "metadata": {
        "id": "eH8ni7F5O0U_"
      },
      "execution_count": 9,
      "outputs": []
    },
    {
      "cell_type": "code",
      "source": [
        "train_data = pd.read_csv(train_data_path)\n",
        "\n",
        "test_data = pd.read_csv(test_data_path)"
      ],
      "metadata": {
        "id": "hu6KBvElPTj0"
      },
      "execution_count": 10,
      "outputs": []
    },
    {
      "cell_type": "code",
      "source": [
        "train_data"
      ],
      "metadata": {
        "colab": {
          "base_uri": "https://localhost:8080/",
          "height": 423
        },
        "id": "yscsk4-UPbWR",
        "outputId": "8bbcd047-707b-4466-fcbf-27a105518706"
      },
      "execution_count": 11,
      "outputs": [
        {
          "output_type": "execute_result",
          "data": {
            "text/plain": [
              "         id keyword location  \\\n",
              "0         1     NaN      NaN   \n",
              "1         4     NaN      NaN   \n",
              "2         5     NaN      NaN   \n",
              "3         6     NaN      NaN   \n",
              "4         7     NaN      NaN   \n",
              "...     ...     ...      ...   \n",
              "7608  10869     NaN      NaN   \n",
              "7609  10870     NaN      NaN   \n",
              "7610  10871     NaN      NaN   \n",
              "7611  10872     NaN      NaN   \n",
              "7612  10873     NaN      NaN   \n",
              "\n",
              "                                                   text  target  \n",
              "0     Our Deeds are the Reason of this #earthquake M...       1  \n",
              "1                Forest fire near La Ronge Sask. Canada       1  \n",
              "2     All residents asked to 'shelter in place' are ...       1  \n",
              "3     13,000 people receive #wildfires evacuation or...       1  \n",
              "4     Just got sent this photo from Ruby #Alaska as ...       1  \n",
              "...                                                 ...     ...  \n",
              "7608  Two giant cranes holding a bridge collapse int...       1  \n",
              "7609  @aria_ahrary @TheTawniest The out of control w...       1  \n",
              "7610  M1.94 [01:04 UTC]?5km S of Volcano Hawaii. htt...       1  \n",
              "7611  Police investigating after an e-bike collided ...       1  \n",
              "7612  The Latest: More Homes Razed by Northern Calif...       1  \n",
              "\n",
              "[7613 rows x 5 columns]"
            ],
            "text/html": [
              "\n",
              "  <div id=\"df-72b6b4a0-bf6c-4362-9257-95b36a2adcd6\" class=\"colab-df-container\">\n",
              "    <div>\n",
              "<style scoped>\n",
              "    .dataframe tbody tr th:only-of-type {\n",
              "        vertical-align: middle;\n",
              "    }\n",
              "\n",
              "    .dataframe tbody tr th {\n",
              "        vertical-align: top;\n",
              "    }\n",
              "\n",
              "    .dataframe thead th {\n",
              "        text-align: right;\n",
              "    }\n",
              "</style>\n",
              "<table border=\"1\" class=\"dataframe\">\n",
              "  <thead>\n",
              "    <tr style=\"text-align: right;\">\n",
              "      <th></th>\n",
              "      <th>id</th>\n",
              "      <th>keyword</th>\n",
              "      <th>location</th>\n",
              "      <th>text</th>\n",
              "      <th>target</th>\n",
              "    </tr>\n",
              "  </thead>\n",
              "  <tbody>\n",
              "    <tr>\n",
              "      <th>0</th>\n",
              "      <td>1</td>\n",
              "      <td>NaN</td>\n",
              "      <td>NaN</td>\n",
              "      <td>Our Deeds are the Reason of this #earthquake M...</td>\n",
              "      <td>1</td>\n",
              "    </tr>\n",
              "    <tr>\n",
              "      <th>1</th>\n",
              "      <td>4</td>\n",
              "      <td>NaN</td>\n",
              "      <td>NaN</td>\n",
              "      <td>Forest fire near La Ronge Sask. Canada</td>\n",
              "      <td>1</td>\n",
              "    </tr>\n",
              "    <tr>\n",
              "      <th>2</th>\n",
              "      <td>5</td>\n",
              "      <td>NaN</td>\n",
              "      <td>NaN</td>\n",
              "      <td>All residents asked to 'shelter in place' are ...</td>\n",
              "      <td>1</td>\n",
              "    </tr>\n",
              "    <tr>\n",
              "      <th>3</th>\n",
              "      <td>6</td>\n",
              "      <td>NaN</td>\n",
              "      <td>NaN</td>\n",
              "      <td>13,000 people receive #wildfires evacuation or...</td>\n",
              "      <td>1</td>\n",
              "    </tr>\n",
              "    <tr>\n",
              "      <th>4</th>\n",
              "      <td>7</td>\n",
              "      <td>NaN</td>\n",
              "      <td>NaN</td>\n",
              "      <td>Just got sent this photo from Ruby #Alaska as ...</td>\n",
              "      <td>1</td>\n",
              "    </tr>\n",
              "    <tr>\n",
              "      <th>...</th>\n",
              "      <td>...</td>\n",
              "      <td>...</td>\n",
              "      <td>...</td>\n",
              "      <td>...</td>\n",
              "      <td>...</td>\n",
              "    </tr>\n",
              "    <tr>\n",
              "      <th>7608</th>\n",
              "      <td>10869</td>\n",
              "      <td>NaN</td>\n",
              "      <td>NaN</td>\n",
              "      <td>Two giant cranes holding a bridge collapse int...</td>\n",
              "      <td>1</td>\n",
              "    </tr>\n",
              "    <tr>\n",
              "      <th>7609</th>\n",
              "      <td>10870</td>\n",
              "      <td>NaN</td>\n",
              "      <td>NaN</td>\n",
              "      <td>@aria_ahrary @TheTawniest The out of control w...</td>\n",
              "      <td>1</td>\n",
              "    </tr>\n",
              "    <tr>\n",
              "      <th>7610</th>\n",
              "      <td>10871</td>\n",
              "      <td>NaN</td>\n",
              "      <td>NaN</td>\n",
              "      <td>M1.94 [01:04 UTC]?5km S of Volcano Hawaii. htt...</td>\n",
              "      <td>1</td>\n",
              "    </tr>\n",
              "    <tr>\n",
              "      <th>7611</th>\n",
              "      <td>10872</td>\n",
              "      <td>NaN</td>\n",
              "      <td>NaN</td>\n",
              "      <td>Police investigating after an e-bike collided ...</td>\n",
              "      <td>1</td>\n",
              "    </tr>\n",
              "    <tr>\n",
              "      <th>7612</th>\n",
              "      <td>10873</td>\n",
              "      <td>NaN</td>\n",
              "      <td>NaN</td>\n",
              "      <td>The Latest: More Homes Razed by Northern Calif...</td>\n",
              "      <td>1</td>\n",
              "    </tr>\n",
              "  </tbody>\n",
              "</table>\n",
              "<p>7613 rows × 5 columns</p>\n",
              "</div>\n",
              "    <div class=\"colab-df-buttons\">\n",
              "\n",
              "  <div class=\"colab-df-container\">\n",
              "    <button class=\"colab-df-convert\" onclick=\"convertToInteractive('df-72b6b4a0-bf6c-4362-9257-95b36a2adcd6')\"\n",
              "            title=\"Convert this dataframe to an interactive table.\"\n",
              "            style=\"display:none;\">\n",
              "\n",
              "  <svg xmlns=\"http://www.w3.org/2000/svg\" height=\"24px\" viewBox=\"0 -960 960 960\">\n",
              "    <path d=\"M120-120v-720h720v720H120Zm60-500h600v-160H180v160Zm220 220h160v-160H400v160Zm0 220h160v-160H400v160ZM180-400h160v-160H180v160Zm440 0h160v-160H620v160ZM180-180h160v-160H180v160Zm440 0h160v-160H620v160Z\"/>\n",
              "  </svg>\n",
              "    </button>\n",
              "\n",
              "  <style>\n",
              "    .colab-df-container {\n",
              "      display:flex;\n",
              "      gap: 12px;\n",
              "    }\n",
              "\n",
              "    .colab-df-convert {\n",
              "      background-color: #E8F0FE;\n",
              "      border: none;\n",
              "      border-radius: 50%;\n",
              "      cursor: pointer;\n",
              "      display: none;\n",
              "      fill: #1967D2;\n",
              "      height: 32px;\n",
              "      padding: 0 0 0 0;\n",
              "      width: 32px;\n",
              "    }\n",
              "\n",
              "    .colab-df-convert:hover {\n",
              "      background-color: #E2EBFA;\n",
              "      box-shadow: 0px 1px 2px rgba(60, 64, 67, 0.3), 0px 1px 3px 1px rgba(60, 64, 67, 0.15);\n",
              "      fill: #174EA6;\n",
              "    }\n",
              "\n",
              "    .colab-df-buttons div {\n",
              "      margin-bottom: 4px;\n",
              "    }\n",
              "\n",
              "    [theme=dark] .colab-df-convert {\n",
              "      background-color: #3B4455;\n",
              "      fill: #D2E3FC;\n",
              "    }\n",
              "\n",
              "    [theme=dark] .colab-df-convert:hover {\n",
              "      background-color: #434B5C;\n",
              "      box-shadow: 0px 1px 3px 1px rgba(0, 0, 0, 0.15);\n",
              "      filter: drop-shadow(0px 1px 2px rgba(0, 0, 0, 0.3));\n",
              "      fill: #FFFFFF;\n",
              "    }\n",
              "  </style>\n",
              "\n",
              "    <script>\n",
              "      const buttonEl =\n",
              "        document.querySelector('#df-72b6b4a0-bf6c-4362-9257-95b36a2adcd6 button.colab-df-convert');\n",
              "      buttonEl.style.display =\n",
              "        google.colab.kernel.accessAllowed ? 'block' : 'none';\n",
              "\n",
              "      async function convertToInteractive(key) {\n",
              "        const element = document.querySelector('#df-72b6b4a0-bf6c-4362-9257-95b36a2adcd6');\n",
              "        const dataTable =\n",
              "          await google.colab.kernel.invokeFunction('convertToInteractive',\n",
              "                                                    [key], {});\n",
              "        if (!dataTable) return;\n",
              "\n",
              "        const docLinkHtml = 'Like what you see? Visit the ' +\n",
              "          '<a target=\"_blank\" href=https://colab.research.google.com/notebooks/data_table.ipynb>data table notebook</a>'\n",
              "          + ' to learn more about interactive tables.';\n",
              "        element.innerHTML = '';\n",
              "        dataTable['output_type'] = 'display_data';\n",
              "        await google.colab.output.renderOutput(dataTable, element);\n",
              "        const docLink = document.createElement('div');\n",
              "        docLink.innerHTML = docLinkHtml;\n",
              "        element.appendChild(docLink);\n",
              "      }\n",
              "    </script>\n",
              "  </div>\n",
              "\n",
              "\n",
              "<div id=\"df-cebb5849-b5a1-4dbb-a7bd-d373b6f1ff2d\">\n",
              "  <button class=\"colab-df-quickchart\" onclick=\"quickchart('df-cebb5849-b5a1-4dbb-a7bd-d373b6f1ff2d')\"\n",
              "            title=\"Suggest charts.\"\n",
              "            style=\"display:none;\">\n",
              "\n",
              "<svg xmlns=\"http://www.w3.org/2000/svg\" height=\"24px\"viewBox=\"0 0 24 24\"\n",
              "     width=\"24px\">\n",
              "    <g>\n",
              "        <path d=\"M19 3H5c-1.1 0-2 .9-2 2v14c0 1.1.9 2 2 2h14c1.1 0 2-.9 2-2V5c0-1.1-.9-2-2-2zM9 17H7v-7h2v7zm4 0h-2V7h2v10zm4 0h-2v-4h2v4z\"/>\n",
              "    </g>\n",
              "</svg>\n",
              "  </button>\n",
              "\n",
              "<style>\n",
              "  .colab-df-quickchart {\n",
              "      --bg-color: #E8F0FE;\n",
              "      --fill-color: #1967D2;\n",
              "      --hover-bg-color: #E2EBFA;\n",
              "      --hover-fill-color: #174EA6;\n",
              "      --disabled-fill-color: #AAA;\n",
              "      --disabled-bg-color: #DDD;\n",
              "  }\n",
              "\n",
              "  [theme=dark] .colab-df-quickchart {\n",
              "      --bg-color: #3B4455;\n",
              "      --fill-color: #D2E3FC;\n",
              "      --hover-bg-color: #434B5C;\n",
              "      --hover-fill-color: #FFFFFF;\n",
              "      --disabled-bg-color: #3B4455;\n",
              "      --disabled-fill-color: #666;\n",
              "  }\n",
              "\n",
              "  .colab-df-quickchart {\n",
              "    background-color: var(--bg-color);\n",
              "    border: none;\n",
              "    border-radius: 50%;\n",
              "    cursor: pointer;\n",
              "    display: none;\n",
              "    fill: var(--fill-color);\n",
              "    height: 32px;\n",
              "    padding: 0;\n",
              "    width: 32px;\n",
              "  }\n",
              "\n",
              "  .colab-df-quickchart:hover {\n",
              "    background-color: var(--hover-bg-color);\n",
              "    box-shadow: 0 1px 2px rgba(60, 64, 67, 0.3), 0 1px 3px 1px rgba(60, 64, 67, 0.15);\n",
              "    fill: var(--button-hover-fill-color);\n",
              "  }\n",
              "\n",
              "  .colab-df-quickchart-complete:disabled,\n",
              "  .colab-df-quickchart-complete:disabled:hover {\n",
              "    background-color: var(--disabled-bg-color);\n",
              "    fill: var(--disabled-fill-color);\n",
              "    box-shadow: none;\n",
              "  }\n",
              "\n",
              "  .colab-df-spinner {\n",
              "    border: 2px solid var(--fill-color);\n",
              "    border-color: transparent;\n",
              "    border-bottom-color: var(--fill-color);\n",
              "    animation:\n",
              "      spin 1s steps(1) infinite;\n",
              "  }\n",
              "\n",
              "  @keyframes spin {\n",
              "    0% {\n",
              "      border-color: transparent;\n",
              "      border-bottom-color: var(--fill-color);\n",
              "      border-left-color: var(--fill-color);\n",
              "    }\n",
              "    20% {\n",
              "      border-color: transparent;\n",
              "      border-left-color: var(--fill-color);\n",
              "      border-top-color: var(--fill-color);\n",
              "    }\n",
              "    30% {\n",
              "      border-color: transparent;\n",
              "      border-left-color: var(--fill-color);\n",
              "      border-top-color: var(--fill-color);\n",
              "      border-right-color: var(--fill-color);\n",
              "    }\n",
              "    40% {\n",
              "      border-color: transparent;\n",
              "      border-right-color: var(--fill-color);\n",
              "      border-top-color: var(--fill-color);\n",
              "    }\n",
              "    60% {\n",
              "      border-color: transparent;\n",
              "      border-right-color: var(--fill-color);\n",
              "    }\n",
              "    80% {\n",
              "      border-color: transparent;\n",
              "      border-right-color: var(--fill-color);\n",
              "      border-bottom-color: var(--fill-color);\n",
              "    }\n",
              "    90% {\n",
              "      border-color: transparent;\n",
              "      border-bottom-color: var(--fill-color);\n",
              "    }\n",
              "  }\n",
              "</style>\n",
              "\n",
              "  <script>\n",
              "    async function quickchart(key) {\n",
              "      const quickchartButtonEl =\n",
              "        document.querySelector('#' + key + ' button');\n",
              "      quickchartButtonEl.disabled = true;  // To prevent multiple clicks.\n",
              "      quickchartButtonEl.classList.add('colab-df-spinner');\n",
              "      try {\n",
              "        const charts = await google.colab.kernel.invokeFunction(\n",
              "            'suggestCharts', [key], {});\n",
              "      } catch (error) {\n",
              "        console.error('Error during call to suggestCharts:', error);\n",
              "      }\n",
              "      quickchartButtonEl.classList.remove('colab-df-spinner');\n",
              "      quickchartButtonEl.classList.add('colab-df-quickchart-complete');\n",
              "    }\n",
              "    (() => {\n",
              "      let quickchartButtonEl =\n",
              "        document.querySelector('#df-cebb5849-b5a1-4dbb-a7bd-d373b6f1ff2d button');\n",
              "      quickchartButtonEl.style.display =\n",
              "        google.colab.kernel.accessAllowed ? 'block' : 'none';\n",
              "    })();\n",
              "  </script>\n",
              "</div>\n",
              "    </div>\n",
              "  </div>\n"
            ]
          },
          "metadata": {},
          "execution_count": 11
        }
      ]
    },
    {
      "cell_type": "code",
      "source": [
        "pd.options.display.max_colwidth=200"
      ],
      "metadata": {
        "id": "FWrPrNaHQ1UF"
      },
      "execution_count": 12,
      "outputs": []
    },
    {
      "cell_type": "code",
      "source": [
        "train_data[:2][[\"text\",\"target\"]]"
      ],
      "metadata": {
        "colab": {
          "base_uri": "https://localhost:8080/",
          "height": 112
        },
        "id": "WbUylfuiPcnm",
        "outputId": "675b9b85-475b-47fd-b9b3-6295dd8cd9dd"
      },
      "execution_count": 13,
      "outputs": [
        {
          "output_type": "execute_result",
          "data": {
            "text/plain": [
              "                                                                    text  \\\n",
              "0  Our Deeds are the Reason of this #earthquake May ALLAH Forgive us all   \n",
              "1                                 Forest fire near La Ronge Sask. Canada   \n",
              "\n",
              "   target  \n",
              "0       1  \n",
              "1       1  "
            ],
            "text/html": [
              "\n",
              "  <div id=\"df-5b0ff418-67b6-4eea-b4f7-d8cc5d3451d5\" class=\"colab-df-container\">\n",
              "    <div>\n",
              "<style scoped>\n",
              "    .dataframe tbody tr th:only-of-type {\n",
              "        vertical-align: middle;\n",
              "    }\n",
              "\n",
              "    .dataframe tbody tr th {\n",
              "        vertical-align: top;\n",
              "    }\n",
              "\n",
              "    .dataframe thead th {\n",
              "        text-align: right;\n",
              "    }\n",
              "</style>\n",
              "<table border=\"1\" class=\"dataframe\">\n",
              "  <thead>\n",
              "    <tr style=\"text-align: right;\">\n",
              "      <th></th>\n",
              "      <th>text</th>\n",
              "      <th>target</th>\n",
              "    </tr>\n",
              "  </thead>\n",
              "  <tbody>\n",
              "    <tr>\n",
              "      <th>0</th>\n",
              "      <td>Our Deeds are the Reason of this #earthquake May ALLAH Forgive us all</td>\n",
              "      <td>1</td>\n",
              "    </tr>\n",
              "    <tr>\n",
              "      <th>1</th>\n",
              "      <td>Forest fire near La Ronge Sask. Canada</td>\n",
              "      <td>1</td>\n",
              "    </tr>\n",
              "  </tbody>\n",
              "</table>\n",
              "</div>\n",
              "    <div class=\"colab-df-buttons\">\n",
              "\n",
              "  <div class=\"colab-df-container\">\n",
              "    <button class=\"colab-df-convert\" onclick=\"convertToInteractive('df-5b0ff418-67b6-4eea-b4f7-d8cc5d3451d5')\"\n",
              "            title=\"Convert this dataframe to an interactive table.\"\n",
              "            style=\"display:none;\">\n",
              "\n",
              "  <svg xmlns=\"http://www.w3.org/2000/svg\" height=\"24px\" viewBox=\"0 -960 960 960\">\n",
              "    <path d=\"M120-120v-720h720v720H120Zm60-500h600v-160H180v160Zm220 220h160v-160H400v160Zm0 220h160v-160H400v160ZM180-400h160v-160H180v160Zm440 0h160v-160H620v160ZM180-180h160v-160H180v160Zm440 0h160v-160H620v160Z\"/>\n",
              "  </svg>\n",
              "    </button>\n",
              "\n",
              "  <style>\n",
              "    .colab-df-container {\n",
              "      display:flex;\n",
              "      gap: 12px;\n",
              "    }\n",
              "\n",
              "    .colab-df-convert {\n",
              "      background-color: #E8F0FE;\n",
              "      border: none;\n",
              "      border-radius: 50%;\n",
              "      cursor: pointer;\n",
              "      display: none;\n",
              "      fill: #1967D2;\n",
              "      height: 32px;\n",
              "      padding: 0 0 0 0;\n",
              "      width: 32px;\n",
              "    }\n",
              "\n",
              "    .colab-df-convert:hover {\n",
              "      background-color: #E2EBFA;\n",
              "      box-shadow: 0px 1px 2px rgba(60, 64, 67, 0.3), 0px 1px 3px 1px rgba(60, 64, 67, 0.15);\n",
              "      fill: #174EA6;\n",
              "    }\n",
              "\n",
              "    .colab-df-buttons div {\n",
              "      margin-bottom: 4px;\n",
              "    }\n",
              "\n",
              "    [theme=dark] .colab-df-convert {\n",
              "      background-color: #3B4455;\n",
              "      fill: #D2E3FC;\n",
              "    }\n",
              "\n",
              "    [theme=dark] .colab-df-convert:hover {\n",
              "      background-color: #434B5C;\n",
              "      box-shadow: 0px 1px 3px 1px rgba(0, 0, 0, 0.15);\n",
              "      filter: drop-shadow(0px 1px 2px rgba(0, 0, 0, 0.3));\n",
              "      fill: #FFFFFF;\n",
              "    }\n",
              "  </style>\n",
              "\n",
              "    <script>\n",
              "      const buttonEl =\n",
              "        document.querySelector('#df-5b0ff418-67b6-4eea-b4f7-d8cc5d3451d5 button.colab-df-convert');\n",
              "      buttonEl.style.display =\n",
              "        google.colab.kernel.accessAllowed ? 'block' : 'none';\n",
              "\n",
              "      async function convertToInteractive(key) {\n",
              "        const element = document.querySelector('#df-5b0ff418-67b6-4eea-b4f7-d8cc5d3451d5');\n",
              "        const dataTable =\n",
              "          await google.colab.kernel.invokeFunction('convertToInteractive',\n",
              "                                                    [key], {});\n",
              "        if (!dataTable) return;\n",
              "\n",
              "        const docLinkHtml = 'Like what you see? Visit the ' +\n",
              "          '<a target=\"_blank\" href=https://colab.research.google.com/notebooks/data_table.ipynb>data table notebook</a>'\n",
              "          + ' to learn more about interactive tables.';\n",
              "        element.innerHTML = '';\n",
              "        dataTable['output_type'] = 'display_data';\n",
              "        await google.colab.output.renderOutput(dataTable, element);\n",
              "        const docLink = document.createElement('div');\n",
              "        docLink.innerHTML = docLinkHtml;\n",
              "        element.appendChild(docLink);\n",
              "      }\n",
              "    </script>\n",
              "  </div>\n",
              "\n",
              "\n",
              "<div id=\"df-ef3ca737-0a33-4dc2-9fe4-1c29dd1f6b31\">\n",
              "  <button class=\"colab-df-quickchart\" onclick=\"quickchart('df-ef3ca737-0a33-4dc2-9fe4-1c29dd1f6b31')\"\n",
              "            title=\"Suggest charts.\"\n",
              "            style=\"display:none;\">\n",
              "\n",
              "<svg xmlns=\"http://www.w3.org/2000/svg\" height=\"24px\"viewBox=\"0 0 24 24\"\n",
              "     width=\"24px\">\n",
              "    <g>\n",
              "        <path d=\"M19 3H5c-1.1 0-2 .9-2 2v14c0 1.1.9 2 2 2h14c1.1 0 2-.9 2-2V5c0-1.1-.9-2-2-2zM9 17H7v-7h2v7zm4 0h-2V7h2v10zm4 0h-2v-4h2v4z\"/>\n",
              "    </g>\n",
              "</svg>\n",
              "  </button>\n",
              "\n",
              "<style>\n",
              "  .colab-df-quickchart {\n",
              "      --bg-color: #E8F0FE;\n",
              "      --fill-color: #1967D2;\n",
              "      --hover-bg-color: #E2EBFA;\n",
              "      --hover-fill-color: #174EA6;\n",
              "      --disabled-fill-color: #AAA;\n",
              "      --disabled-bg-color: #DDD;\n",
              "  }\n",
              "\n",
              "  [theme=dark] .colab-df-quickchart {\n",
              "      --bg-color: #3B4455;\n",
              "      --fill-color: #D2E3FC;\n",
              "      --hover-bg-color: #434B5C;\n",
              "      --hover-fill-color: #FFFFFF;\n",
              "      --disabled-bg-color: #3B4455;\n",
              "      --disabled-fill-color: #666;\n",
              "  }\n",
              "\n",
              "  .colab-df-quickchart {\n",
              "    background-color: var(--bg-color);\n",
              "    border: none;\n",
              "    border-radius: 50%;\n",
              "    cursor: pointer;\n",
              "    display: none;\n",
              "    fill: var(--fill-color);\n",
              "    height: 32px;\n",
              "    padding: 0;\n",
              "    width: 32px;\n",
              "  }\n",
              "\n",
              "  .colab-df-quickchart:hover {\n",
              "    background-color: var(--hover-bg-color);\n",
              "    box-shadow: 0 1px 2px rgba(60, 64, 67, 0.3), 0 1px 3px 1px rgba(60, 64, 67, 0.15);\n",
              "    fill: var(--button-hover-fill-color);\n",
              "  }\n",
              "\n",
              "  .colab-df-quickchart-complete:disabled,\n",
              "  .colab-df-quickchart-complete:disabled:hover {\n",
              "    background-color: var(--disabled-bg-color);\n",
              "    fill: var(--disabled-fill-color);\n",
              "    box-shadow: none;\n",
              "  }\n",
              "\n",
              "  .colab-df-spinner {\n",
              "    border: 2px solid var(--fill-color);\n",
              "    border-color: transparent;\n",
              "    border-bottom-color: var(--fill-color);\n",
              "    animation:\n",
              "      spin 1s steps(1) infinite;\n",
              "  }\n",
              "\n",
              "  @keyframes spin {\n",
              "    0% {\n",
              "      border-color: transparent;\n",
              "      border-bottom-color: var(--fill-color);\n",
              "      border-left-color: var(--fill-color);\n",
              "    }\n",
              "    20% {\n",
              "      border-color: transparent;\n",
              "      border-left-color: var(--fill-color);\n",
              "      border-top-color: var(--fill-color);\n",
              "    }\n",
              "    30% {\n",
              "      border-color: transparent;\n",
              "      border-left-color: var(--fill-color);\n",
              "      border-top-color: var(--fill-color);\n",
              "      border-right-color: var(--fill-color);\n",
              "    }\n",
              "    40% {\n",
              "      border-color: transparent;\n",
              "      border-right-color: var(--fill-color);\n",
              "      border-top-color: var(--fill-color);\n",
              "    }\n",
              "    60% {\n",
              "      border-color: transparent;\n",
              "      border-right-color: var(--fill-color);\n",
              "    }\n",
              "    80% {\n",
              "      border-color: transparent;\n",
              "      border-right-color: var(--fill-color);\n",
              "      border-bottom-color: var(--fill-color);\n",
              "    }\n",
              "    90% {\n",
              "      border-color: transparent;\n",
              "      border-bottom-color: var(--fill-color);\n",
              "    }\n",
              "  }\n",
              "</style>\n",
              "\n",
              "  <script>\n",
              "    async function quickchart(key) {\n",
              "      const quickchartButtonEl =\n",
              "        document.querySelector('#' + key + ' button');\n",
              "      quickchartButtonEl.disabled = true;  // To prevent multiple clicks.\n",
              "      quickchartButtonEl.classList.add('colab-df-spinner');\n",
              "      try {\n",
              "        const charts = await google.colab.kernel.invokeFunction(\n",
              "            'suggestCharts', [key], {});\n",
              "      } catch (error) {\n",
              "        console.error('Error during call to suggestCharts:', error);\n",
              "      }\n",
              "      quickchartButtonEl.classList.remove('colab-df-spinner');\n",
              "      quickchartButtonEl.classList.add('colab-df-quickchart-complete');\n",
              "    }\n",
              "    (() => {\n",
              "      let quickchartButtonEl =\n",
              "        document.querySelector('#df-ef3ca737-0a33-4dc2-9fe4-1c29dd1f6b31 button');\n",
              "      quickchartButtonEl.style.display =\n",
              "        google.colab.kernel.accessAllowed ? 'block' : 'none';\n",
              "    })();\n",
              "  </script>\n",
              "</div>\n",
              "    </div>\n",
              "  </div>\n"
            ]
          },
          "metadata": {},
          "execution_count": 13
        }
      ]
    },
    {
      "cell_type": "code",
      "source": [
        "train_data[\"target\"].value_counts()"
      ],
      "metadata": {
        "colab": {
          "base_uri": "https://localhost:8080/"
        },
        "id": "yNenFkH5PpQp",
        "outputId": "ad176516-9810-48c8-dbf3-78b06b5febb3"
      },
      "execution_count": 14,
      "outputs": [
        {
          "output_type": "execute_result",
          "data": {
            "text/plain": [
              "0    4342\n",
              "1    3271\n",
              "Name: target, dtype: int64"
            ]
          },
          "metadata": {},
          "execution_count": 14
        }
      ]
    },
    {
      "cell_type": "code",
      "source": [
        "train_data.tail()"
      ],
      "metadata": {
        "colab": {
          "base_uri": "https://localhost:8080/",
          "height": 241
        },
        "id": "8tRXGiEAP5ru",
        "outputId": "0f3ce0e9-4be2-440b-d844-75152172c3ec"
      },
      "execution_count": 15,
      "outputs": [
        {
          "output_type": "execute_result",
          "data": {
            "text/plain": [
              "         id keyword location  \\\n",
              "7608  10869     NaN      NaN   \n",
              "7609  10870     NaN      NaN   \n",
              "7610  10871     NaN      NaN   \n",
              "7611  10872     NaN      NaN   \n",
              "7612  10873     NaN      NaN   \n",
              "\n",
              "                                                                                                                                           text  \\\n",
              "7608                                                        Two giant cranes holding a bridge collapse into nearby homes http://t.co/STfMbbZFB5   \n",
              "7609              @aria_ahrary @TheTawniest The out of control wild fires in California even in the Northern part of the state. Very troubling.   \n",
              "7610                                                                          M1.94 [01:04 UTC]?5km S of Volcano Hawaii. http://t.co/zDtoyd8EbJ   \n",
              "7611  Police investigating after an e-bike collided with a car in Little Portugal. E-bike rider suffered serious non-life threatening injuries.   \n",
              "7612                                             The Latest: More Homes Razed by Northern California Wildfire - ABC News http://t.co/YmY4rSkQ3d   \n",
              "\n",
              "      target  \n",
              "7608       1  \n",
              "7609       1  \n",
              "7610       1  \n",
              "7611       1  \n",
              "7612       1  "
            ],
            "text/html": [
              "\n",
              "  <div id=\"df-7c94c1d3-45da-40f6-b9d4-e372367c63ec\" class=\"colab-df-container\">\n",
              "    <div>\n",
              "<style scoped>\n",
              "    .dataframe tbody tr th:only-of-type {\n",
              "        vertical-align: middle;\n",
              "    }\n",
              "\n",
              "    .dataframe tbody tr th {\n",
              "        vertical-align: top;\n",
              "    }\n",
              "\n",
              "    .dataframe thead th {\n",
              "        text-align: right;\n",
              "    }\n",
              "</style>\n",
              "<table border=\"1\" class=\"dataframe\">\n",
              "  <thead>\n",
              "    <tr style=\"text-align: right;\">\n",
              "      <th></th>\n",
              "      <th>id</th>\n",
              "      <th>keyword</th>\n",
              "      <th>location</th>\n",
              "      <th>text</th>\n",
              "      <th>target</th>\n",
              "    </tr>\n",
              "  </thead>\n",
              "  <tbody>\n",
              "    <tr>\n",
              "      <th>7608</th>\n",
              "      <td>10869</td>\n",
              "      <td>NaN</td>\n",
              "      <td>NaN</td>\n",
              "      <td>Two giant cranes holding a bridge collapse into nearby homes http://t.co/STfMbbZFB5</td>\n",
              "      <td>1</td>\n",
              "    </tr>\n",
              "    <tr>\n",
              "      <th>7609</th>\n",
              "      <td>10870</td>\n",
              "      <td>NaN</td>\n",
              "      <td>NaN</td>\n",
              "      <td>@aria_ahrary @TheTawniest The out of control wild fires in California even in the Northern part of the state. Very troubling.</td>\n",
              "      <td>1</td>\n",
              "    </tr>\n",
              "    <tr>\n",
              "      <th>7610</th>\n",
              "      <td>10871</td>\n",
              "      <td>NaN</td>\n",
              "      <td>NaN</td>\n",
              "      <td>M1.94 [01:04 UTC]?5km S of Volcano Hawaii. http://t.co/zDtoyd8EbJ</td>\n",
              "      <td>1</td>\n",
              "    </tr>\n",
              "    <tr>\n",
              "      <th>7611</th>\n",
              "      <td>10872</td>\n",
              "      <td>NaN</td>\n",
              "      <td>NaN</td>\n",
              "      <td>Police investigating after an e-bike collided with a car in Little Portugal. E-bike rider suffered serious non-life threatening injuries.</td>\n",
              "      <td>1</td>\n",
              "    </tr>\n",
              "    <tr>\n",
              "      <th>7612</th>\n",
              "      <td>10873</td>\n",
              "      <td>NaN</td>\n",
              "      <td>NaN</td>\n",
              "      <td>The Latest: More Homes Razed by Northern California Wildfire - ABC News http://t.co/YmY4rSkQ3d</td>\n",
              "      <td>1</td>\n",
              "    </tr>\n",
              "  </tbody>\n",
              "</table>\n",
              "</div>\n",
              "    <div class=\"colab-df-buttons\">\n",
              "\n",
              "  <div class=\"colab-df-container\">\n",
              "    <button class=\"colab-df-convert\" onclick=\"convertToInteractive('df-7c94c1d3-45da-40f6-b9d4-e372367c63ec')\"\n",
              "            title=\"Convert this dataframe to an interactive table.\"\n",
              "            style=\"display:none;\">\n",
              "\n",
              "  <svg xmlns=\"http://www.w3.org/2000/svg\" height=\"24px\" viewBox=\"0 -960 960 960\">\n",
              "    <path d=\"M120-120v-720h720v720H120Zm60-500h600v-160H180v160Zm220 220h160v-160H400v160Zm0 220h160v-160H400v160ZM180-400h160v-160H180v160Zm440 0h160v-160H620v160ZM180-180h160v-160H180v160Zm440 0h160v-160H620v160Z\"/>\n",
              "  </svg>\n",
              "    </button>\n",
              "\n",
              "  <style>\n",
              "    .colab-df-container {\n",
              "      display:flex;\n",
              "      gap: 12px;\n",
              "    }\n",
              "\n",
              "    .colab-df-convert {\n",
              "      background-color: #E8F0FE;\n",
              "      border: none;\n",
              "      border-radius: 50%;\n",
              "      cursor: pointer;\n",
              "      display: none;\n",
              "      fill: #1967D2;\n",
              "      height: 32px;\n",
              "      padding: 0 0 0 0;\n",
              "      width: 32px;\n",
              "    }\n",
              "\n",
              "    .colab-df-convert:hover {\n",
              "      background-color: #E2EBFA;\n",
              "      box-shadow: 0px 1px 2px rgba(60, 64, 67, 0.3), 0px 1px 3px 1px rgba(60, 64, 67, 0.15);\n",
              "      fill: #174EA6;\n",
              "    }\n",
              "\n",
              "    .colab-df-buttons div {\n",
              "      margin-bottom: 4px;\n",
              "    }\n",
              "\n",
              "    [theme=dark] .colab-df-convert {\n",
              "      background-color: #3B4455;\n",
              "      fill: #D2E3FC;\n",
              "    }\n",
              "\n",
              "    [theme=dark] .colab-df-convert:hover {\n",
              "      background-color: #434B5C;\n",
              "      box-shadow: 0px 1px 3px 1px rgba(0, 0, 0, 0.15);\n",
              "      filter: drop-shadow(0px 1px 2px rgba(0, 0, 0, 0.3));\n",
              "      fill: #FFFFFF;\n",
              "    }\n",
              "  </style>\n",
              "\n",
              "    <script>\n",
              "      const buttonEl =\n",
              "        document.querySelector('#df-7c94c1d3-45da-40f6-b9d4-e372367c63ec button.colab-df-convert');\n",
              "      buttonEl.style.display =\n",
              "        google.colab.kernel.accessAllowed ? 'block' : 'none';\n",
              "\n",
              "      async function convertToInteractive(key) {\n",
              "        const element = document.querySelector('#df-7c94c1d3-45da-40f6-b9d4-e372367c63ec');\n",
              "        const dataTable =\n",
              "          await google.colab.kernel.invokeFunction('convertToInteractive',\n",
              "                                                    [key], {});\n",
              "        if (!dataTable) return;\n",
              "\n",
              "        const docLinkHtml = 'Like what you see? Visit the ' +\n",
              "          '<a target=\"_blank\" href=https://colab.research.google.com/notebooks/data_table.ipynb>data table notebook</a>'\n",
              "          + ' to learn more about interactive tables.';\n",
              "        element.innerHTML = '';\n",
              "        dataTable['output_type'] = 'display_data';\n",
              "        await google.colab.output.renderOutput(dataTable, element);\n",
              "        const docLink = document.createElement('div');\n",
              "        docLink.innerHTML = docLinkHtml;\n",
              "        element.appendChild(docLink);\n",
              "      }\n",
              "    </script>\n",
              "  </div>\n",
              "\n",
              "\n",
              "<div id=\"df-a286c5b0-3bad-49fa-87bf-ff7b22f59220\">\n",
              "  <button class=\"colab-df-quickchart\" onclick=\"quickchart('df-a286c5b0-3bad-49fa-87bf-ff7b22f59220')\"\n",
              "            title=\"Suggest charts.\"\n",
              "            style=\"display:none;\">\n",
              "\n",
              "<svg xmlns=\"http://www.w3.org/2000/svg\" height=\"24px\"viewBox=\"0 0 24 24\"\n",
              "     width=\"24px\">\n",
              "    <g>\n",
              "        <path d=\"M19 3H5c-1.1 0-2 .9-2 2v14c0 1.1.9 2 2 2h14c1.1 0 2-.9 2-2V5c0-1.1-.9-2-2-2zM9 17H7v-7h2v7zm4 0h-2V7h2v10zm4 0h-2v-4h2v4z\"/>\n",
              "    </g>\n",
              "</svg>\n",
              "  </button>\n",
              "\n",
              "<style>\n",
              "  .colab-df-quickchart {\n",
              "      --bg-color: #E8F0FE;\n",
              "      --fill-color: #1967D2;\n",
              "      --hover-bg-color: #E2EBFA;\n",
              "      --hover-fill-color: #174EA6;\n",
              "      --disabled-fill-color: #AAA;\n",
              "      --disabled-bg-color: #DDD;\n",
              "  }\n",
              "\n",
              "  [theme=dark] .colab-df-quickchart {\n",
              "      --bg-color: #3B4455;\n",
              "      --fill-color: #D2E3FC;\n",
              "      --hover-bg-color: #434B5C;\n",
              "      --hover-fill-color: #FFFFFF;\n",
              "      --disabled-bg-color: #3B4455;\n",
              "      --disabled-fill-color: #666;\n",
              "  }\n",
              "\n",
              "  .colab-df-quickchart {\n",
              "    background-color: var(--bg-color);\n",
              "    border: none;\n",
              "    border-radius: 50%;\n",
              "    cursor: pointer;\n",
              "    display: none;\n",
              "    fill: var(--fill-color);\n",
              "    height: 32px;\n",
              "    padding: 0;\n",
              "    width: 32px;\n",
              "  }\n",
              "\n",
              "  .colab-df-quickchart:hover {\n",
              "    background-color: var(--hover-bg-color);\n",
              "    box-shadow: 0 1px 2px rgba(60, 64, 67, 0.3), 0 1px 3px 1px rgba(60, 64, 67, 0.15);\n",
              "    fill: var(--button-hover-fill-color);\n",
              "  }\n",
              "\n",
              "  .colab-df-quickchart-complete:disabled,\n",
              "  .colab-df-quickchart-complete:disabled:hover {\n",
              "    background-color: var(--disabled-bg-color);\n",
              "    fill: var(--disabled-fill-color);\n",
              "    box-shadow: none;\n",
              "  }\n",
              "\n",
              "  .colab-df-spinner {\n",
              "    border: 2px solid var(--fill-color);\n",
              "    border-color: transparent;\n",
              "    border-bottom-color: var(--fill-color);\n",
              "    animation:\n",
              "      spin 1s steps(1) infinite;\n",
              "  }\n",
              "\n",
              "  @keyframes spin {\n",
              "    0% {\n",
              "      border-color: transparent;\n",
              "      border-bottom-color: var(--fill-color);\n",
              "      border-left-color: var(--fill-color);\n",
              "    }\n",
              "    20% {\n",
              "      border-color: transparent;\n",
              "      border-left-color: var(--fill-color);\n",
              "      border-top-color: var(--fill-color);\n",
              "    }\n",
              "    30% {\n",
              "      border-color: transparent;\n",
              "      border-left-color: var(--fill-color);\n",
              "      border-top-color: var(--fill-color);\n",
              "      border-right-color: var(--fill-color);\n",
              "    }\n",
              "    40% {\n",
              "      border-color: transparent;\n",
              "      border-right-color: var(--fill-color);\n",
              "      border-top-color: var(--fill-color);\n",
              "    }\n",
              "    60% {\n",
              "      border-color: transparent;\n",
              "      border-right-color: var(--fill-color);\n",
              "    }\n",
              "    80% {\n",
              "      border-color: transparent;\n",
              "      border-right-color: var(--fill-color);\n",
              "      border-bottom-color: var(--fill-color);\n",
              "    }\n",
              "    90% {\n",
              "      border-color: transparent;\n",
              "      border-bottom-color: var(--fill-color);\n",
              "    }\n",
              "  }\n",
              "</style>\n",
              "\n",
              "  <script>\n",
              "    async function quickchart(key) {\n",
              "      const quickchartButtonEl =\n",
              "        document.querySelector('#' + key + ' button');\n",
              "      quickchartButtonEl.disabled = true;  // To prevent multiple clicks.\n",
              "      quickchartButtonEl.classList.add('colab-df-spinner');\n",
              "      try {\n",
              "        const charts = await google.colab.kernel.invokeFunction(\n",
              "            'suggestCharts', [key], {});\n",
              "      } catch (error) {\n",
              "        console.error('Error during call to suggestCharts:', error);\n",
              "      }\n",
              "      quickchartButtonEl.classList.remove('colab-df-spinner');\n",
              "      quickchartButtonEl.classList.add('colab-df-quickchart-complete');\n",
              "    }\n",
              "    (() => {\n",
              "      let quickchartButtonEl =\n",
              "        document.querySelector('#df-a286c5b0-3bad-49fa-87bf-ff7b22f59220 button');\n",
              "      quickchartButtonEl.style.display =\n",
              "        google.colab.kernel.accessAllowed ? 'block' : 'none';\n",
              "    })();\n",
              "  </script>\n",
              "</div>\n",
              "    </div>\n",
              "  </div>\n"
            ]
          },
          "metadata": {},
          "execution_count": 15
        }
      ]
    },
    {
      "cell_type": "code",
      "source": [
        "print(len(train_data))"
      ],
      "metadata": {
        "colab": {
          "base_uri": "https://localhost:8080/"
        },
        "id": "Bf0sIrGcR37a",
        "outputId": "57ab8e3b-c0b4-45c3-c23c-be1ffc641148"
      },
      "execution_count": 16,
      "outputs": [
        {
          "output_type": "stream",
          "name": "stdout",
          "text": [
            "7613\n"
          ]
        }
      ]
    },
    {
      "cell_type": "code",
      "source": [
        "train_data.info()"
      ],
      "metadata": {
        "colab": {
          "base_uri": "https://localhost:8080/"
        },
        "id": "CJHpj4HLR9G2",
        "outputId": "4467a93f-9c6c-4c93-dee6-6d0e9d6cbb4d"
      },
      "execution_count": 17,
      "outputs": [
        {
          "output_type": "stream",
          "name": "stdout",
          "text": [
            "<class 'pandas.core.frame.DataFrame'>\n",
            "RangeIndex: 7613 entries, 0 to 7612\n",
            "Data columns (total 5 columns):\n",
            " #   Column    Non-Null Count  Dtype \n",
            "---  ------    --------------  ----- \n",
            " 0   id        7613 non-null   int64 \n",
            " 1   keyword   7552 non-null   object\n",
            " 2   location  5080 non-null   object\n",
            " 3   text      7613 non-null   object\n",
            " 4   target    7613 non-null   int64 \n",
            "dtypes: int64(2), object(3)\n",
            "memory usage: 297.5+ KB\n"
          ]
        }
      ]
    },
    {
      "cell_type": "code",
      "source": [
        "pd.options.display.max_dir_items=200"
      ],
      "metadata": {
        "id": "S-V28s30TCUG"
      },
      "execution_count": 18,
      "outputs": []
    },
    {
      "cell_type": "code",
      "source": [
        "train_data[\"keyword\"].isnull().value_counts()"
      ],
      "metadata": {
        "colab": {
          "base_uri": "https://localhost:8080/"
        },
        "id": "slMBDNLwSAON",
        "outputId": "17a77071-1a09-4d18-a9db-cb4ae54b04c8"
      },
      "execution_count": 19,
      "outputs": [
        {
          "output_type": "execute_result",
          "data": {
            "text/plain": [
              "False    7552\n",
              "True       61\n",
              "Name: keyword, dtype: int64"
            ]
          },
          "metadata": {},
          "execution_count": 19
        }
      ]
    },
    {
      "cell_type": "code",
      "source": [
        "train_data[100:105]"
      ],
      "metadata": {
        "colab": {
          "base_uri": "https://localhost:8080/",
          "height": 293
        },
        "id": "xHqoAlAYS1bf",
        "outputId": "6dc8b001-234a-4521-b502-cb1d7a4c74ec"
      },
      "execution_count": 20,
      "outputs": [
        {
          "output_type": "execute_result",
          "data": {
            "text/plain": [
              "      id     keyword                  location  \\\n",
              "100  144    accident                        UK   \n",
              "101  145    accident            Nairobi, Kenya   \n",
              "102  146  aftershock  Instagram - @heyimginog    \n",
              "103  149  aftershock                       304   \n",
              "104  151  aftershock               Switzerland   \n",
              "\n",
              "                                                                                                                                            text  \\\n",
              "100                 .@NorwayMFA #Bahrain police had previously died in a road accident they were not killed by explosion https://t.co/gFJfgTodad   \n",
              "101  I still have not heard Church Leaders of Kenya coming forward to comment on the accident issue and disciplinary measures#ArrestPastorNganga   \n",
              "102                                                                                            @afterShock_DeLo scuf ps live and the game... cya   \n",
              "103                              'The man who can drive himself further once the effort gets painful is the man who will win.' \\nRoger Bannister   \n",
              "104   320 [IR] ICEMOON [AFTERSHOCK] | http://t.co/yNXnvVKCDA | @djicemoon | #Dubstep #TrapMusic #DnB #EDM #Dance #IcesÛ_ http://t.co/weQPesENku   \n",
              "\n",
              "     target  \n",
              "100       1  \n",
              "101       0  \n",
              "102       0  \n",
              "103       0  \n",
              "104       0  "
            ],
            "text/html": [
              "\n",
              "  <div id=\"df-c0304c05-527a-4676-a7b5-df801363fe71\" class=\"colab-df-container\">\n",
              "    <div>\n",
              "<style scoped>\n",
              "    .dataframe tbody tr th:only-of-type {\n",
              "        vertical-align: middle;\n",
              "    }\n",
              "\n",
              "    .dataframe tbody tr th {\n",
              "        vertical-align: top;\n",
              "    }\n",
              "\n",
              "    .dataframe thead th {\n",
              "        text-align: right;\n",
              "    }\n",
              "</style>\n",
              "<table border=\"1\" class=\"dataframe\">\n",
              "  <thead>\n",
              "    <tr style=\"text-align: right;\">\n",
              "      <th></th>\n",
              "      <th>id</th>\n",
              "      <th>keyword</th>\n",
              "      <th>location</th>\n",
              "      <th>text</th>\n",
              "      <th>target</th>\n",
              "    </tr>\n",
              "  </thead>\n",
              "  <tbody>\n",
              "    <tr>\n",
              "      <th>100</th>\n",
              "      <td>144</td>\n",
              "      <td>accident</td>\n",
              "      <td>UK</td>\n",
              "      <td>.@NorwayMFA #Bahrain police had previously died in a road accident they were not killed by explosion https://t.co/gFJfgTodad</td>\n",
              "      <td>1</td>\n",
              "    </tr>\n",
              "    <tr>\n",
              "      <th>101</th>\n",
              "      <td>145</td>\n",
              "      <td>accident</td>\n",
              "      <td>Nairobi, Kenya</td>\n",
              "      <td>I still have not heard Church Leaders of Kenya coming forward to comment on the accident issue and disciplinary measures#ArrestPastorNganga</td>\n",
              "      <td>0</td>\n",
              "    </tr>\n",
              "    <tr>\n",
              "      <th>102</th>\n",
              "      <td>146</td>\n",
              "      <td>aftershock</td>\n",
              "      <td>Instagram - @heyimginog</td>\n",
              "      <td>@afterShock_DeLo scuf ps live and the game... cya</td>\n",
              "      <td>0</td>\n",
              "    </tr>\n",
              "    <tr>\n",
              "      <th>103</th>\n",
              "      <td>149</td>\n",
              "      <td>aftershock</td>\n",
              "      <td>304</td>\n",
              "      <td>'The man who can drive himself further once the effort gets painful is the man who will win.' \\nRoger Bannister</td>\n",
              "      <td>0</td>\n",
              "    </tr>\n",
              "    <tr>\n",
              "      <th>104</th>\n",
              "      <td>151</td>\n",
              "      <td>aftershock</td>\n",
              "      <td>Switzerland</td>\n",
              "      <td>320 [IR] ICEMOON [AFTERSHOCK] | http://t.co/yNXnvVKCDA | @djicemoon | #Dubstep #TrapMusic #DnB #EDM #Dance #IcesÛ_ http://t.co/weQPesENku</td>\n",
              "      <td>0</td>\n",
              "    </tr>\n",
              "  </tbody>\n",
              "</table>\n",
              "</div>\n",
              "    <div class=\"colab-df-buttons\">\n",
              "\n",
              "  <div class=\"colab-df-container\">\n",
              "    <button class=\"colab-df-convert\" onclick=\"convertToInteractive('df-c0304c05-527a-4676-a7b5-df801363fe71')\"\n",
              "            title=\"Convert this dataframe to an interactive table.\"\n",
              "            style=\"display:none;\">\n",
              "\n",
              "  <svg xmlns=\"http://www.w3.org/2000/svg\" height=\"24px\" viewBox=\"0 -960 960 960\">\n",
              "    <path d=\"M120-120v-720h720v720H120Zm60-500h600v-160H180v160Zm220 220h160v-160H400v160Zm0 220h160v-160H400v160ZM180-400h160v-160H180v160Zm440 0h160v-160H620v160ZM180-180h160v-160H180v160Zm440 0h160v-160H620v160Z\"/>\n",
              "  </svg>\n",
              "    </button>\n",
              "\n",
              "  <style>\n",
              "    .colab-df-container {\n",
              "      display:flex;\n",
              "      gap: 12px;\n",
              "    }\n",
              "\n",
              "    .colab-df-convert {\n",
              "      background-color: #E8F0FE;\n",
              "      border: none;\n",
              "      border-radius: 50%;\n",
              "      cursor: pointer;\n",
              "      display: none;\n",
              "      fill: #1967D2;\n",
              "      height: 32px;\n",
              "      padding: 0 0 0 0;\n",
              "      width: 32px;\n",
              "    }\n",
              "\n",
              "    .colab-df-convert:hover {\n",
              "      background-color: #E2EBFA;\n",
              "      box-shadow: 0px 1px 2px rgba(60, 64, 67, 0.3), 0px 1px 3px 1px rgba(60, 64, 67, 0.15);\n",
              "      fill: #174EA6;\n",
              "    }\n",
              "\n",
              "    .colab-df-buttons div {\n",
              "      margin-bottom: 4px;\n",
              "    }\n",
              "\n",
              "    [theme=dark] .colab-df-convert {\n",
              "      background-color: #3B4455;\n",
              "      fill: #D2E3FC;\n",
              "    }\n",
              "\n",
              "    [theme=dark] .colab-df-convert:hover {\n",
              "      background-color: #434B5C;\n",
              "      box-shadow: 0px 1px 3px 1px rgba(0, 0, 0, 0.15);\n",
              "      filter: drop-shadow(0px 1px 2px rgba(0, 0, 0, 0.3));\n",
              "      fill: #FFFFFF;\n",
              "    }\n",
              "  </style>\n",
              "\n",
              "    <script>\n",
              "      const buttonEl =\n",
              "        document.querySelector('#df-c0304c05-527a-4676-a7b5-df801363fe71 button.colab-df-convert');\n",
              "      buttonEl.style.display =\n",
              "        google.colab.kernel.accessAllowed ? 'block' : 'none';\n",
              "\n",
              "      async function convertToInteractive(key) {\n",
              "        const element = document.querySelector('#df-c0304c05-527a-4676-a7b5-df801363fe71');\n",
              "        const dataTable =\n",
              "          await google.colab.kernel.invokeFunction('convertToInteractive',\n",
              "                                                    [key], {});\n",
              "        if (!dataTable) return;\n",
              "\n",
              "        const docLinkHtml = 'Like what you see? Visit the ' +\n",
              "          '<a target=\"_blank\" href=https://colab.research.google.com/notebooks/data_table.ipynb>data table notebook</a>'\n",
              "          + ' to learn more about interactive tables.';\n",
              "        element.innerHTML = '';\n",
              "        dataTable['output_type'] = 'display_data';\n",
              "        await google.colab.output.renderOutput(dataTable, element);\n",
              "        const docLink = document.createElement('div');\n",
              "        docLink.innerHTML = docLinkHtml;\n",
              "        element.appendChild(docLink);\n",
              "      }\n",
              "    </script>\n",
              "  </div>\n",
              "\n",
              "\n",
              "<div id=\"df-4e6f4e66-9a2d-4a30-92af-d85a72addd16\">\n",
              "  <button class=\"colab-df-quickchart\" onclick=\"quickchart('df-4e6f4e66-9a2d-4a30-92af-d85a72addd16')\"\n",
              "            title=\"Suggest charts.\"\n",
              "            style=\"display:none;\">\n",
              "\n",
              "<svg xmlns=\"http://www.w3.org/2000/svg\" height=\"24px\"viewBox=\"0 0 24 24\"\n",
              "     width=\"24px\">\n",
              "    <g>\n",
              "        <path d=\"M19 3H5c-1.1 0-2 .9-2 2v14c0 1.1.9 2 2 2h14c1.1 0 2-.9 2-2V5c0-1.1-.9-2-2-2zM9 17H7v-7h2v7zm4 0h-2V7h2v10zm4 0h-2v-4h2v4z\"/>\n",
              "    </g>\n",
              "</svg>\n",
              "  </button>\n",
              "\n",
              "<style>\n",
              "  .colab-df-quickchart {\n",
              "      --bg-color: #E8F0FE;\n",
              "      --fill-color: #1967D2;\n",
              "      --hover-bg-color: #E2EBFA;\n",
              "      --hover-fill-color: #174EA6;\n",
              "      --disabled-fill-color: #AAA;\n",
              "      --disabled-bg-color: #DDD;\n",
              "  }\n",
              "\n",
              "  [theme=dark] .colab-df-quickchart {\n",
              "      --bg-color: #3B4455;\n",
              "      --fill-color: #D2E3FC;\n",
              "      --hover-bg-color: #434B5C;\n",
              "      --hover-fill-color: #FFFFFF;\n",
              "      --disabled-bg-color: #3B4455;\n",
              "      --disabled-fill-color: #666;\n",
              "  }\n",
              "\n",
              "  .colab-df-quickchart {\n",
              "    background-color: var(--bg-color);\n",
              "    border: none;\n",
              "    border-radius: 50%;\n",
              "    cursor: pointer;\n",
              "    display: none;\n",
              "    fill: var(--fill-color);\n",
              "    height: 32px;\n",
              "    padding: 0;\n",
              "    width: 32px;\n",
              "  }\n",
              "\n",
              "  .colab-df-quickchart:hover {\n",
              "    background-color: var(--hover-bg-color);\n",
              "    box-shadow: 0 1px 2px rgba(60, 64, 67, 0.3), 0 1px 3px 1px rgba(60, 64, 67, 0.15);\n",
              "    fill: var(--button-hover-fill-color);\n",
              "  }\n",
              "\n",
              "  .colab-df-quickchart-complete:disabled,\n",
              "  .colab-df-quickchart-complete:disabled:hover {\n",
              "    background-color: var(--disabled-bg-color);\n",
              "    fill: var(--disabled-fill-color);\n",
              "    box-shadow: none;\n",
              "  }\n",
              "\n",
              "  .colab-df-spinner {\n",
              "    border: 2px solid var(--fill-color);\n",
              "    border-color: transparent;\n",
              "    border-bottom-color: var(--fill-color);\n",
              "    animation:\n",
              "      spin 1s steps(1) infinite;\n",
              "  }\n",
              "\n",
              "  @keyframes spin {\n",
              "    0% {\n",
              "      border-color: transparent;\n",
              "      border-bottom-color: var(--fill-color);\n",
              "      border-left-color: var(--fill-color);\n",
              "    }\n",
              "    20% {\n",
              "      border-color: transparent;\n",
              "      border-left-color: var(--fill-color);\n",
              "      border-top-color: var(--fill-color);\n",
              "    }\n",
              "    30% {\n",
              "      border-color: transparent;\n",
              "      border-left-color: var(--fill-color);\n",
              "      border-top-color: var(--fill-color);\n",
              "      border-right-color: var(--fill-color);\n",
              "    }\n",
              "    40% {\n",
              "      border-color: transparent;\n",
              "      border-right-color: var(--fill-color);\n",
              "      border-top-color: var(--fill-color);\n",
              "    }\n",
              "    60% {\n",
              "      border-color: transparent;\n",
              "      border-right-color: var(--fill-color);\n",
              "    }\n",
              "    80% {\n",
              "      border-color: transparent;\n",
              "      border-right-color: var(--fill-color);\n",
              "      border-bottom-color: var(--fill-color);\n",
              "    }\n",
              "    90% {\n",
              "      border-color: transparent;\n",
              "      border-bottom-color: var(--fill-color);\n",
              "    }\n",
              "  }\n",
              "</style>\n",
              "\n",
              "  <script>\n",
              "    async function quickchart(key) {\n",
              "      const quickchartButtonEl =\n",
              "        document.querySelector('#' + key + ' button');\n",
              "      quickchartButtonEl.disabled = true;  // To prevent multiple clicks.\n",
              "      quickchartButtonEl.classList.add('colab-df-spinner');\n",
              "      try {\n",
              "        const charts = await google.colab.kernel.invokeFunction(\n",
              "            'suggestCharts', [key], {});\n",
              "      } catch (error) {\n",
              "        console.error('Error during call to suggestCharts:', error);\n",
              "      }\n",
              "      quickchartButtonEl.classList.remove('colab-df-spinner');\n",
              "      quickchartButtonEl.classList.add('colab-df-quickchart-complete');\n",
              "    }\n",
              "    (() => {\n",
              "      let quickchartButtonEl =\n",
              "        document.querySelector('#df-4e6f4e66-9a2d-4a30-92af-d85a72addd16 button');\n",
              "      quickchartButtonEl.style.display =\n",
              "        google.colab.kernel.accessAllowed ? 'block' : 'none';\n",
              "    })();\n",
              "  </script>\n",
              "</div>\n",
              "    </div>\n",
              "  </div>\n"
            ]
          },
          "metadata": {},
          "execution_count": 20
        }
      ]
    },
    {
      "cell_type": "markdown",
      "source": [
        "i think ,location and keyword,doesnt have any influenct on our prediction,so we will remove them from our dataset in future"
      ],
      "metadata": {
        "id": "h7F79d_DUWz2"
      }
    },
    {
      "cell_type": "code",
      "source": [
        "from sklearn.model_selection import train_test_split"
      ],
      "metadata": {
        "id": "TP_aDx4-TdNh"
      },
      "execution_count": 21,
      "outputs": []
    },
    {
      "cell_type": "code",
      "source": [
        "train_data = train_data.sample(frac=1,random_state=85)"
      ],
      "metadata": {
        "id": "zMyTDAg8cNs2"
      },
      "execution_count": 22,
      "outputs": []
    },
    {
      "cell_type": "code",
      "source": [
        "train_data"
      ],
      "metadata": {
        "colab": {
          "base_uri": "https://localhost:8080/",
          "height": 580
        },
        "id": "uFJg1IoPcWsl",
        "outputId": "479e35e0-fa7b-4d51-f67f-7261e07edfa8"
      },
      "execution_count": 23,
      "outputs": [
        {
          "output_type": "execute_result",
          "data": {
            "text/plain": [
              "         id       keyword                        location  \\\n",
              "6039   8633       seismic              Mogadishu, Somalia   \n",
              "1709   2465      collided                   San Francisco   \n",
              "2775   3992   devastation                             NaN   \n",
              "2511   3607    desolation             North East, England   \n",
              "5234   7480  obliteration                             NaN   \n",
              "...     ...           ...                             ...   \n",
              "7053  10106       typhoon                           Dhaka   \n",
              "1587   2292  cliff%20fall                  Lagos, Nigeria   \n",
              "5828   8321        rubble  Spain - China - Latin America.   \n",
              "5280   7545      outbreak                           Chile   \n",
              "4458   6341      hostages                             NaN   \n",
              "\n",
              "                                                                                                                                            text  \\\n",
              "6039                                        Exploration Takes Seismic Shift in #Gabon to #Somalia\\nhttp://t.co/Ltf6jL5keU http://t.co/Zlq8tHcTkW   \n",
              "1709                 Mind blown by @GlassAnimals slithering viscous Gold Mine (cover of Yeah Yeah Yeahs + Erykah Badu)Û_ http://t.co/7Zb9gm5z0h   \n",
              "2775     70 Years After Atomic Bombs Japan Still Struggles With War Past: The anniversary of the devastation wrought b... http://t.co/vFCtrzaOk2   \n",
              "2511  Just came back from camping and returned with a new song which gets recorded tomorrow. Can't wait! #Desolation #TheConspiracyTheory #NewEP   \n",
              "5234                                                               Dead Space - Obliteration Imminent [2/2]: http://t.co/XJB0dCAaHf via @YouTube   \n",
              "...                                                                                                                                          ...   \n",
              "7053    Obama Declares Disaster for Typhoon-Devastated Saipan: Obama signs disaster declaration for Northern Marians a... http://t.co/lEYJwNnAH8   \n",
              "1587    Huge cliff landslide on road in China: Watch the moment a cliff collapses as huge chunks of rock fall onto a r... http://t.co/eEEwO207mX   \n",
              "5828  China's Stock Market Crash: Are There Gems In The Rubble?: ChinaÛªs stock market crash this summer h... http://t.co/pE2R3lN16o by .Forbes   \n",
              "5280    Families to sue over Legionnaires: More than 40 families affected by the fatal outbreak of Legionnaires' disea... http://t.co/02ELqLOpFk   \n",
              "4458                           Broadcast journalism: hostages to fortune otherwise quot-television blind else quot-operations since-3g superv...   \n",
              "\n",
              "      target  \n",
              "6039       1  \n",
              "1709       0  \n",
              "2775       1  \n",
              "2511       1  \n",
              "5234       0  \n",
              "...      ...  \n",
              "7053       1  \n",
              "1587       1  \n",
              "5828       0  \n",
              "5280       1  \n",
              "4458       0  \n",
              "\n",
              "[7613 rows x 5 columns]"
            ],
            "text/html": [
              "\n",
              "  <div id=\"df-4ce83fcd-019a-42e6-a06d-75044fe0be8f\" class=\"colab-df-container\">\n",
              "    <div>\n",
              "<style scoped>\n",
              "    .dataframe tbody tr th:only-of-type {\n",
              "        vertical-align: middle;\n",
              "    }\n",
              "\n",
              "    .dataframe tbody tr th {\n",
              "        vertical-align: top;\n",
              "    }\n",
              "\n",
              "    .dataframe thead th {\n",
              "        text-align: right;\n",
              "    }\n",
              "</style>\n",
              "<table border=\"1\" class=\"dataframe\">\n",
              "  <thead>\n",
              "    <tr style=\"text-align: right;\">\n",
              "      <th></th>\n",
              "      <th>id</th>\n",
              "      <th>keyword</th>\n",
              "      <th>location</th>\n",
              "      <th>text</th>\n",
              "      <th>target</th>\n",
              "    </tr>\n",
              "  </thead>\n",
              "  <tbody>\n",
              "    <tr>\n",
              "      <th>6039</th>\n",
              "      <td>8633</td>\n",
              "      <td>seismic</td>\n",
              "      <td>Mogadishu, Somalia</td>\n",
              "      <td>Exploration Takes Seismic Shift in #Gabon to #Somalia\\nhttp://t.co/Ltf6jL5keU http://t.co/Zlq8tHcTkW</td>\n",
              "      <td>1</td>\n",
              "    </tr>\n",
              "    <tr>\n",
              "      <th>1709</th>\n",
              "      <td>2465</td>\n",
              "      <td>collided</td>\n",
              "      <td>San Francisco</td>\n",
              "      <td>Mind blown by @GlassAnimals slithering viscous Gold Mine (cover of Yeah Yeah Yeahs + Erykah Badu)Û_ http://t.co/7Zb9gm5z0h</td>\n",
              "      <td>0</td>\n",
              "    </tr>\n",
              "    <tr>\n",
              "      <th>2775</th>\n",
              "      <td>3992</td>\n",
              "      <td>devastation</td>\n",
              "      <td>NaN</td>\n",
              "      <td>70 Years After Atomic Bombs Japan Still Struggles With War Past: The anniversary of the devastation wrought b... http://t.co/vFCtrzaOk2</td>\n",
              "      <td>1</td>\n",
              "    </tr>\n",
              "    <tr>\n",
              "      <th>2511</th>\n",
              "      <td>3607</td>\n",
              "      <td>desolation</td>\n",
              "      <td>North East, England</td>\n",
              "      <td>Just came back from camping and returned with a new song which gets recorded tomorrow. Can't wait! #Desolation #TheConspiracyTheory #NewEP</td>\n",
              "      <td>1</td>\n",
              "    </tr>\n",
              "    <tr>\n",
              "      <th>5234</th>\n",
              "      <td>7480</td>\n",
              "      <td>obliteration</td>\n",
              "      <td>NaN</td>\n",
              "      <td>Dead Space - Obliteration Imminent [2/2]: http://t.co/XJB0dCAaHf via @YouTube</td>\n",
              "      <td>0</td>\n",
              "    </tr>\n",
              "    <tr>\n",
              "      <th>...</th>\n",
              "      <td>...</td>\n",
              "      <td>...</td>\n",
              "      <td>...</td>\n",
              "      <td>...</td>\n",
              "      <td>...</td>\n",
              "    </tr>\n",
              "    <tr>\n",
              "      <th>7053</th>\n",
              "      <td>10106</td>\n",
              "      <td>typhoon</td>\n",
              "      <td>Dhaka</td>\n",
              "      <td>Obama Declares Disaster for Typhoon-Devastated Saipan: Obama signs disaster declaration for Northern Marians a... http://t.co/lEYJwNnAH8</td>\n",
              "      <td>1</td>\n",
              "    </tr>\n",
              "    <tr>\n",
              "      <th>1587</th>\n",
              "      <td>2292</td>\n",
              "      <td>cliff%20fall</td>\n",
              "      <td>Lagos, Nigeria</td>\n",
              "      <td>Huge cliff landslide on road in China: Watch the moment a cliff collapses as huge chunks of rock fall onto a r... http://t.co/eEEwO207mX</td>\n",
              "      <td>1</td>\n",
              "    </tr>\n",
              "    <tr>\n",
              "      <th>5828</th>\n",
              "      <td>8321</td>\n",
              "      <td>rubble</td>\n",
              "      <td>Spain - China - Latin America.</td>\n",
              "      <td>China's Stock Market Crash: Are There Gems In The Rubble?: ChinaÛªs stock market crash this summer h... http://t.co/pE2R3lN16o by .Forbes</td>\n",
              "      <td>0</td>\n",
              "    </tr>\n",
              "    <tr>\n",
              "      <th>5280</th>\n",
              "      <td>7545</td>\n",
              "      <td>outbreak</td>\n",
              "      <td>Chile</td>\n",
              "      <td>Families to sue over Legionnaires: More than 40 families affected by the fatal outbreak of Legionnaires' disea... http://t.co/02ELqLOpFk</td>\n",
              "      <td>1</td>\n",
              "    </tr>\n",
              "    <tr>\n",
              "      <th>4458</th>\n",
              "      <td>6341</td>\n",
              "      <td>hostages</td>\n",
              "      <td>NaN</td>\n",
              "      <td>Broadcast journalism: hostages to fortune otherwise quot-television blind else quot-operations since-3g superv...</td>\n",
              "      <td>0</td>\n",
              "    </tr>\n",
              "  </tbody>\n",
              "</table>\n",
              "<p>7613 rows × 5 columns</p>\n",
              "</div>\n",
              "    <div class=\"colab-df-buttons\">\n",
              "\n",
              "  <div class=\"colab-df-container\">\n",
              "    <button class=\"colab-df-convert\" onclick=\"convertToInteractive('df-4ce83fcd-019a-42e6-a06d-75044fe0be8f')\"\n",
              "            title=\"Convert this dataframe to an interactive table.\"\n",
              "            style=\"display:none;\">\n",
              "\n",
              "  <svg xmlns=\"http://www.w3.org/2000/svg\" height=\"24px\" viewBox=\"0 -960 960 960\">\n",
              "    <path d=\"M120-120v-720h720v720H120Zm60-500h600v-160H180v160Zm220 220h160v-160H400v160Zm0 220h160v-160H400v160ZM180-400h160v-160H180v160Zm440 0h160v-160H620v160ZM180-180h160v-160H180v160Zm440 0h160v-160H620v160Z\"/>\n",
              "  </svg>\n",
              "    </button>\n",
              "\n",
              "  <style>\n",
              "    .colab-df-container {\n",
              "      display:flex;\n",
              "      gap: 12px;\n",
              "    }\n",
              "\n",
              "    .colab-df-convert {\n",
              "      background-color: #E8F0FE;\n",
              "      border: none;\n",
              "      border-radius: 50%;\n",
              "      cursor: pointer;\n",
              "      display: none;\n",
              "      fill: #1967D2;\n",
              "      height: 32px;\n",
              "      padding: 0 0 0 0;\n",
              "      width: 32px;\n",
              "    }\n",
              "\n",
              "    .colab-df-convert:hover {\n",
              "      background-color: #E2EBFA;\n",
              "      box-shadow: 0px 1px 2px rgba(60, 64, 67, 0.3), 0px 1px 3px 1px rgba(60, 64, 67, 0.15);\n",
              "      fill: #174EA6;\n",
              "    }\n",
              "\n",
              "    .colab-df-buttons div {\n",
              "      margin-bottom: 4px;\n",
              "    }\n",
              "\n",
              "    [theme=dark] .colab-df-convert {\n",
              "      background-color: #3B4455;\n",
              "      fill: #D2E3FC;\n",
              "    }\n",
              "\n",
              "    [theme=dark] .colab-df-convert:hover {\n",
              "      background-color: #434B5C;\n",
              "      box-shadow: 0px 1px 3px 1px rgba(0, 0, 0, 0.15);\n",
              "      filter: drop-shadow(0px 1px 2px rgba(0, 0, 0, 0.3));\n",
              "      fill: #FFFFFF;\n",
              "    }\n",
              "  </style>\n",
              "\n",
              "    <script>\n",
              "      const buttonEl =\n",
              "        document.querySelector('#df-4ce83fcd-019a-42e6-a06d-75044fe0be8f button.colab-df-convert');\n",
              "      buttonEl.style.display =\n",
              "        google.colab.kernel.accessAllowed ? 'block' : 'none';\n",
              "\n",
              "      async function convertToInteractive(key) {\n",
              "        const element = document.querySelector('#df-4ce83fcd-019a-42e6-a06d-75044fe0be8f');\n",
              "        const dataTable =\n",
              "          await google.colab.kernel.invokeFunction('convertToInteractive',\n",
              "                                                    [key], {});\n",
              "        if (!dataTable) return;\n",
              "\n",
              "        const docLinkHtml = 'Like what you see? Visit the ' +\n",
              "          '<a target=\"_blank\" href=https://colab.research.google.com/notebooks/data_table.ipynb>data table notebook</a>'\n",
              "          + ' to learn more about interactive tables.';\n",
              "        element.innerHTML = '';\n",
              "        dataTable['output_type'] = 'display_data';\n",
              "        await google.colab.output.renderOutput(dataTable, element);\n",
              "        const docLink = document.createElement('div');\n",
              "        docLink.innerHTML = docLinkHtml;\n",
              "        element.appendChild(docLink);\n",
              "      }\n",
              "    </script>\n",
              "  </div>\n",
              "\n",
              "\n",
              "<div id=\"df-9b3fdf62-4609-43c0-9bed-45832bbed4ad\">\n",
              "  <button class=\"colab-df-quickchart\" onclick=\"quickchart('df-9b3fdf62-4609-43c0-9bed-45832bbed4ad')\"\n",
              "            title=\"Suggest charts.\"\n",
              "            style=\"display:none;\">\n",
              "\n",
              "<svg xmlns=\"http://www.w3.org/2000/svg\" height=\"24px\"viewBox=\"0 0 24 24\"\n",
              "     width=\"24px\">\n",
              "    <g>\n",
              "        <path d=\"M19 3H5c-1.1 0-2 .9-2 2v14c0 1.1.9 2 2 2h14c1.1 0 2-.9 2-2V5c0-1.1-.9-2-2-2zM9 17H7v-7h2v7zm4 0h-2V7h2v10zm4 0h-2v-4h2v4z\"/>\n",
              "    </g>\n",
              "</svg>\n",
              "  </button>\n",
              "\n",
              "<style>\n",
              "  .colab-df-quickchart {\n",
              "      --bg-color: #E8F0FE;\n",
              "      --fill-color: #1967D2;\n",
              "      --hover-bg-color: #E2EBFA;\n",
              "      --hover-fill-color: #174EA6;\n",
              "      --disabled-fill-color: #AAA;\n",
              "      --disabled-bg-color: #DDD;\n",
              "  }\n",
              "\n",
              "  [theme=dark] .colab-df-quickchart {\n",
              "      --bg-color: #3B4455;\n",
              "      --fill-color: #D2E3FC;\n",
              "      --hover-bg-color: #434B5C;\n",
              "      --hover-fill-color: #FFFFFF;\n",
              "      --disabled-bg-color: #3B4455;\n",
              "      --disabled-fill-color: #666;\n",
              "  }\n",
              "\n",
              "  .colab-df-quickchart {\n",
              "    background-color: var(--bg-color);\n",
              "    border: none;\n",
              "    border-radius: 50%;\n",
              "    cursor: pointer;\n",
              "    display: none;\n",
              "    fill: var(--fill-color);\n",
              "    height: 32px;\n",
              "    padding: 0;\n",
              "    width: 32px;\n",
              "  }\n",
              "\n",
              "  .colab-df-quickchart:hover {\n",
              "    background-color: var(--hover-bg-color);\n",
              "    box-shadow: 0 1px 2px rgba(60, 64, 67, 0.3), 0 1px 3px 1px rgba(60, 64, 67, 0.15);\n",
              "    fill: var(--button-hover-fill-color);\n",
              "  }\n",
              "\n",
              "  .colab-df-quickchart-complete:disabled,\n",
              "  .colab-df-quickchart-complete:disabled:hover {\n",
              "    background-color: var(--disabled-bg-color);\n",
              "    fill: var(--disabled-fill-color);\n",
              "    box-shadow: none;\n",
              "  }\n",
              "\n",
              "  .colab-df-spinner {\n",
              "    border: 2px solid var(--fill-color);\n",
              "    border-color: transparent;\n",
              "    border-bottom-color: var(--fill-color);\n",
              "    animation:\n",
              "      spin 1s steps(1) infinite;\n",
              "  }\n",
              "\n",
              "  @keyframes spin {\n",
              "    0% {\n",
              "      border-color: transparent;\n",
              "      border-bottom-color: var(--fill-color);\n",
              "      border-left-color: var(--fill-color);\n",
              "    }\n",
              "    20% {\n",
              "      border-color: transparent;\n",
              "      border-left-color: var(--fill-color);\n",
              "      border-top-color: var(--fill-color);\n",
              "    }\n",
              "    30% {\n",
              "      border-color: transparent;\n",
              "      border-left-color: var(--fill-color);\n",
              "      border-top-color: var(--fill-color);\n",
              "      border-right-color: var(--fill-color);\n",
              "    }\n",
              "    40% {\n",
              "      border-color: transparent;\n",
              "      border-right-color: var(--fill-color);\n",
              "      border-top-color: var(--fill-color);\n",
              "    }\n",
              "    60% {\n",
              "      border-color: transparent;\n",
              "      border-right-color: var(--fill-color);\n",
              "    }\n",
              "    80% {\n",
              "      border-color: transparent;\n",
              "      border-right-color: var(--fill-color);\n",
              "      border-bottom-color: var(--fill-color);\n",
              "    }\n",
              "    90% {\n",
              "      border-color: transparent;\n",
              "      border-bottom-color: var(--fill-color);\n",
              "    }\n",
              "  }\n",
              "</style>\n",
              "\n",
              "  <script>\n",
              "    async function quickchart(key) {\n",
              "      const quickchartButtonEl =\n",
              "        document.querySelector('#' + key + ' button');\n",
              "      quickchartButtonEl.disabled = true;  // To prevent multiple clicks.\n",
              "      quickchartButtonEl.classList.add('colab-df-spinner');\n",
              "      try {\n",
              "        const charts = await google.colab.kernel.invokeFunction(\n",
              "            'suggestCharts', [key], {});\n",
              "      } catch (error) {\n",
              "        console.error('Error during call to suggestCharts:', error);\n",
              "      }\n",
              "      quickchartButtonEl.classList.remove('colab-df-spinner');\n",
              "      quickchartButtonEl.classList.add('colab-df-quickchart-complete');\n",
              "    }\n",
              "    (() => {\n",
              "      let quickchartButtonEl =\n",
              "        document.querySelector('#df-9b3fdf62-4609-43c0-9bed-45832bbed4ad button');\n",
              "      quickchartButtonEl.style.display =\n",
              "        google.colab.kernel.accessAllowed ? 'block' : 'none';\n",
              "    })();\n",
              "  </script>\n",
              "</div>\n",
              "    </div>\n",
              "  </div>\n"
            ]
          },
          "metadata": {},
          "execution_count": 23
        }
      ]
    },
    {
      "cell_type": "code",
      "source": [
        "train_sentence,val_sentence,train_labels,val_labels = train_test_split(train_data[\"text\"].to_numpy(),\n",
        "                                                                       train_data[\"target\"].to_numpy(),\n",
        "                                                                       test_size=0.1,\n",
        "                                                                       random_state=85)"
      ],
      "metadata": {
        "id": "wviy90lPUxwX"
      },
      "execution_count": 24,
      "outputs": []
    },
    {
      "cell_type": "code",
      "source": [
        "len(train_sentence),len(train_labels),len(val_sentence),len(val_labels)"
      ],
      "metadata": {
        "colab": {
          "base_uri": "https://localhost:8080/"
        },
        "id": "0qgMQBOxcqCR",
        "outputId": "1ce7f899-2684-4286-c555-21efb17b2bf9"
      },
      "execution_count": 25,
      "outputs": [
        {
          "output_type": "execute_result",
          "data": {
            "text/plain": [
              "(6851, 6851, 762, 762)"
            ]
          },
          "metadata": {},
          "execution_count": 25
        }
      ]
    },
    {
      "cell_type": "code",
      "source": [
        "train_sentence"
      ],
      "metadata": {
        "colab": {
          "base_uri": "https://localhost:8080/"
        },
        "id": "ak9IMwHEcsSs",
        "outputId": "fe78e7e2-9cf8-4c0f-ddd5-2c08aeee5909"
      },
      "execution_count": 26,
      "outputs": [
        {
          "output_type": "execute_result",
          "data": {
            "text/plain": [
              "array(['Insane bush fires in California. Be safe. https://t.co/jSlxTQ3NqS',\n",
              "       '@beckyfeigin I defs will when it stops bleeding!',\n",
              "       \"I don't laugh out loud at many things. But man I really lol @ the big bang theory.\",\n",
              "       ...,\n",
              "       'Only one man Tsutomi Yamaguchi is said to have survived both atomic bomb blasts at #Hiroshima and #Nagasaki. #OTD http://t.co/DaalPeNZp0',\n",
              "       'Blue Bell May Be Close to a Return From Its Listeria Disaster... Hot on #theneeds #Recipes http://t.co/F56v61AmPt',\n",
              "       '9:35 pm. Thunderstorm. No rain. 90 degrees. This weather weird.'],\n",
              "      dtype=object)"
            ]
          },
          "metadata": {},
          "execution_count": 26
        }
      ]
    },
    {
      "cell_type": "markdown",
      "source": [
        "now,we have created our training sentence"
      ],
      "metadata": {
        "id": "nwOfBJlUdW4j"
      }
    },
    {
      "cell_type": "code",
      "source": [
        "import random\n",
        "def show_random(dataset1,dataset2):\n",
        "\n",
        "  if(len(dataset1)!=len(dataset2)):\n",
        "    return \"fuck you,your fucking datasets are wrong\"\n",
        "\n",
        "  length = len(dataset1)\n",
        "\n",
        "  random_num = random.randint(0,length)\n",
        "\n",
        "  random_text = dataset1[random_num]\n",
        "  random_label = dataset2[random_num]\n",
        "\n",
        "  if(random_label ==1):\n",
        "    random_label = \"disaster\"\n",
        "  else:\n",
        "    random_label = \"normal\"\n",
        "\n",
        "  print(f\"text: {random_text} \\n label :{random_label}\")"
      ],
      "metadata": {
        "id": "oKJQvKsrdFLS"
      },
      "execution_count": 27,
      "outputs": []
    },
    {
      "cell_type": "code",
      "source": [
        "show_random(train_sentence,train_labels)"
      ],
      "metadata": {
        "colab": {
          "base_uri": "https://localhost:8080/"
        },
        "id": "apSOZaQSfLcD",
        "outputId": "a8e15d11-4433-4dea-827f-af4e26bcde86"
      },
      "execution_count": 28,
      "outputs": [
        {
          "output_type": "stream",
          "name": "stdout",
          "text": [
            "text: we'll crash down like an avalanche \n",
            " label :normal\n"
          ]
        }
      ]
    },
    {
      "cell_type": "markdown",
      "source": [
        "ok,now we should do our next step which is converting our dataset to number"
      ],
      "metadata": {
        "id": "eIuSlzgNgSvV"
      }
    },
    {
      "cell_type": "code",
      "source": [
        "from tensorflow.keras.layers import TextVectorization"
      ],
      "metadata": {
        "id": "-DxAbXTQgWkR"
      },
      "execution_count": 29,
      "outputs": []
    },
    {
      "cell_type": "code",
      "source": [
        "vocab_size = 20000\n",
        "\n",
        "vectorizer = TextVectorization(max_tokens=vocab_size,\n",
        "                               split=\"whitespace\",\n",
        "                               standardize=\"lower_and_strip_punctuation\",\n",
        "                               output_mode=\"int\",\n",
        "                               output_sequence_length=25)"
      ],
      "metadata": {
        "id": "iyMRmDQngWrl"
      },
      "execution_count": 30,
      "outputs": []
    },
    {
      "cell_type": "markdown",
      "source": [
        "now,we should adapt our vectorizer"
      ],
      "metadata": {
        "id": "0NhjLxVxkDY4"
      }
    },
    {
      "cell_type": "code",
      "source": [
        "vectorizer.adapt(train_sentence)"
      ],
      "metadata": {
        "id": "6PQqxuUDgXDt"
      },
      "execution_count": 31,
      "outputs": []
    },
    {
      "cell_type": "code",
      "source": [
        "vectorizer.vocabulary_size()"
      ],
      "metadata": {
        "colab": {
          "base_uri": "https://localhost:8080/"
        },
        "id": "35kz7XFhgXGR",
        "outputId": "652ba122-7a68-4112-cd78-6dd69efe7148"
      },
      "execution_count": 32,
      "outputs": [
        {
          "output_type": "execute_result",
          "data": {
            "text/plain": [
              "20000"
            ]
          },
          "metadata": {},
          "execution_count": 32
        }
      ]
    },
    {
      "cell_type": "code",
      "source": [
        "len(vectorizer.get_vocabulary())"
      ],
      "metadata": {
        "id": "6Ugn0zCbkM2U",
        "colab": {
          "base_uri": "https://localhost:8080/"
        },
        "outputId": "8671c25a-772b-4a9d-cd94-9c4d4e4f5622"
      },
      "execution_count": 33,
      "outputs": [
        {
          "output_type": "execute_result",
          "data": {
            "text/plain": [
              "20000"
            ]
          },
          "metadata": {},
          "execution_count": 33
        }
      ]
    },
    {
      "cell_type": "code",
      "source": [
        "vectorizer.get_vocabulary()[:10]"
      ],
      "metadata": {
        "colab": {
          "base_uri": "https://localhost:8080/"
        },
        "id": "IrYCc-0-b-K5",
        "outputId": "a033f05b-32bb-473c-d006-19af120765e6"
      },
      "execution_count": 34,
      "outputs": [
        {
          "output_type": "execute_result",
          "data": {
            "text/plain": [
              "['', '[UNK]', 'the', 'a', 'in', 'to', 'of', 'and', 'i', 'is']"
            ]
          },
          "metadata": {},
          "execution_count": 34
        }
      ]
    },
    {
      "cell_type": "markdown",
      "source": [
        "all right,we have made our vocabulary\n",
        "\n",
        "lets test it on a simple sentence"
      ],
      "metadata": {
        "id": "mWNOT2QgcgUe"
      }
    },
    {
      "cell_type": "code",
      "source": [
        "simple_sentence = \"hello,did you know that zaza pachulia is the greatest player ever?\"\n",
        "\n",
        "simple_matrix = vectorizer(simple_sentence)\n",
        "\n",
        "simple_matrix"
      ],
      "metadata": {
        "colab": {
          "base_uri": "https://localhost:8080/"
        },
        "id": "llL6Evd2ceiT",
        "outputId": "6ea32596-0e1c-459f-ccbc-254cd6008457"
      },
      "execution_count": 35,
      "outputs": [
        {
          "output_type": "execute_result",
          "data": {
            "text/plain": [
              "<tf.Tensor: shape=(25,), dtype=int64, numpy=\n",
              "array([   1,   12,   92,   16,    1,    1,    9,    2, 2090, 2009,  224,\n",
              "          0,    0,    0,    0,    0,    0,    0,    0,    0,    0,    0,\n",
              "          0,    0,    0])>"
            ]
          },
          "metadata": {},
          "execution_count": 35
        }
      ]
    },
    {
      "cell_type": "code",
      "source": [
        "vectorizer.get_vocabulary()[9999]"
      ],
      "metadata": {
        "colab": {
          "base_uri": "https://localhost:8080/",
          "height": 35
        },
        "id": "MmSaqtDFc186",
        "outputId": "d4cce796-2a33-4519-ab3b-9545e577782a"
      },
      "execution_count": 36,
      "outputs": [
        {
          "output_type": "execute_result",
          "data": {
            "text/plain": [
              "'panik'"
            ],
            "application/vnd.google.colaboratory.intrinsic+json": {
              "type": "string"
            }
          },
          "metadata": {},
          "execution_count": 36
        }
      ]
    },
    {
      "cell_type": "code",
      "source": [
        "print(vectorizer(\"hello\"))"
      ],
      "metadata": {
        "colab": {
          "base_uri": "https://localhost:8080/"
        },
        "id": "lerryGzydDPh",
        "outputId": "da73d966-bc6e-4f64-b291-fc68bf4707c6"
      },
      "execution_count": 37,
      "outputs": [
        {
          "output_type": "stream",
          "name": "stdout",
          "text": [
            "tf.Tensor(\n",
            "[1849    0    0    0    0    0    0    0    0    0    0    0    0    0\n",
            "    0    0    0    0    0    0    0    0    0    0    0], shape=(25,), dtype=int64)\n"
          ]
        }
      ]
    },
    {
      "cell_type": "markdown",
      "source": [
        "now,lets create a word embedding layer"
      ],
      "metadata": {
        "id": "Q8uBwmWZeSRB"
      }
    },
    {
      "cell_type": "code",
      "source": [
        "tf.random.set_seed(85)\n",
        "from tensorflow.keras import layers"
      ],
      "metadata": {
        "id": "Ft6hhqaldplG"
      },
      "execution_count": 38,
      "outputs": []
    },
    {
      "cell_type": "code",
      "source": [
        "embedding_layer = layers.Embedding(output_dim = 128,\n",
        "                                   embeddings_initializer=\"uniform\",\n",
        "                                   name=\"kir_khar\",\n",
        "                                   input_dim=vocab_size,\n",
        "                                   )"
      ],
      "metadata": {
        "id": "3V3Bcnd8ebWF"
      },
      "execution_count": 39,
      "outputs": []
    },
    {
      "cell_type": "code",
      "source": [
        "type(embedding_layer)"
      ],
      "metadata": {
        "colab": {
          "base_uri": "https://localhost:8080/"
        },
        "id": "m0lCEqdLfMKp",
        "outputId": "49e56064-3856-410c-ff9a-801fc73c21f2"
      },
      "execution_count": 40,
      "outputs": [
        {
          "output_type": "execute_result",
          "data": {
            "text/plain": [
              "keras.src.layers.core.embedding.Embedding"
            ]
          },
          "metadata": {},
          "execution_count": 40
        }
      ]
    },
    {
      "cell_type": "code",
      "source": [
        "simple_embedding = embedding_layer(vectorizer(simple_sentence))\n",
        "simple_embedding.shape,simple_embedding"
      ],
      "metadata": {
        "colab": {
          "base_uri": "https://localhost:8080/"
        },
        "id": "8PeiGMJqfRBk",
        "outputId": "0f2edd22-bcaf-4926-8d27-90c92cbf0ea1"
      },
      "execution_count": 41,
      "outputs": [
        {
          "output_type": "execute_result",
          "data": {
            "text/plain": [
              "(TensorShape([25, 128]),\n",
              " <tf.Tensor: shape=(25, 128), dtype=float32, numpy=\n",
              " array([[-0.045005  ,  0.01783705,  0.03454366, ..., -0.02911477,\n",
              "          0.00740135, -0.02933186],\n",
              "        [-0.01105403,  0.04633689,  0.03093353, ...,  0.03554041,\n",
              "         -0.02318047, -0.03496556],\n",
              "        [-0.03018872, -0.04175271,  0.012597  , ...,  0.0229946 ,\n",
              "         -0.04403069,  0.0174499 ],\n",
              "        ...,\n",
              "        [ 0.0414313 ,  0.02187326, -0.01313108, ...,  0.01263534,\n",
              "         -0.01914893, -0.00835582],\n",
              "        [ 0.0414313 ,  0.02187326, -0.01313108, ...,  0.01263534,\n",
              "         -0.01914893, -0.00835582],\n",
              "        [ 0.0414313 ,  0.02187326, -0.01313108, ...,  0.01263534,\n",
              "         -0.01914893, -0.00835582]], dtype=float32)>)"
            ]
          },
          "metadata": {},
          "execution_count": 41
        }
      ]
    },
    {
      "cell_type": "markdown",
      "source": [
        "now,lets finally create our fucking model"
      ],
      "metadata": {
        "id": "1fAvEJx3gHpo"
      }
    },
    {
      "cell_type": "code",
      "source": [
        "\n",
        "input_layer = tf.keras.layers.Input(shape=(1,),dtype=\"string\")\n",
        "x= vectorizer(input_layer)\n",
        "x= embedding_layer(x)\n",
        "x = tf.keras.layers.GlobalAveragePooling1D()(x)\n",
        "x=tf.keras.layers.Dense(1,activation=tf.keras.activations.sigmoid)(x)\n",
        "\n",
        "model_1 = tf.keras.Model(input_layer,x)\n"
      ],
      "metadata": {
        "id": "62pE09i6feTS"
      },
      "execution_count": 42,
      "outputs": []
    },
    {
      "cell_type": "markdown",
      "source": [
        "now,lets compile our model"
      ],
      "metadata": {
        "id": "-Sv4ctfXhGEx"
      }
    },
    {
      "cell_type": "code",
      "source": [
        "model_1.compile(loss=tf.keras.losses.binary_crossentropy,\n",
        "                optimizer = tf.keras.optimizers.Adam(learning_rate=0.001),\n",
        "                metrics=[\"accuracy\"])"
      ],
      "metadata": {
        "id": "Icy_FbsOhAM3"
      },
      "execution_count": 43,
      "outputs": []
    },
    {
      "cell_type": "code",
      "source": [
        "model_1_history = model_1.fit(train_sentence,\n",
        "                               train_labels,\n",
        "                               epochs=20,\n",
        "                               validation_data=(val_sentence,val_labels))"
      ],
      "metadata": {
        "colab": {
          "base_uri": "https://localhost:8080/"
        },
        "id": "0mxVTJjUhYCG",
        "outputId": "caf2cd82-5145-4c8e-faf3-194d9a214d97"
      },
      "execution_count": 44,
      "outputs": [
        {
          "output_type": "stream",
          "name": "stdout",
          "text": [
            "Epoch 1/20\n",
            "215/215 [==============================] - 9s 39ms/step - loss: 0.6380 - accuracy: 0.6481 - val_loss: 0.5613 - val_accuracy: 0.7717\n",
            "Epoch 2/20\n",
            "215/215 [==============================] - 8s 36ms/step - loss: 0.4744 - accuracy: 0.8149 - val_loss: 0.4648 - val_accuracy: 0.7927\n",
            "Epoch 3/20\n",
            "215/215 [==============================] - 9s 43ms/step - loss: 0.3563 - accuracy: 0.8691 - val_loss: 0.4292 - val_accuracy: 0.8045\n",
            "Epoch 4/20\n",
            "215/215 [==============================] - 12s 54ms/step - loss: 0.2757 - accuracy: 0.9022 - val_loss: 0.4249 - val_accuracy: 0.8071\n",
            "Epoch 5/20\n",
            "215/215 [==============================] - 10s 44ms/step - loss: 0.2153 - accuracy: 0.9288 - val_loss: 0.4246 - val_accuracy: 0.8176\n",
            "Epoch 6/20\n",
            "215/215 [==============================] - 8s 35ms/step - loss: 0.1695 - accuracy: 0.9460 - val_loss: 0.4380 - val_accuracy: 0.8176\n",
            "Epoch 7/20\n",
            "215/215 [==============================] - 8s 36ms/step - loss: 0.1339 - accuracy: 0.9584 - val_loss: 0.4533 - val_accuracy: 0.8071\n",
            "Epoch 8/20\n",
            "215/215 [==============================] - 7s 33ms/step - loss: 0.1075 - accuracy: 0.9689 - val_loss: 0.4732 - val_accuracy: 0.8110\n",
            "Epoch 9/20\n",
            "215/215 [==============================] - 8s 35ms/step - loss: 0.0866 - accuracy: 0.9781 - val_loss: 0.4934 - val_accuracy: 0.8097\n",
            "Epoch 10/20\n",
            "215/215 [==============================] - 7s 32ms/step - loss: 0.0723 - accuracy: 0.9838 - val_loss: 0.5129 - val_accuracy: 0.8031\n",
            "Epoch 11/20\n",
            "215/215 [==============================] - 8s 36ms/step - loss: 0.0597 - accuracy: 0.9857 - val_loss: 0.5338 - val_accuracy: 0.8018\n",
            "Epoch 12/20\n",
            "215/215 [==============================] - 9s 41ms/step - loss: 0.0510 - accuracy: 0.9880 - val_loss: 0.5561 - val_accuracy: 0.8045\n",
            "Epoch 13/20\n",
            "215/215 [==============================] - 7s 32ms/step - loss: 0.0439 - accuracy: 0.9912 - val_loss: 0.5784 - val_accuracy: 0.8031\n",
            "Epoch 14/20\n",
            "215/215 [==============================] - 8s 37ms/step - loss: 0.0377 - accuracy: 0.9912 - val_loss: 0.6056 - val_accuracy: 0.8018\n",
            "Epoch 15/20\n",
            "215/215 [==============================] - 7s 33ms/step - loss: 0.0331 - accuracy: 0.9928 - val_loss: 0.6236 - val_accuracy: 0.8045\n",
            "Epoch 16/20\n",
            "215/215 [==============================] - 8s 39ms/step - loss: 0.0293 - accuracy: 0.9939 - val_loss: 0.6528 - val_accuracy: 0.7966\n",
            "Epoch 17/20\n",
            "215/215 [==============================] - 8s 36ms/step - loss: 0.0261 - accuracy: 0.9933 - val_loss: 0.6668 - val_accuracy: 0.8018\n",
            "Epoch 18/20\n",
            "215/215 [==============================] - 8s 37ms/step - loss: 0.0236 - accuracy: 0.9933 - val_loss: 0.6831 - val_accuracy: 0.8031\n",
            "Epoch 19/20\n",
            "215/215 [==============================] - 8s 37ms/step - loss: 0.0214 - accuracy: 0.9937 - val_loss: 0.7068 - val_accuracy: 0.7940\n",
            "Epoch 20/20\n",
            "215/215 [==============================] - 7s 33ms/step - loss: 0.0202 - accuracy: 0.9937 - val_loss: 0.7283 - val_accuracy: 0.7966\n"
          ]
        }
      ]
    },
    {
      "cell_type": "markdown",
      "source": [
        "it looke like,5 epochs was enough and we just increased our overfit\n",
        "\n",
        "so lets evaluate on our test dataset\n",
        "\n",
        "so,lets first create our dataset"
      ],
      "metadata": {
        "id": "LhbRbDuhi4B4"
      }
    },
    {
      "cell_type": "code",
      "source": [
        "train_data"
      ],
      "metadata": {
        "colab": {
          "base_uri": "https://localhost:8080/",
          "height": 580
        },
        "id": "h-witEnLhnmQ",
        "outputId": "906393ea-bd09-410e-912c-0254b8da4318"
      },
      "execution_count": 45,
      "outputs": [
        {
          "output_type": "execute_result",
          "data": {
            "text/plain": [
              "         id       keyword                        location  \\\n",
              "6039   8633       seismic              Mogadishu, Somalia   \n",
              "1709   2465      collided                   San Francisco   \n",
              "2775   3992   devastation                             NaN   \n",
              "2511   3607    desolation             North East, England   \n",
              "5234   7480  obliteration                             NaN   \n",
              "...     ...           ...                             ...   \n",
              "7053  10106       typhoon                           Dhaka   \n",
              "1587   2292  cliff%20fall                  Lagos, Nigeria   \n",
              "5828   8321        rubble  Spain - China - Latin America.   \n",
              "5280   7545      outbreak                           Chile   \n",
              "4458   6341      hostages                             NaN   \n",
              "\n",
              "                                                                                                                                            text  \\\n",
              "6039                                        Exploration Takes Seismic Shift in #Gabon to #Somalia\\nhttp://t.co/Ltf6jL5keU http://t.co/Zlq8tHcTkW   \n",
              "1709                 Mind blown by @GlassAnimals slithering viscous Gold Mine (cover of Yeah Yeah Yeahs + Erykah Badu)Û_ http://t.co/7Zb9gm5z0h   \n",
              "2775     70 Years After Atomic Bombs Japan Still Struggles With War Past: The anniversary of the devastation wrought b... http://t.co/vFCtrzaOk2   \n",
              "2511  Just came back from camping and returned with a new song which gets recorded tomorrow. Can't wait! #Desolation #TheConspiracyTheory #NewEP   \n",
              "5234                                                               Dead Space - Obliteration Imminent [2/2]: http://t.co/XJB0dCAaHf via @YouTube   \n",
              "...                                                                                                                                          ...   \n",
              "7053    Obama Declares Disaster for Typhoon-Devastated Saipan: Obama signs disaster declaration for Northern Marians a... http://t.co/lEYJwNnAH8   \n",
              "1587    Huge cliff landslide on road in China: Watch the moment a cliff collapses as huge chunks of rock fall onto a r... http://t.co/eEEwO207mX   \n",
              "5828  China's Stock Market Crash: Are There Gems In The Rubble?: ChinaÛªs stock market crash this summer h... http://t.co/pE2R3lN16o by .Forbes   \n",
              "5280    Families to sue over Legionnaires: More than 40 families affected by the fatal outbreak of Legionnaires' disea... http://t.co/02ELqLOpFk   \n",
              "4458                           Broadcast journalism: hostages to fortune otherwise quot-television blind else quot-operations since-3g superv...   \n",
              "\n",
              "      target  \n",
              "6039       1  \n",
              "1709       0  \n",
              "2775       1  \n",
              "2511       1  \n",
              "5234       0  \n",
              "...      ...  \n",
              "7053       1  \n",
              "1587       1  \n",
              "5828       0  \n",
              "5280       1  \n",
              "4458       0  \n",
              "\n",
              "[7613 rows x 5 columns]"
            ],
            "text/html": [
              "\n",
              "  <div id=\"df-488a093d-1d35-4ea7-a8e2-032b6b186dfb\" class=\"colab-df-container\">\n",
              "    <div>\n",
              "<style scoped>\n",
              "    .dataframe tbody tr th:only-of-type {\n",
              "        vertical-align: middle;\n",
              "    }\n",
              "\n",
              "    .dataframe tbody tr th {\n",
              "        vertical-align: top;\n",
              "    }\n",
              "\n",
              "    .dataframe thead th {\n",
              "        text-align: right;\n",
              "    }\n",
              "</style>\n",
              "<table border=\"1\" class=\"dataframe\">\n",
              "  <thead>\n",
              "    <tr style=\"text-align: right;\">\n",
              "      <th></th>\n",
              "      <th>id</th>\n",
              "      <th>keyword</th>\n",
              "      <th>location</th>\n",
              "      <th>text</th>\n",
              "      <th>target</th>\n",
              "    </tr>\n",
              "  </thead>\n",
              "  <tbody>\n",
              "    <tr>\n",
              "      <th>6039</th>\n",
              "      <td>8633</td>\n",
              "      <td>seismic</td>\n",
              "      <td>Mogadishu, Somalia</td>\n",
              "      <td>Exploration Takes Seismic Shift in #Gabon to #Somalia\\nhttp://t.co/Ltf6jL5keU http://t.co/Zlq8tHcTkW</td>\n",
              "      <td>1</td>\n",
              "    </tr>\n",
              "    <tr>\n",
              "      <th>1709</th>\n",
              "      <td>2465</td>\n",
              "      <td>collided</td>\n",
              "      <td>San Francisco</td>\n",
              "      <td>Mind blown by @GlassAnimals slithering viscous Gold Mine (cover of Yeah Yeah Yeahs + Erykah Badu)Û_ http://t.co/7Zb9gm5z0h</td>\n",
              "      <td>0</td>\n",
              "    </tr>\n",
              "    <tr>\n",
              "      <th>2775</th>\n",
              "      <td>3992</td>\n",
              "      <td>devastation</td>\n",
              "      <td>NaN</td>\n",
              "      <td>70 Years After Atomic Bombs Japan Still Struggles With War Past: The anniversary of the devastation wrought b... http://t.co/vFCtrzaOk2</td>\n",
              "      <td>1</td>\n",
              "    </tr>\n",
              "    <tr>\n",
              "      <th>2511</th>\n",
              "      <td>3607</td>\n",
              "      <td>desolation</td>\n",
              "      <td>North East, England</td>\n",
              "      <td>Just came back from camping and returned with a new song which gets recorded tomorrow. Can't wait! #Desolation #TheConspiracyTheory #NewEP</td>\n",
              "      <td>1</td>\n",
              "    </tr>\n",
              "    <tr>\n",
              "      <th>5234</th>\n",
              "      <td>7480</td>\n",
              "      <td>obliteration</td>\n",
              "      <td>NaN</td>\n",
              "      <td>Dead Space - Obliteration Imminent [2/2]: http://t.co/XJB0dCAaHf via @YouTube</td>\n",
              "      <td>0</td>\n",
              "    </tr>\n",
              "    <tr>\n",
              "      <th>...</th>\n",
              "      <td>...</td>\n",
              "      <td>...</td>\n",
              "      <td>...</td>\n",
              "      <td>...</td>\n",
              "      <td>...</td>\n",
              "    </tr>\n",
              "    <tr>\n",
              "      <th>7053</th>\n",
              "      <td>10106</td>\n",
              "      <td>typhoon</td>\n",
              "      <td>Dhaka</td>\n",
              "      <td>Obama Declares Disaster for Typhoon-Devastated Saipan: Obama signs disaster declaration for Northern Marians a... http://t.co/lEYJwNnAH8</td>\n",
              "      <td>1</td>\n",
              "    </tr>\n",
              "    <tr>\n",
              "      <th>1587</th>\n",
              "      <td>2292</td>\n",
              "      <td>cliff%20fall</td>\n",
              "      <td>Lagos, Nigeria</td>\n",
              "      <td>Huge cliff landslide on road in China: Watch the moment a cliff collapses as huge chunks of rock fall onto a r... http://t.co/eEEwO207mX</td>\n",
              "      <td>1</td>\n",
              "    </tr>\n",
              "    <tr>\n",
              "      <th>5828</th>\n",
              "      <td>8321</td>\n",
              "      <td>rubble</td>\n",
              "      <td>Spain - China - Latin America.</td>\n",
              "      <td>China's Stock Market Crash: Are There Gems In The Rubble?: ChinaÛªs stock market crash this summer h... http://t.co/pE2R3lN16o by .Forbes</td>\n",
              "      <td>0</td>\n",
              "    </tr>\n",
              "    <tr>\n",
              "      <th>5280</th>\n",
              "      <td>7545</td>\n",
              "      <td>outbreak</td>\n",
              "      <td>Chile</td>\n",
              "      <td>Families to sue over Legionnaires: More than 40 families affected by the fatal outbreak of Legionnaires' disea... http://t.co/02ELqLOpFk</td>\n",
              "      <td>1</td>\n",
              "    </tr>\n",
              "    <tr>\n",
              "      <th>4458</th>\n",
              "      <td>6341</td>\n",
              "      <td>hostages</td>\n",
              "      <td>NaN</td>\n",
              "      <td>Broadcast journalism: hostages to fortune otherwise quot-television blind else quot-operations since-3g superv...</td>\n",
              "      <td>0</td>\n",
              "    </tr>\n",
              "  </tbody>\n",
              "</table>\n",
              "<p>7613 rows × 5 columns</p>\n",
              "</div>\n",
              "    <div class=\"colab-df-buttons\">\n",
              "\n",
              "  <div class=\"colab-df-container\">\n",
              "    <button class=\"colab-df-convert\" onclick=\"convertToInteractive('df-488a093d-1d35-4ea7-a8e2-032b6b186dfb')\"\n",
              "            title=\"Convert this dataframe to an interactive table.\"\n",
              "            style=\"display:none;\">\n",
              "\n",
              "  <svg xmlns=\"http://www.w3.org/2000/svg\" height=\"24px\" viewBox=\"0 -960 960 960\">\n",
              "    <path d=\"M120-120v-720h720v720H120Zm60-500h600v-160H180v160Zm220 220h160v-160H400v160Zm0 220h160v-160H400v160ZM180-400h160v-160H180v160Zm440 0h160v-160H620v160ZM180-180h160v-160H180v160Zm440 0h160v-160H620v160Z\"/>\n",
              "  </svg>\n",
              "    </button>\n",
              "\n",
              "  <style>\n",
              "    .colab-df-container {\n",
              "      display:flex;\n",
              "      gap: 12px;\n",
              "    }\n",
              "\n",
              "    .colab-df-convert {\n",
              "      background-color: #E8F0FE;\n",
              "      border: none;\n",
              "      border-radius: 50%;\n",
              "      cursor: pointer;\n",
              "      display: none;\n",
              "      fill: #1967D2;\n",
              "      height: 32px;\n",
              "      padding: 0 0 0 0;\n",
              "      width: 32px;\n",
              "    }\n",
              "\n",
              "    .colab-df-convert:hover {\n",
              "      background-color: #E2EBFA;\n",
              "      box-shadow: 0px 1px 2px rgba(60, 64, 67, 0.3), 0px 1px 3px 1px rgba(60, 64, 67, 0.15);\n",
              "      fill: #174EA6;\n",
              "    }\n",
              "\n",
              "    .colab-df-buttons div {\n",
              "      margin-bottom: 4px;\n",
              "    }\n",
              "\n",
              "    [theme=dark] .colab-df-convert {\n",
              "      background-color: #3B4455;\n",
              "      fill: #D2E3FC;\n",
              "    }\n",
              "\n",
              "    [theme=dark] .colab-df-convert:hover {\n",
              "      background-color: #434B5C;\n",
              "      box-shadow: 0px 1px 3px 1px rgba(0, 0, 0, 0.15);\n",
              "      filter: drop-shadow(0px 1px 2px rgba(0, 0, 0, 0.3));\n",
              "      fill: #FFFFFF;\n",
              "    }\n",
              "  </style>\n",
              "\n",
              "    <script>\n",
              "      const buttonEl =\n",
              "        document.querySelector('#df-488a093d-1d35-4ea7-a8e2-032b6b186dfb button.colab-df-convert');\n",
              "      buttonEl.style.display =\n",
              "        google.colab.kernel.accessAllowed ? 'block' : 'none';\n",
              "\n",
              "      async function convertToInteractive(key) {\n",
              "        const element = document.querySelector('#df-488a093d-1d35-4ea7-a8e2-032b6b186dfb');\n",
              "        const dataTable =\n",
              "          await google.colab.kernel.invokeFunction('convertToInteractive',\n",
              "                                                    [key], {});\n",
              "        if (!dataTable) return;\n",
              "\n",
              "        const docLinkHtml = 'Like what you see? Visit the ' +\n",
              "          '<a target=\"_blank\" href=https://colab.research.google.com/notebooks/data_table.ipynb>data table notebook</a>'\n",
              "          + ' to learn more about interactive tables.';\n",
              "        element.innerHTML = '';\n",
              "        dataTable['output_type'] = 'display_data';\n",
              "        await google.colab.output.renderOutput(dataTable, element);\n",
              "        const docLink = document.createElement('div');\n",
              "        docLink.innerHTML = docLinkHtml;\n",
              "        element.appendChild(docLink);\n",
              "      }\n",
              "    </script>\n",
              "  </div>\n",
              "\n",
              "\n",
              "<div id=\"df-d941adae-f94e-47db-98ea-d56c5830eac7\">\n",
              "  <button class=\"colab-df-quickchart\" onclick=\"quickchart('df-d941adae-f94e-47db-98ea-d56c5830eac7')\"\n",
              "            title=\"Suggest charts.\"\n",
              "            style=\"display:none;\">\n",
              "\n",
              "<svg xmlns=\"http://www.w3.org/2000/svg\" height=\"24px\"viewBox=\"0 0 24 24\"\n",
              "     width=\"24px\">\n",
              "    <g>\n",
              "        <path d=\"M19 3H5c-1.1 0-2 .9-2 2v14c0 1.1.9 2 2 2h14c1.1 0 2-.9 2-2V5c0-1.1-.9-2-2-2zM9 17H7v-7h2v7zm4 0h-2V7h2v10zm4 0h-2v-4h2v4z\"/>\n",
              "    </g>\n",
              "</svg>\n",
              "  </button>\n",
              "\n",
              "<style>\n",
              "  .colab-df-quickchart {\n",
              "      --bg-color: #E8F0FE;\n",
              "      --fill-color: #1967D2;\n",
              "      --hover-bg-color: #E2EBFA;\n",
              "      --hover-fill-color: #174EA6;\n",
              "      --disabled-fill-color: #AAA;\n",
              "      --disabled-bg-color: #DDD;\n",
              "  }\n",
              "\n",
              "  [theme=dark] .colab-df-quickchart {\n",
              "      --bg-color: #3B4455;\n",
              "      --fill-color: #D2E3FC;\n",
              "      --hover-bg-color: #434B5C;\n",
              "      --hover-fill-color: #FFFFFF;\n",
              "      --disabled-bg-color: #3B4455;\n",
              "      --disabled-fill-color: #666;\n",
              "  }\n",
              "\n",
              "  .colab-df-quickchart {\n",
              "    background-color: var(--bg-color);\n",
              "    border: none;\n",
              "    border-radius: 50%;\n",
              "    cursor: pointer;\n",
              "    display: none;\n",
              "    fill: var(--fill-color);\n",
              "    height: 32px;\n",
              "    padding: 0;\n",
              "    width: 32px;\n",
              "  }\n",
              "\n",
              "  .colab-df-quickchart:hover {\n",
              "    background-color: var(--hover-bg-color);\n",
              "    box-shadow: 0 1px 2px rgba(60, 64, 67, 0.3), 0 1px 3px 1px rgba(60, 64, 67, 0.15);\n",
              "    fill: var(--button-hover-fill-color);\n",
              "  }\n",
              "\n",
              "  .colab-df-quickchart-complete:disabled,\n",
              "  .colab-df-quickchart-complete:disabled:hover {\n",
              "    background-color: var(--disabled-bg-color);\n",
              "    fill: var(--disabled-fill-color);\n",
              "    box-shadow: none;\n",
              "  }\n",
              "\n",
              "  .colab-df-spinner {\n",
              "    border: 2px solid var(--fill-color);\n",
              "    border-color: transparent;\n",
              "    border-bottom-color: var(--fill-color);\n",
              "    animation:\n",
              "      spin 1s steps(1) infinite;\n",
              "  }\n",
              "\n",
              "  @keyframes spin {\n",
              "    0% {\n",
              "      border-color: transparent;\n",
              "      border-bottom-color: var(--fill-color);\n",
              "      border-left-color: var(--fill-color);\n",
              "    }\n",
              "    20% {\n",
              "      border-color: transparent;\n",
              "      border-left-color: var(--fill-color);\n",
              "      border-top-color: var(--fill-color);\n",
              "    }\n",
              "    30% {\n",
              "      border-color: transparent;\n",
              "      border-left-color: var(--fill-color);\n",
              "      border-top-color: var(--fill-color);\n",
              "      border-right-color: var(--fill-color);\n",
              "    }\n",
              "    40% {\n",
              "      border-color: transparent;\n",
              "      border-right-color: var(--fill-color);\n",
              "      border-top-color: var(--fill-color);\n",
              "    }\n",
              "    60% {\n",
              "      border-color: transparent;\n",
              "      border-right-color: var(--fill-color);\n",
              "    }\n",
              "    80% {\n",
              "      border-color: transparent;\n",
              "      border-right-color: var(--fill-color);\n",
              "      border-bottom-color: var(--fill-color);\n",
              "    }\n",
              "    90% {\n",
              "      border-color: transparent;\n",
              "      border-bottom-color: var(--fill-color);\n",
              "    }\n",
              "  }\n",
              "</style>\n",
              "\n",
              "  <script>\n",
              "    async function quickchart(key) {\n",
              "      const quickchartButtonEl =\n",
              "        document.querySelector('#' + key + ' button');\n",
              "      quickchartButtonEl.disabled = true;  // To prevent multiple clicks.\n",
              "      quickchartButtonEl.classList.add('colab-df-spinner');\n",
              "      try {\n",
              "        const charts = await google.colab.kernel.invokeFunction(\n",
              "            'suggestCharts', [key], {});\n",
              "      } catch (error) {\n",
              "        console.error('Error during call to suggestCharts:', error);\n",
              "      }\n",
              "      quickchartButtonEl.classList.remove('colab-df-spinner');\n",
              "      quickchartButtonEl.classList.add('colab-df-quickchart-complete');\n",
              "    }\n",
              "    (() => {\n",
              "      let quickchartButtonEl =\n",
              "        document.querySelector('#df-d941adae-f94e-47db-98ea-d56c5830eac7 button');\n",
              "      quickchartButtonEl.style.display =\n",
              "        google.colab.kernel.accessAllowed ? 'block' : 'none';\n",
              "    })();\n",
              "  </script>\n",
              "</div>\n",
              "    </div>\n",
              "  </div>\n"
            ]
          },
          "metadata": {},
          "execution_count": 45
        }
      ]
    },
    {
      "cell_type": "code",
      "source": [
        "import matplotlib.pyplot as plt"
      ],
      "metadata": {
        "id": "-ZCYgDbBjE3S"
      },
      "execution_count": 46,
      "outputs": []
    },
    {
      "cell_type": "code",
      "source": [
        "pd.DataFrame(model_1_history.history).plot()"
      ],
      "metadata": {
        "id": "B5INB_MBjE6b",
        "colab": {
          "base_uri": "https://localhost:8080/",
          "height": 447
        },
        "outputId": "3d3d8265-038b-4bea-f12f-12fa1b628eb9"
      },
      "execution_count": 47,
      "outputs": [
        {
          "output_type": "execute_result",
          "data": {
            "text/plain": [
              "<Axes: >"
            ]
          },
          "metadata": {},
          "execution_count": 47
        },
        {
          "output_type": "display_data",
          "data": {
            "text/plain": [
              "<Figure size 640x480 with 1 Axes>"
            ],
            "image/png": "[encoded data removed]"
          },
          "metadata": {}
        }
      ]
    },
    {
      "cell_type": "markdown",
      "source": [
        "now,lets examine another model to see if increasing the volume of dense layer have any effect"
      ],
      "metadata": {
        "id": "0JKDcJQPUUTA"
      }
    },
    {
      "cell_type": "code",
      "source": [
        "model_2_embedding = tf.keras.layers.Embedding(input_dim=vocab_size,\n",
        "                                              output_dim=128,\n",
        "                                              mask_zero=True,\n",
        "                                              embeddings_initializer=\"uniform\",\n",
        "                                              name=\"kir_asb\")"
      ],
      "metadata": {
        "id": "w5FhG7zPiqzJ"
      },
      "execution_count": 48,
      "outputs": []
    },
    {
      "cell_type": "code",
      "source": [
        "input_model_2 = tf.keras.layers.Input(shape=(1,),dtype=\"string\")\n",
        "x = vectorizer(input_model_2)\n",
        "x = model_2_embedding(x)\n",
        "x = tf.keras.layers.GlobalAveragePooling1D()(x)\n",
        "x = tf.keras.layers.Dense(128,activation=tf.keras.activations.relu)(x)\n",
        "output_2 = tf.keras.layers.Dense(1,activation=tf.keras.activations.sigmoid)(x)\n",
        "\n",
        "model_2 = tf.keras.Model(input_model_2,output_2)"
      ],
      "metadata": {
        "id": "22OC5KRqU4d0"
      },
      "execution_count": 50,
      "outputs": []
    },
    {
      "cell_type": "code",
      "source": [
        "model_2.compile(loss=tf.keras.losses.binary_crossentropy,\n",
        "                optimizer=tf.keras.optimizers.Adam(learning_rate=0.001),\n",
        "                metrics=[\"accuracy\"])"
      ],
      "metadata": {
        "id": "aahkS2pzV9l7"
      },
      "execution_count": 51,
      "outputs": []
    },
    {
      "cell_type": "code",
      "source": [
        "model_2_history = model_2.fit(train_sentence,\n",
        "                              train_labels,\n",
        "                              epochs=10,\n",
        "                              validation_data=(val_sentence,val_labels),\n",
        "                              verbose = 2)"
      ],
      "metadata": {
        "colab": {
          "base_uri": "https://localhost:8080/"
        },
        "id": "jDA4e-3yWTUn",
        "outputId": "aef5125f-6863-4ff5-b901-d0c3e89d426f"
      },
      "execution_count": 52,
      "outputs": [
        {
          "output_type": "stream",
          "name": "stdout",
          "text": [
            "Epoch 1/10\n",
            "215/215 - 10s - loss: 0.5362 - accuracy: 0.7428 - val_loss: 0.4165 - val_accuracy: 0.8189 - 10s/epoch - 45ms/step\n",
            "Epoch 2/10\n",
            "215/215 - 7s - loss: 0.2732 - accuracy: 0.8943 - val_loss: 0.4670 - val_accuracy: 0.8136 - 7s/epoch - 34ms/step\n",
            "Epoch 3/10\n",
            "215/215 - 8s - loss: 0.1269 - accuracy: 0.9549 - val_loss: 0.6163 - val_accuracy: 0.8005 - 8s/epoch - 38ms/step\n",
            "Epoch 4/10\n",
            "215/215 - 8s - loss: 0.0631 - accuracy: 0.9780 - val_loss: 0.7972 - val_accuracy: 0.7782 - 8s/epoch - 35ms/step\n",
            "Epoch 5/10\n",
            "215/215 - 8s - loss: 0.0378 - accuracy: 0.9877 - val_loss: 0.8688 - val_accuracy: 0.7822 - 8s/epoch - 36ms/step\n",
            "Epoch 6/10\n",
            "215/215 - 9s - loss: 0.0292 - accuracy: 0.9902 - val_loss: 0.9088 - val_accuracy: 0.7782 - 9s/epoch - 40ms/step\n",
            "Epoch 7/10\n",
            "215/215 - 7s - loss: 0.0221 - accuracy: 0.9939 - val_loss: 1.0298 - val_accuracy: 0.7638 - 7s/epoch - 34ms/step\n",
            "Epoch 8/10\n",
            "215/215 - 9s - loss: 0.0190 - accuracy: 0.9930 - val_loss: 1.0296 - val_accuracy: 0.7808 - 9s/epoch - 40ms/step\n",
            "Epoch 9/10\n",
            "215/215 - 8s - loss: 0.0159 - accuracy: 0.9946 - val_loss: 1.1059 - val_accuracy: 0.7717 - 8s/epoch - 37ms/step\n",
            "Epoch 10/10\n",
            "215/215 - 7s - loss: 0.0132 - accuracy: 0.9952 - val_loss: 1.1337 - val_accuracy: 0.7769 - 7s/epoch - 34ms/step\n"
          ]
        }
      ]
    },
    {
      "cell_type": "code",
      "source": [
        "pd.DataFrame(model_2_history.history).plot()"
      ],
      "metadata": {
        "colab": {
          "base_uri": "https://localhost:8080/",
          "height": 447
        },
        "id": "gp0OLG0cWq0o",
        "outputId": "3e4782ca-0f73-48e4-b74c-aeb40ca47288"
      },
      "execution_count": 54,
      "outputs": [
        {
          "output_type": "execute_result",
          "data": {
            "text/plain": [
              "<Axes: >"
            ]
          },
          "metadata": {},
          "execution_count": 54
        },
        {
          "output_type": "display_data",
          "data": {
            "text/plain": [
              "<Figure size 640x480 with 1 Axes>"
            ],
            "image/png": "[encoded data removed]"
          },
          "metadata": {}
        }
      ]
    },
    {
      "cell_type": "markdown",
      "source": [
        "Iknow,it was terrible\n",
        "\n",
        "lets see if we can imporve if we add another dnse layer"
      ],
      "metadata": {
        "id": "tQgWuA0YXOAx"
      }
    },
    {
      "cell_type": "code",
      "source": [
        "model_3_embedding = tf.keras.layers.Embedding(input_dim=vocab_size,\n",
        "                                              output_dim=256,\n",
        "                                              mask_zero=True,\n",
        "                                              name=\"kir_ensan\")"
      ],
      "metadata": {
        "id": "Seq5q1e5XI-c"
      },
      "execution_count": 55,
      "outputs": []
    },
    {
      "cell_type": "code",
      "source": [
        "input_model_3 = tf.keras.layers.Input(shape=(1,),dtype=\"string\")\n",
        "x = vectorizer(input_model_3)\n",
        "x = model_3_embedding(x)\n",
        "x = tf.keras.layers.GlobalAveragePooling1D()(x)\n",
        "x = tf.keras.layers.Dense(128,activation=tf.keras.activations.relu)(x)\n",
        "output_3 = tf.keras.layers.Dense(1,activation=tf.keras.activations.sigmoid)(x)\n",
        "\n",
        "model_3 = tf.keras.Model(input_model_3,output_3)"
      ],
      "metadata": {
        "id": "GZC5MME9Xvp4"
      },
      "execution_count": 56,
      "outputs": []
    },
    {
      "cell_type": "code",
      "source": [
        "model_3.compile(loss=tf.keras.losses.binary_crossentropy,\n",
        "                optimizer=tf.keras.optimizers.Adam(learning_rate=0.001),\n",
        "                metrics=[\"accuracy\"])"
      ],
      "metadata": {
        "id": "kuBJZ8w-YBIv"
      },
      "execution_count": 57,
      "outputs": []
    },
    {
      "cell_type": "code",
      "source": [
        "model_3_history = model_3.fit(train_sentence,\n",
        "                              train_labels,\n",
        "                              epochs=10,\n",
        "                              validation_data=(val_sentence,val_labels),\n",
        "                              verbose = 2)"
      ],
      "metadata": {
        "colab": {
          "base_uri": "https://localhost:8080/"
        },
        "id": "wnXCwFkjYFh1",
        "outputId": "f289f578-bdde-4f93-b09a-ddd9195fa4f1"
      },
      "execution_count": 58,
      "outputs": [
        {
          "output_type": "stream",
          "name": "stdout",
          "text": [
            "Epoch 1/10\n",
            "215/215 - 16s - loss: 0.5253 - accuracy: 0.7510 - val_loss: 0.4196 - val_accuracy: 0.8163 - 16s/epoch - 77ms/step\n",
            "Epoch 2/10\n",
            "215/215 - 14s - loss: 0.2593 - accuracy: 0.8993 - val_loss: 0.4869 - val_accuracy: 0.8123 - 14s/epoch - 67ms/step\n",
            "Epoch 3/10\n",
            "215/215 - 14s - loss: 0.1168 - accuracy: 0.9575 - val_loss: 0.6600 - val_accuracy: 0.8005 - 14s/epoch - 64ms/step\n",
            "Epoch 4/10\n",
            "215/215 - 14s - loss: 0.0570 - accuracy: 0.9780 - val_loss: 0.8688 - val_accuracy: 0.7756 - 14s/epoch - 67ms/step\n",
            "Epoch 5/10\n",
            "215/215 - 14s - loss: 0.0323 - accuracy: 0.9869 - val_loss: 0.9765 - val_accuracy: 0.7835 - 14s/epoch - 64ms/step\n",
            "Epoch 6/10\n",
            "215/215 - 14s - loss: 0.0238 - accuracy: 0.9893 - val_loss: 1.0515 - val_accuracy: 0.7808 - 14s/epoch - 63ms/step\n",
            "Epoch 7/10\n",
            "215/215 - 14s - loss: 0.0184 - accuracy: 0.9921 - val_loss: 1.1728 - val_accuracy: 0.7743 - 14s/epoch - 64ms/step\n",
            "Epoch 8/10\n",
            "215/215 - 14s - loss: 0.0162 - accuracy: 0.9928 - val_loss: 1.1748 - val_accuracy: 0.7808 - 14s/epoch - 65ms/step\n",
            "Epoch 9/10\n",
            "215/215 - 14s - loss: 0.0137 - accuracy: 0.9937 - val_loss: 1.2994 - val_accuracy: 0.7835 - 14s/epoch - 65ms/step\n",
            "Epoch 10/10\n",
            "215/215 - 14s - loss: 0.0129 - accuracy: 0.9936 - val_loss: 1.2789 - val_accuracy: 0.7730 - 14s/epoch - 64ms/step\n"
          ]
        }
      ]
    },
    {
      "cell_type": "code",
      "source": [
        "pd.DataFrame(model_3_history.history).plot()"
      ],
      "metadata": {
        "colab": {
          "base_uri": "https://localhost:8080/",
          "height": 447
        },
        "id": "cqGY5fiWYKsS",
        "outputId": "7051f580-1e0e-41f2-bfb7-c9b8820b9e84"
      },
      "execution_count": 59,
      "outputs": [
        {
          "output_type": "execute_result",
          "data": {
            "text/plain": [
              "<Axes: >"
            ]
          },
          "metadata": {},
          "execution_count": 59
        },
        {
          "output_type": "display_data",
          "data": {
            "text/plain": [
              "<Figure size 640x480 with 1 Axes>"
            ],
            "image/png": "[encoded data removed]"
          },
          "metadata": {}
        }
      ]
    },
    {
      "cell_type": "markdown",
      "source": [
        "it wasnt good again,\n",
        "\n",
        "so,lets use our last weapon in dense model\n",
        "\n",
        "adding another fucking layer :))"
      ],
      "metadata": {
        "id": "LETfF4ZDZCde"
      }
    },
    {
      "cell_type": "code",
      "source": [
        "model_4_embedding = tf.keras.layers.Embedding(input_dim=vocab_size,\n",
        "                                              output_dim=256,\n",
        "                                              mask_zero=True,\n",
        "                                              name=\"kiri\")"
      ],
      "metadata": {
        "id": "zPxG6pEcZBK1"
      },
      "execution_count": 62,
      "outputs": []
    },
    {
      "cell_type": "code",
      "source": [
        "input_model_4 = tf.keras.layers.Input(shape=(1,),dtype=\"string\")\n",
        "x = vectorizer(input_model_4)\n",
        "x = model_4_embedding(x)\n",
        "x = tf.keras.layers.GlobalAveragePooling1D()(x)\n",
        "x = tf.keras.layers.Dense(128,activation=tf.keras.activations.relu)(x)\n",
        "x = tf.keras.layers.Dense(128,activation=tf.keras.activations.relu)(x)\n",
        "output_4 = tf.keras.layers.Dense(1,activation=tf.keras.activations.sigmoid)(x)\n",
        "\n",
        "model_4 = tf.keras.Model(input_model_4,output_4)"
      ],
      "metadata": {
        "id": "qcyEt2Ecf4ug"
      },
      "execution_count": 67,
      "outputs": []
    },
    {
      "cell_type": "code",
      "source": [
        "model_4.compile(loss=tf.keras.losses.binary_crossentropy,\n",
        "                metrics=[\"accuracy\"],\n",
        "                optimizer=tf.keras.optimizers.Adam(learning_rate=0.001))"
      ],
      "metadata": {
        "id": "pzzMvqz9iFav"
      },
      "execution_count": 68,
      "outputs": []
    },
    {
      "cell_type": "code",
      "source": [
        "model_4_history = model_4.fit(train_sentence,\n",
        "                              train_labels,\n",
        "                              epochs=10,\n",
        "                              validation_data=(val_sentence,val_labels),\n",
        "                              verbose = 2)"
      ],
      "metadata": {
        "colab": {
          "base_uri": "https://localhost:8080/"
        },
        "id": "4-6QX4gbjRs6",
        "outputId": "5ff368ba-8b44-476f-d548-def7fcbc8c95"
      },
      "execution_count": 69,
      "outputs": [
        {
          "output_type": "stream",
          "name": "stdout",
          "text": [
            "Epoch 1/10\n",
            "215/215 - 18s - loss: 0.5129 - accuracy: 0.7503 - val_loss: 0.4174 - val_accuracy: 0.8176 - 18s/epoch - 81ms/step\n",
            "Epoch 2/10\n",
            "215/215 - 15s - loss: 0.2437 - accuracy: 0.9060 - val_loss: 0.5109 - val_accuracy: 0.8005 - 15s/epoch - 69ms/step\n",
            "Epoch 3/10\n",
            "215/215 - 15s - loss: 0.1035 - accuracy: 0.9591 - val_loss: 0.7415 - val_accuracy: 0.7927 - 15s/epoch - 69ms/step\n",
            "Epoch 4/10\n",
            "215/215 - 17s - loss: 0.0524 - accuracy: 0.9777 - val_loss: 0.9756 - val_accuracy: 0.7730 - 17s/epoch - 78ms/step\n",
            "Epoch 5/10\n",
            "215/215 - 15s - loss: 0.0318 - accuracy: 0.9874 - val_loss: 1.1942 - val_accuracy: 0.7835 - 15s/epoch - 70ms/step\n",
            "Epoch 6/10\n",
            "215/215 - 14s - loss: 0.0194 - accuracy: 0.9902 - val_loss: 1.4093 - val_accuracy: 0.7690 - 14s/epoch - 67ms/step\n",
            "Epoch 7/10\n",
            "215/215 - 15s - loss: 0.0145 - accuracy: 0.9930 - val_loss: 1.5718 - val_accuracy: 0.7717 - 15s/epoch - 69ms/step\n",
            "Epoch 8/10\n",
            "215/215 - 14s - loss: 0.0125 - accuracy: 0.9936 - val_loss: 1.7741 - val_accuracy: 0.7546 - 14s/epoch - 67ms/step\n",
            "Epoch 9/10\n",
            "215/215 - 15s - loss: 0.0105 - accuracy: 0.9946 - val_loss: 1.8058 - val_accuracy: 0.7730 - 15s/epoch - 69ms/step\n",
            "Epoch 10/10\n",
            "215/215 - 15s - loss: 0.0221 - accuracy: 0.9912 - val_loss: 1.5095 - val_accuracy: 0.7730 - 15s/epoch - 69ms/step\n"
          ]
        }
      ]
    },
    {
      "cell_type": "code",
      "source": [
        "pd.DataFrame(model_4_history.history).plot()"
      ],
      "metadata": {
        "colab": {
          "base_uri": "https://localhost:8080/",
          "height": 447
        },
        "id": "xSaRYNKajX_I",
        "outputId": "781461f2-5dd3-4653-8c90-f5ff797248f8"
      },
      "execution_count": 70,
      "outputs": [
        {
          "output_type": "execute_result",
          "data": {
            "text/plain": [
              "<Axes: >"
            ]
          },
          "metadata": {},
          "execution_count": 70
        },
        {
          "output_type": "display_data",
          "data": {
            "text/plain": [
              "<Figure size 640x480 with 1 Axes>"
            ],
            "image/png": "[encoded data removed]"
          },
          "metadata": {}
        }
      ]
    },
    {
      "cell_type": "markdown",
      "source": [
        "its not working anymore\n",
        "\n",
        "lets try to work with rnn models\n",
        "\n",
        "we will start with our famout LSTM(long_short term memory)"
      ],
      "metadata": {
        "id": "hC2DIMEckiCq"
      }
    },
    {
      "cell_type": "code",
      "source": [
        "tf.random.set_seed(85)"
      ],
      "metadata": {
        "id": "2t578FOhkg3C"
      },
      "execution_count": 71,
      "outputs": []
    },
    {
      "cell_type": "code",
      "source": [
        "model_5_embedding = tf.keras.layers.Embedding(input_dim=vocab_size,\n",
        "                                              output_dim = 128 ,\n",
        "                                              mask_zero=True,\n",
        "                                              name=\"kiri1\")"
      ],
      "metadata": {
        "id": "bYOhM5kelAfj"
      },
      "execution_count": 77,
      "outputs": []
    },
    {
      "cell_type": "code",
      "source": [
        "input_model_5 = tf.keras.layers.Input(shape=(1,),dtype=\"string\")\n",
        "x = vectorizer(input_model_5)\n",
        "x = model_5_embedding(x)\n",
        "print(x.shape)\n",
        "x = tf.keras.layers.LSTM(64)(x)\n",
        "output_5 = tf.keras.layers.Dense(1,activation=tf.keras.activations.sigmoid)(x)\n",
        "\n",
        "model_5 = tf.keras.Model(input_model_5,output_5)"
      ],
      "metadata": {
        "id": "vlCpRfu4lR4O",
        "outputId": "af505920-f680-485f-e7cb-ff642da7a97b",
        "colab": {
          "base_uri": "https://localhost:8080/"
        }
      },
      "execution_count": 81,
      "outputs": [
        {
          "output_type": "stream",
          "name": "stdout",
          "text": [
            "(None, 25, 128)\n"
          ]
        }
      ]
    },
    {
      "cell_type": "code",
      "source": [
        "model_5.compile(loss=tf.keras.losses.binary_crossentropy,\n",
        "                metrics=[\"accuracy\"],\n",
        "                optimizer=tf.keras.optimizers.Adam(learning_rate=0.001))"
      ],
      "metadata": {
        "id": "vjt2ulwDmrGJ"
      },
      "execution_count": 84,
      "outputs": []
    },
    {
      "cell_type": "code",
      "source": [
        "model_5_history = model_5.fit(train_sentence,\n",
        "                              train_labels,\n",
        "                              epochs=10,\n",
        "                              validation_data=(val_sentence,val_labels),\n",
        "                              verbose = 2)"
      ],
      "metadata": {
        "id": "GOVIQO7JnnId",
        "outputId": "70311582-9e28-43ff-c816-cdaaf74a1e57",
        "colab": {
          "base_uri": "https://localhost:8080/"
        }
      },
      "execution_count": 85,
      "outputs": [
        {
          "output_type": "stream",
          "name": "stdout",
          "text": [
            "Epoch 1/10\n",
            "215/215 - 20s - loss: 0.5106 - accuracy: 0.7558 - val_loss: 0.4425 - val_accuracy: 0.8150 - 20s/epoch - 92ms/step\n",
            "Epoch 2/10\n",
            "215/215 - 12s - loss: 0.2546 - accuracy: 0.9040 - val_loss: 0.4704 - val_accuracy: 0.7940 - 12s/epoch - 56ms/step\n",
            "Epoch 3/10\n",
            "215/215 - 12s - loss: 0.1062 - accuracy: 0.9623 - val_loss: 0.5663 - val_accuracy: 0.7966 - 12s/epoch - 58ms/step\n",
            "Epoch 4/10\n",
            "215/215 - 15s - loss: 0.0555 - accuracy: 0.9837 - val_loss: 0.7665 - val_accuracy: 0.7795 - 15s/epoch - 70ms/step\n",
            "Epoch 5/10\n",
            "215/215 - 13s - loss: 0.0361 - accuracy: 0.9892 - val_loss: 0.8205 - val_accuracy: 0.7861 - 13s/epoch - 59ms/step\n",
            "Epoch 6/10\n",
            "215/215 - 15s - loss: 0.0252 - accuracy: 0.9904 - val_loss: 0.9714 - val_accuracy: 0.7730 - 15s/epoch - 69ms/step\n",
            "Epoch 7/10\n",
            "215/215 - 12s - loss: 0.0166 - accuracy: 0.9937 - val_loss: 1.1440 - val_accuracy: 0.7677 - 12s/epoch - 55ms/step\n",
            "Epoch 8/10\n",
            "215/215 - 12s - loss: 0.0133 - accuracy: 0.9936 - val_loss: 1.1337 - val_accuracy: 0.7822 - 12s/epoch - 56ms/step\n",
            "Epoch 9/10\n",
            "215/215 - 12s - loss: 0.0104 - accuracy: 0.9946 - val_loss: 1.3459 - val_accuracy: 0.7769 - 12s/epoch - 56ms/step\n",
            "Epoch 10/10\n",
            "215/215 - 12s - loss: 0.0094 - accuracy: 0.9946 - val_loss: 1.2727 - val_accuracy: 0.7730 - 12s/epoch - 56ms/step\n"
          ]
        }
      ]
    },
    {
      "cell_type": "markdown",
      "source": [
        "its not working again\n",
        "\n",
        "i am tired :(("
      ],
      "metadata": {
        "id": "Vw5kt3nCom88"
      }
    },
    {
      "cell_type": "code",
      "source": [
        "pd.DataFrame(model_4_history.history).plot()"
      ],
      "metadata": {
        "id": "LbiKhYxmns5v",
        "outputId": "d6061bcb-0e98-415e-b4c0-6fb206286fd2",
        "colab": {
          "base_uri": "https://localhost:8080/",
          "height": 447
        }
      },
      "execution_count": 86,
      "outputs": [
        {
          "output_type": "execute_result",
          "data": {
            "text/plain": [
              "<Axes: >"
            ]
          },
          "metadata": {},
          "execution_count": 86
        },
        {
          "output_type": "display_data",
          "data": {
            "text/plain": [
              "<Figure size 640x480 with 1 Axes>"
            ],
            "image/png": "[encoded data removed]"
          },
          "metadata": {}
        }
      ]
    },
    {
      "cell_type": "markdown",
      "source": [
        "lets add another lstm cell layer"
      ],
      "metadata": {
        "id": "WhUmjjYqpS2-"
      }
    },
    {
      "cell_type": "code",
      "source": [
        "model_6_embedding = tf.keras.layers.Embedding(input_dim=vocab_size,\n",
        "                                              output_dim=128,\n",
        "                                              name=\"kk\",\n",
        "                                              mask_zero=True)"
      ],
      "metadata": {
        "id": "xSb8OH4CpRDz"
      },
      "execution_count": 89,
      "outputs": []
    },
    {
      "cell_type": "code",
      "source": [
        "input_model_6 = tf.keras.layers.Input(shape=(1,),dtype=\"string\")\n",
        "x = vectorizer(input_model_6)\n",
        "x = model_6_embedding(x)\n",
        "print(x.shape)\n",
        "x = tf.keras.layers.LSTM(128,return_sequences=True)(x)\n",
        "x = tf.keras.layers.LSTM(64)(x)\n",
        "output_6 = tf.keras.layers.Dense(1,activation=tf.keras.activations.sigmoid)(x)\n",
        "\n",
        "model_6 = tf.keras.Model(input_model_6,output_6)"
      ],
      "metadata": {
        "id": "gQTmQcPNpkH3",
        "outputId": "377fb677-9713-4769-be44-7b3674bdfab5",
        "colab": {
          "base_uri": "https://localhost:8080/"
        }
      },
      "execution_count": 91,
      "outputs": [
        {
          "output_type": "stream",
          "name": "stdout",
          "text": [
            "(None, 25, 128)\n"
          ]
        }
      ]
    },
    {
      "cell_type": "code",
      "source": [
        "model_6.compile(loss=tf.keras.losses.binary_crossentropy,\n",
        "                metrics=[\"accuracy\"],\n",
        "                optimizer=tf.keras.optimizers.Adam(learning_rate=0.001))"
      ],
      "metadata": {
        "id": "Id3n-TRCp180"
      },
      "execution_count": 92,
      "outputs": []
    },
    {
      "cell_type": "code",
      "source": [
        "model_6_history = model_6.fit(train_sentence,\n",
        "                              train_labels,\n",
        "                              epochs=10,\n",
        "                              validation_data=(val_sentence,val_labels),\n",
        "                              verbose = 2)"
      ],
      "metadata": {
        "id": "vkZcOF7ZqCqg",
        "outputId": "9a380985-fd2c-44b8-9f34-b52f0896f467",
        "colab": {
          "base_uri": "https://localhost:8080/"
        }
      },
      "execution_count": 93,
      "outputs": [
        {
          "output_type": "stream",
          "name": "stdout",
          "text": [
            "Epoch 1/10\n",
            "215/215 - 40s - loss: 0.5042 - accuracy: 0.7612 - val_loss: 0.4268 - val_accuracy: 0.8215 - 40s/epoch - 185ms/step\n",
            "Epoch 2/10\n",
            "215/215 - 23s - loss: 0.2555 - accuracy: 0.9025 - val_loss: 0.4619 - val_accuracy: 0.7940 - 23s/epoch - 107ms/step\n",
            "Epoch 3/10\n",
            "215/215 - 23s - loss: 0.1076 - accuracy: 0.9623 - val_loss: 0.6115 - val_accuracy: 0.7927 - 23s/epoch - 106ms/step\n",
            "Epoch 4/10\n",
            "215/215 - 23s - loss: 0.0591 - accuracy: 0.9838 - val_loss: 0.7313 - val_accuracy: 0.7861 - 23s/epoch - 105ms/step\n",
            "Epoch 5/10\n",
            "215/215 - 23s - loss: 0.0399 - accuracy: 0.9885 - val_loss: 0.7110 - val_accuracy: 0.7782 - 23s/epoch - 106ms/step\n",
            "Epoch 6/10\n",
            "215/215 - 23s - loss: 0.0309 - accuracy: 0.9905 - val_loss: 1.1000 - val_accuracy: 0.7388 - 23s/epoch - 105ms/step\n",
            "Epoch 7/10\n",
            "215/215 - 22s - loss: 0.0201 - accuracy: 0.9934 - val_loss: 0.9026 - val_accuracy: 0.7835 - 22s/epoch - 104ms/step\n",
            "Epoch 8/10\n",
            "215/215 - 23s - loss: 0.0138 - accuracy: 0.9930 - val_loss: 0.9841 - val_accuracy: 0.7756 - 23s/epoch - 107ms/step\n",
            "Epoch 9/10\n",
            "215/215 - 23s - loss: 0.0167 - accuracy: 0.9936 - val_loss: 1.0699 - val_accuracy: 0.7651 - 23s/epoch - 105ms/step\n",
            "Epoch 10/10\n",
            "215/215 - 24s - loss: 0.0182 - accuracy: 0.9928 - val_loss: 1.2966 - val_accuracy: 0.7546 - 24s/epoch - 111ms/step\n"
          ]
        }
      ]
    },
    {
      "cell_type": "markdown",
      "source": [
        "it got worse"
      ],
      "metadata": {
        "id": "frxYe4pesycn"
      }
    },
    {
      "cell_type": "code",
      "source": [
        "pd.DataFrame(model_6_history.history).plot()"
      ],
      "metadata": {
        "id": "QFeHhlF3qIYE",
        "outputId": "c342939f-008f-4ac0-9dcd-d32ab7c9cef2",
        "colab": {
          "base_uri": "https://localhost:8080/",
          "height": 447
        }
      },
      "execution_count": 94,
      "outputs": [
        {
          "output_type": "execute_result",
          "data": {
            "text/plain": [
              "<Axes: >"
            ]
          },
          "metadata": {},
          "execution_count": 94
        },
        {
          "output_type": "display_data",
          "data": {
            "text/plain": [
              "<Figure size 640x480 with 1 Axes>"
            ],
            "image/png": "[encoded data removed]"
          },
          "metadata": {}
        }
      ]
    },
    {
      "cell_type": "code",
      "source": [],
      "metadata": {
        "id": "lQ_L7VMss78a"
      },
      "execution_count": null,
      "outputs": []
    }
  ],
  "metadata": {
    "kernelspec": {
      "display_name": "Python 3",
      "language": "python",
      "name": "python3"
    },
    "language_info": {
      "codemirror_mode": {
        "name": "ipython",
        "version": 3
      },
      "file_extension": ".py",
      "mimetype": "text/x-python",
      "name": "python",
      "nbconvert_exporter": "python",
      "pygments_lexer": "ipython3",
      "version": "3.10.7"
    },
    "orig_nbformat": 4,
    "colab": {
      "provenance": [],
      "include_colab_link": true
    }
  },
  "nbformat": 4,
  "nbformat_minor": 0
}