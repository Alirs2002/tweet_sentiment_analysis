{
  "cells": [
    {
      "cell_type": "markdown",
      "metadata": {
        "id": "view-in-github",
        "colab_type": "text"
      },
      "source": [
        "<a href=\"https://colab.research.google.com/github/Alirs2002/tweet_sentiment_analysis/blob/main/code.ipynb\" target=\"_parent\"><img src=\"https://colab.research.google.com/assets/colab-badge.svg\" alt=\"Open In Colab\"/></a>"
      ]
    },
    {
      "cell_type": "markdown",
      "metadata": {
        "id": "Aro5D_MuNmf4"
      },
      "source": [
        "in this motherfucker project, i am going to create a model by keras,to classify tweets,to 2 classes\n",
        "\n",
        "1-disaster\n",
        "\n",
        "2-normal"
      ]
    },
    {
      "cell_type": "markdown",
      "metadata": {
        "id": "djOPZvywNmf_"
      },
      "source": [
        "lets import necessary libraries"
      ]
    },
    {
      "cell_type": "code",
      "execution_count": 1,
      "metadata": {
        "id": "x9K9MWPhNmgB"
      },
      "outputs": [],
      "source": [
        "import tensorflow as tf\n",
        "import numpy as np\n",
        "import pandas as pd\n",
        "import matplotlib.pyplot as plt"
      ]
    },
    {
      "cell_type": "markdown",
      "metadata": {
        "id": "LF1AOUfsNmgF"
      },
      "source": [
        "now,lets download our dataset"
      ]
    },
    {
      "cell_type": "code",
      "execution_count": 2,
      "metadata": {
        "colab": {
          "base_uri": "https://localhost:8080/"
        },
        "id": "R-5yf4V6NmgH",
        "outputId": "2eac8540-2bc9-4dc6-ae4d-1857fbb49a0e"
      },
      "outputs": [
        {
          "output_type": "stream",
          "name": "stdout",
          "text": [
            "--2023-10-10 15:55:47--  https://storage.googleapis.com/ztm_tf_course/nlp_getting_started.zip\n",
            "Resolving storage.googleapis.com (storage.googleapis.com)... 64.233.183.207, 173.194.193.207, 173.194.194.207, ...\n",
            "Connecting to storage.googleapis.com (storage.googleapis.com)|64.233.183.207|:443... connected.\n",
            "HTTP request sent, awaiting response... 200 OK\n",
            "Length: 607343 (593K) [application/zip]\n",
            "Saving to: ‘nlp_getting_started.zip’\n",
            "\n",
            "\rnlp_getting_started   0%[                    ]       0  --.-KB/s               \rnlp_getting_started 100%[===================>] 593.11K  --.-KB/s    in 0.005s  \n",
            "\n",
            "2023-10-10 15:55:47 (124 MB/s) - ‘nlp_getting_started.zip’ saved [607343/607343]\n",
            "\n"
          ]
        }
      ],
      "source": [
        "!wget \"https://storage.googleapis.com/ztm_tf_course/nlp_getting_started.zip\""
      ]
    },
    {
      "cell_type": "code",
      "execution_count": 3,
      "metadata": {
        "colab": {
          "base_uri": "https://localhost:8080/"
        },
        "id": "gSnDqHyXNmgJ",
        "outputId": "cb9eca03-312d-453a-e4b3-0b1d3e5a4085"
      },
      "outputs": [
        {
          "output_type": "stream",
          "name": "stdout",
          "text": [
            "nlp_getting_started.zip  sample_data\n"
          ]
        }
      ],
      "source": [
        "!ls"
      ]
    },
    {
      "cell_type": "code",
      "execution_count": 4,
      "metadata": {
        "colab": {
          "base_uri": "https://localhost:8080/"
        },
        "id": "mwTvveLMNmgK",
        "outputId": "bf825e0d-def3-49c3-fddf-c5dfca990eed"
      },
      "outputs": [
        {
          "output_type": "stream",
          "name": "stdout",
          "text": [
            "bin\t\t\t    etc     media\t\t      root  tools\n",
            "boot\t\t\t    home    mnt\t\t\t      run   usr\n",
            "content\t\t\t    lib     NGC-DL-CONTAINER-LICENSE  sbin  var\n",
            "cuda-keyring_1.0-1_all.deb  lib32   opt\t\t\t      srv\n",
            "datalab\t\t\t    lib64   proc\t\t      sys\n",
            "dev\t\t\t    libx32  python-apt\t\t      tmp\n"
          ]
        }
      ],
      "source": [
        "!ls .."
      ]
    },
    {
      "cell_type": "markdown",
      "source": [
        "now,lets create a function to unzip our data"
      ],
      "metadata": {
        "id": "Uel1DdrINtU9"
      }
    },
    {
      "cell_type": "code",
      "execution_count": 5,
      "metadata": {
        "id": "KgwX68UoNmgN"
      },
      "outputs": [],
      "source": [
        "import zipfile\n",
        "\n",
        "def unzip_data(path):\n",
        "\n",
        "  zip_file_ref = zipfile.ZipFile(path,\"r\")\n",
        "\n",
        "  zip_file_ref.extractall()\n",
        "\n",
        "  zip_file_ref.close()"
      ]
    },
    {
      "cell_type": "code",
      "source": [
        "zip_file_path = \"./nlp_getting_started.zip\""
      ],
      "metadata": {
        "id": "p2361p4FOILU"
      },
      "execution_count": 6,
      "outputs": []
    },
    {
      "cell_type": "code",
      "source": [
        "unzip_data(zip_file_path)"
      ],
      "metadata": {
        "id": "u8iqcgEeOvCx"
      },
      "execution_count": 7,
      "outputs": []
    },
    {
      "cell_type": "code",
      "source": [
        "!ls"
      ],
      "metadata": {
        "colab": {
          "base_uri": "https://localhost:8080/"
        },
        "id": "yvZ5EYUDOzB4",
        "outputId": "b7bfca22-6e06-46ff-a6b9-d6ab73b05951"
      },
      "execution_count": 8,
      "outputs": [
        {
          "output_type": "stream",
          "name": "stdout",
          "text": [
            "nlp_getting_started.zip  sample_submission.csv\ttrain.csv\n",
            "sample_data\t\t test.csv\n"
          ]
        }
      ]
    },
    {
      "cell_type": "markdown",
      "source": [
        "now,lets import our train and test datasets"
      ],
      "metadata": {
        "id": "V2IdHRZ2PDXt"
      }
    },
    {
      "cell_type": "code",
      "source": [
        "train_data_path = \"./train.csv\"\n",
        "\n",
        "test_data_path = \"./test.csv\""
      ],
      "metadata": {
        "id": "eH8ni7F5O0U_"
      },
      "execution_count": 9,
      "outputs": []
    },
    {
      "cell_type": "code",
      "source": [
        "train_data = pd.read_csv(train_data_path)\n",
        "\n",
        "test_data = pd.read_csv(test_data_path)"
      ],
      "metadata": {
        "id": "hu6KBvElPTj0"
      },
      "execution_count": 10,
      "outputs": []
    },
    {
      "cell_type": "code",
      "source": [
        "train_data"
      ],
      "metadata": {
        "colab": {
          "base_uri": "https://localhost:8080/",
          "height": 423
        },
        "id": "yscsk4-UPbWR",
        "outputId": "8cf15658-da44-43b1-89ed-942f7e809f36"
      },
      "execution_count": 11,
      "outputs": [
        {
          "output_type": "execute_result",
          "data": {
            "text/plain": [
              "         id keyword location  \\\n",
              "0         1     NaN      NaN   \n",
              "1         4     NaN      NaN   \n",
              "2         5     NaN      NaN   \n",
              "3         6     NaN      NaN   \n",
              "4         7     NaN      NaN   \n",
              "...     ...     ...      ...   \n",
              "7608  10869     NaN      NaN   \n",
              "7609  10870     NaN      NaN   \n",
              "7610  10871     NaN      NaN   \n",
              "7611  10872     NaN      NaN   \n",
              "7612  10873     NaN      NaN   \n",
              "\n",
              "                                                   text  target  \n",
              "0     Our Deeds are the Reason of this #earthquake M...       1  \n",
              "1                Forest fire near La Ronge Sask. Canada       1  \n",
              "2     All residents asked to 'shelter in place' are ...       1  \n",
              "3     13,000 people receive #wildfires evacuation or...       1  \n",
              "4     Just got sent this photo from Ruby #Alaska as ...       1  \n",
              "...                                                 ...     ...  \n",
              "7608  Two giant cranes holding a bridge collapse int...       1  \n",
              "7609  @aria_ahrary @TheTawniest The out of control w...       1  \n",
              "7610  M1.94 [01:04 UTC]?5km S of Volcano Hawaii. htt...       1  \n",
              "7611  Police investigating after an e-bike collided ...       1  \n",
              "7612  The Latest: More Homes Razed by Northern Calif...       1  \n",
              "\n",
              "[7613 rows x 5 columns]"
            ],
            "text/html": [
              "\n",
              "  <div id=\"df-e542b3e3-ba5e-4c14-97c8-21475638c8ed\" class=\"colab-df-container\">\n",
              "    <div>\n",
              "<style scoped>\n",
              "    .dataframe tbody tr th:only-of-type {\n",
              "        vertical-align: middle;\n",
              "    }\n",
              "\n",
              "    .dataframe tbody tr th {\n",
              "        vertical-align: top;\n",
              "    }\n",
              "\n",
              "    .dataframe thead th {\n",
              "        text-align: right;\n",
              "    }\n",
              "</style>\n",
              "<table border=\"1\" class=\"dataframe\">\n",
              "  <thead>\n",
              "    <tr style=\"text-align: right;\">\n",
              "      <th></th>\n",
              "      <th>id</th>\n",
              "      <th>keyword</th>\n",
              "      <th>location</th>\n",
              "      <th>text</th>\n",
              "      <th>target</th>\n",
              "    </tr>\n",
              "  </thead>\n",
              "  <tbody>\n",
              "    <tr>\n",
              "      <th>0</th>\n",
              "      <td>1</td>\n",
              "      <td>NaN</td>\n",
              "      <td>NaN</td>\n",
              "      <td>Our Deeds are the Reason of this #earthquake M...</td>\n",
              "      <td>1</td>\n",
              "    </tr>\n",
              "    <tr>\n",
              "      <th>1</th>\n",
              "      <td>4</td>\n",
              "      <td>NaN</td>\n",
              "      <td>NaN</td>\n",
              "      <td>Forest fire near La Ronge Sask. Canada</td>\n",
              "      <td>1</td>\n",
              "    </tr>\n",
              "    <tr>\n",
              "      <th>2</th>\n",
              "      <td>5</td>\n",
              "      <td>NaN</td>\n",
              "      <td>NaN</td>\n",
              "      <td>All residents asked to 'shelter in place' are ...</td>\n",
              "      <td>1</td>\n",
              "    </tr>\n",
              "    <tr>\n",
              "      <th>3</th>\n",
              "      <td>6</td>\n",
              "      <td>NaN</td>\n",
              "      <td>NaN</td>\n",
              "      <td>13,000 people receive #wildfires evacuation or...</td>\n",
              "      <td>1</td>\n",
              "    </tr>\n",
              "    <tr>\n",
              "      <th>4</th>\n",
              "      <td>7</td>\n",
              "      <td>NaN</td>\n",
              "      <td>NaN</td>\n",
              "      <td>Just got sent this photo from Ruby #Alaska as ...</td>\n",
              "      <td>1</td>\n",
              "    </tr>\n",
              "    <tr>\n",
              "      <th>...</th>\n",
              "      <td>...</td>\n",
              "      <td>...</td>\n",
              "      <td>...</td>\n",
              "      <td>...</td>\n",
              "      <td>...</td>\n",
              "    </tr>\n",
              "    <tr>\n",
              "      <th>7608</th>\n",
              "      <td>10869</td>\n",
              "      <td>NaN</td>\n",
              "      <td>NaN</td>\n",
              "      <td>Two giant cranes holding a bridge collapse int...</td>\n",
              "      <td>1</td>\n",
              "    </tr>\n",
              "    <tr>\n",
              "      <th>7609</th>\n",
              "      <td>10870</td>\n",
              "      <td>NaN</td>\n",
              "      <td>NaN</td>\n",
              "      <td>@aria_ahrary @TheTawniest The out of control w...</td>\n",
              "      <td>1</td>\n",
              "    </tr>\n",
              "    <tr>\n",
              "      <th>7610</th>\n",
              "      <td>10871</td>\n",
              "      <td>NaN</td>\n",
              "      <td>NaN</td>\n",
              "      <td>M1.94 [01:04 UTC]?5km S of Volcano Hawaii. htt...</td>\n",
              "      <td>1</td>\n",
              "    </tr>\n",
              "    <tr>\n",
              "      <th>7611</th>\n",
              "      <td>10872</td>\n",
              "      <td>NaN</td>\n",
              "      <td>NaN</td>\n",
              "      <td>Police investigating after an e-bike collided ...</td>\n",
              "      <td>1</td>\n",
              "    </tr>\n",
              "    <tr>\n",
              "      <th>7612</th>\n",
              "      <td>10873</td>\n",
              "      <td>NaN</td>\n",
              "      <td>NaN</td>\n",
              "      <td>The Latest: More Homes Razed by Northern Calif...</td>\n",
              "      <td>1</td>\n",
              "    </tr>\n",
              "  </tbody>\n",
              "</table>\n",
              "<p>7613 rows × 5 columns</p>\n",
              "</div>\n",
              "    <div class=\"colab-df-buttons\">\n",
              "\n",
              "  <div class=\"colab-df-container\">\n",
              "    <button class=\"colab-df-convert\" onclick=\"convertToInteractive('df-e542b3e3-ba5e-4c14-97c8-21475638c8ed')\"\n",
              "            title=\"Convert this dataframe to an interactive table.\"\n",
              "            style=\"display:none;\">\n",
              "\n",
              "  <svg xmlns=\"http://www.w3.org/2000/svg\" height=\"24px\" viewBox=\"0 -960 960 960\">\n",
              "    <path d=\"M120-120v-720h720v720H120Zm60-500h600v-160H180v160Zm220 220h160v-160H400v160Zm0 220h160v-160H400v160ZM180-400h160v-160H180v160Zm440 0h160v-160H620v160ZM180-180h160v-160H180v160Zm440 0h160v-160H620v160Z\"/>\n",
              "  </svg>\n",
              "    </button>\n",
              "\n",
              "  <style>\n",
              "    .colab-df-container {\n",
              "      display:flex;\n",
              "      gap: 12px;\n",
              "    }\n",
              "\n",
              "    .colab-df-convert {\n",
              "      background-color: #E8F0FE;\n",
              "      border: none;\n",
              "      border-radius: 50%;\n",
              "      cursor: pointer;\n",
              "      display: none;\n",
              "      fill: #1967D2;\n",
              "      height: 32px;\n",
              "      padding: 0 0 0 0;\n",
              "      width: 32px;\n",
              "    }\n",
              "\n",
              "    .colab-df-convert:hover {\n",
              "      background-color: #E2EBFA;\n",
              "      box-shadow: 0px 1px 2px rgba(60, 64, 67, 0.3), 0px 1px 3px 1px rgba(60, 64, 67, 0.15);\n",
              "      fill: #174EA6;\n",
              "    }\n",
              "\n",
              "    .colab-df-buttons div {\n",
              "      margin-bottom: 4px;\n",
              "    }\n",
              "\n",
              "    [theme=dark] .colab-df-convert {\n",
              "      background-color: #3B4455;\n",
              "      fill: #D2E3FC;\n",
              "    }\n",
              "\n",
              "    [theme=dark] .colab-df-convert:hover {\n",
              "      background-color: #434B5C;\n",
              "      box-shadow: 0px 1px 3px 1px rgba(0, 0, 0, 0.15);\n",
              "      filter: drop-shadow(0px 1px 2px rgba(0, 0, 0, 0.3));\n",
              "      fill: #FFFFFF;\n",
              "    }\n",
              "  </style>\n",
              "\n",
              "    <script>\n",
              "      const buttonEl =\n",
              "        document.querySelector('#df-e542b3e3-ba5e-4c14-97c8-21475638c8ed button.colab-df-convert');\n",
              "      buttonEl.style.display =\n",
              "        google.colab.kernel.accessAllowed ? 'block' : 'none';\n",
              "\n",
              "      async function convertToInteractive(key) {\n",
              "        const element = document.querySelector('#df-e542b3e3-ba5e-4c14-97c8-21475638c8ed');\n",
              "        const dataTable =\n",
              "          await google.colab.kernel.invokeFunction('convertToInteractive',\n",
              "                                                    [key], {});\n",
              "        if (!dataTable) return;\n",
              "\n",
              "        const docLinkHtml = 'Like what you see? Visit the ' +\n",
              "          '<a target=\"_blank\" href=https://colab.research.google.com/notebooks/data_table.ipynb>data table notebook</a>'\n",
              "          + ' to learn more about interactive tables.';\n",
              "        element.innerHTML = '';\n",
              "        dataTable['output_type'] = 'display_data';\n",
              "        await google.colab.output.renderOutput(dataTable, element);\n",
              "        const docLink = document.createElement('div');\n",
              "        docLink.innerHTML = docLinkHtml;\n",
              "        element.appendChild(docLink);\n",
              "      }\n",
              "    </script>\n",
              "  </div>\n",
              "\n",
              "\n",
              "<div id=\"df-f9624791-26d4-4b45-bfad-3b79d2b8ea5f\">\n",
              "  <button class=\"colab-df-quickchart\" onclick=\"quickchart('df-f9624791-26d4-4b45-bfad-3b79d2b8ea5f')\"\n",
              "            title=\"Suggest charts.\"\n",
              "            style=\"display:none;\">\n",
              "\n",
              "<svg xmlns=\"http://www.w3.org/2000/svg\" height=\"24px\"viewBox=\"0 0 24 24\"\n",
              "     width=\"24px\">\n",
              "    <g>\n",
              "        <path d=\"M19 3H5c-1.1 0-2 .9-2 2v14c0 1.1.9 2 2 2h14c1.1 0 2-.9 2-2V5c0-1.1-.9-2-2-2zM9 17H7v-7h2v7zm4 0h-2V7h2v10zm4 0h-2v-4h2v4z\"/>\n",
              "    </g>\n",
              "</svg>\n",
              "  </button>\n",
              "\n",
              "<style>\n",
              "  .colab-df-quickchart {\n",
              "      --bg-color: #E8F0FE;\n",
              "      --fill-color: #1967D2;\n",
              "      --hover-bg-color: #E2EBFA;\n",
              "      --hover-fill-color: #174EA6;\n",
              "      --disabled-fill-color: #AAA;\n",
              "      --disabled-bg-color: #DDD;\n",
              "  }\n",
              "\n",
              "  [theme=dark] .colab-df-quickchart {\n",
              "      --bg-color: #3B4455;\n",
              "      --fill-color: #D2E3FC;\n",
              "      --hover-bg-color: #434B5C;\n",
              "      --hover-fill-color: #FFFFFF;\n",
              "      --disabled-bg-color: #3B4455;\n",
              "      --disabled-fill-color: #666;\n",
              "  }\n",
              "\n",
              "  .colab-df-quickchart {\n",
              "    background-color: var(--bg-color);\n",
              "    border: none;\n",
              "    border-radius: 50%;\n",
              "    cursor: pointer;\n",
              "    display: none;\n",
              "    fill: var(--fill-color);\n",
              "    height: 32px;\n",
              "    padding: 0;\n",
              "    width: 32px;\n",
              "  }\n",
              "\n",
              "  .colab-df-quickchart:hover {\n",
              "    background-color: var(--hover-bg-color);\n",
              "    box-shadow: 0 1px 2px rgba(60, 64, 67, 0.3), 0 1px 3px 1px rgba(60, 64, 67, 0.15);\n",
              "    fill: var(--button-hover-fill-color);\n",
              "  }\n",
              "\n",
              "  .colab-df-quickchart-complete:disabled,\n",
              "  .colab-df-quickchart-complete:disabled:hover {\n",
              "    background-color: var(--disabled-bg-color);\n",
              "    fill: var(--disabled-fill-color);\n",
              "    box-shadow: none;\n",
              "  }\n",
              "\n",
              "  .colab-df-spinner {\n",
              "    border: 2px solid var(--fill-color);\n",
              "    border-color: transparent;\n",
              "    border-bottom-color: var(--fill-color);\n",
              "    animation:\n",
              "      spin 1s steps(1) infinite;\n",
              "  }\n",
              "\n",
              "  @keyframes spin {\n",
              "    0% {\n",
              "      border-color: transparent;\n",
              "      border-bottom-color: var(--fill-color);\n",
              "      border-left-color: var(--fill-color);\n",
              "    }\n",
              "    20% {\n",
              "      border-color: transparent;\n",
              "      border-left-color: var(--fill-color);\n",
              "      border-top-color: var(--fill-color);\n",
              "    }\n",
              "    30% {\n",
              "      border-color: transparent;\n",
              "      border-left-color: var(--fill-color);\n",
              "      border-top-color: var(--fill-color);\n",
              "      border-right-color: var(--fill-color);\n",
              "    }\n",
              "    40% {\n",
              "      border-color: transparent;\n",
              "      border-right-color: var(--fill-color);\n",
              "      border-top-color: var(--fill-color);\n",
              "    }\n",
              "    60% {\n",
              "      border-color: transparent;\n",
              "      border-right-color: var(--fill-color);\n",
              "    }\n",
              "    80% {\n",
              "      border-color: transparent;\n",
              "      border-right-color: var(--fill-color);\n",
              "      border-bottom-color: var(--fill-color);\n",
              "    }\n",
              "    90% {\n",
              "      border-color: transparent;\n",
              "      border-bottom-color: var(--fill-color);\n",
              "    }\n",
              "  }\n",
              "</style>\n",
              "\n",
              "  <script>\n",
              "    async function quickchart(key) {\n",
              "      const quickchartButtonEl =\n",
              "        document.querySelector('#' + key + ' button');\n",
              "      quickchartButtonEl.disabled = true;  // To prevent multiple clicks.\n",
              "      quickchartButtonEl.classList.add('colab-df-spinner');\n",
              "      try {\n",
              "        const charts = await google.colab.kernel.invokeFunction(\n",
              "            'suggestCharts', [key], {});\n",
              "      } catch (error) {\n",
              "        console.error('Error during call to suggestCharts:', error);\n",
              "      }\n",
              "      quickchartButtonEl.classList.remove('colab-df-spinner');\n",
              "      quickchartButtonEl.classList.add('colab-df-quickchart-complete');\n",
              "    }\n",
              "    (() => {\n",
              "      let quickchartButtonEl =\n",
              "        document.querySelector('#df-f9624791-26d4-4b45-bfad-3b79d2b8ea5f button');\n",
              "      quickchartButtonEl.style.display =\n",
              "        google.colab.kernel.accessAllowed ? 'block' : 'none';\n",
              "    })();\n",
              "  </script>\n",
              "</div>\n",
              "    </div>\n",
              "  </div>\n"
            ]
          },
          "metadata": {},
          "execution_count": 11
        }
      ]
    },
    {
      "cell_type": "code",
      "source": [
        "pd.options.display.max_colwidth=200"
      ],
      "metadata": {
        "id": "FWrPrNaHQ1UF"
      },
      "execution_count": 12,
      "outputs": []
    },
    {
      "cell_type": "code",
      "source": [
        "train_data[:2][[\"text\",\"target\"]]"
      ],
      "metadata": {
        "colab": {
          "base_uri": "https://localhost:8080/",
          "height": 112
        },
        "id": "WbUylfuiPcnm",
        "outputId": "9d9b7ea8-72f7-4655-adf9-1b9de6cd649f"
      },
      "execution_count": 13,
      "outputs": [
        {
          "output_type": "execute_result",
          "data": {
            "text/plain": [
              "                                                                    text  \\\n",
              "0  Our Deeds are the Reason of this #earthquake May ALLAH Forgive us all   \n",
              "1                                 Forest fire near La Ronge Sask. Canada   \n",
              "\n",
              "   target  \n",
              "0       1  \n",
              "1       1  "
            ],
            "text/html": [
              "\n",
              "  <div id=\"df-7c732c0a-dd89-4703-a824-1fdd44ea4536\" class=\"colab-df-container\">\n",
              "    <div>\n",
              "<style scoped>\n",
              "    .dataframe tbody tr th:only-of-type {\n",
              "        vertical-align: middle;\n",
              "    }\n",
              "\n",
              "    .dataframe tbody tr th {\n",
              "        vertical-align: top;\n",
              "    }\n",
              "\n",
              "    .dataframe thead th {\n",
              "        text-align: right;\n",
              "    }\n",
              "</style>\n",
              "<table border=\"1\" class=\"dataframe\">\n",
              "  <thead>\n",
              "    <tr style=\"text-align: right;\">\n",
              "      <th></th>\n",
              "      <th>text</th>\n",
              "      <th>target</th>\n",
              "    </tr>\n",
              "  </thead>\n",
              "  <tbody>\n",
              "    <tr>\n",
              "      <th>0</th>\n",
              "      <td>Our Deeds are the Reason of this #earthquake May ALLAH Forgive us all</td>\n",
              "      <td>1</td>\n",
              "    </tr>\n",
              "    <tr>\n",
              "      <th>1</th>\n",
              "      <td>Forest fire near La Ronge Sask. Canada</td>\n",
              "      <td>1</td>\n",
              "    </tr>\n",
              "  </tbody>\n",
              "</table>\n",
              "</div>\n",
              "    <div class=\"colab-df-buttons\">\n",
              "\n",
              "  <div class=\"colab-df-container\">\n",
              "    <button class=\"colab-df-convert\" onclick=\"convertToInteractive('df-7c732c0a-dd89-4703-a824-1fdd44ea4536')\"\n",
              "            title=\"Convert this dataframe to an interactive table.\"\n",
              "            style=\"display:none;\">\n",
              "\n",
              "  <svg xmlns=\"http://www.w3.org/2000/svg\" height=\"24px\" viewBox=\"0 -960 960 960\">\n",
              "    <path d=\"M120-120v-720h720v720H120Zm60-500h600v-160H180v160Zm220 220h160v-160H400v160Zm0 220h160v-160H400v160ZM180-400h160v-160H180v160Zm440 0h160v-160H620v160ZM180-180h160v-160H180v160Zm440 0h160v-160H620v160Z\"/>\n",
              "  </svg>\n",
              "    </button>\n",
              "\n",
              "  <style>\n",
              "    .colab-df-container {\n",
              "      display:flex;\n",
              "      gap: 12px;\n",
              "    }\n",
              "\n",
              "    .colab-df-convert {\n",
              "      background-color: #E8F0FE;\n",
              "      border: none;\n",
              "      border-radius: 50%;\n",
              "      cursor: pointer;\n",
              "      display: none;\n",
              "      fill: #1967D2;\n",
              "      height: 32px;\n",
              "      padding: 0 0 0 0;\n",
              "      width: 32px;\n",
              "    }\n",
              "\n",
              "    .colab-df-convert:hover {\n",
              "      background-color: #E2EBFA;\n",
              "      box-shadow: 0px 1px 2px rgba(60, 64, 67, 0.3), 0px 1px 3px 1px rgba(60, 64, 67, 0.15);\n",
              "      fill: #174EA6;\n",
              "    }\n",
              "\n",
              "    .colab-df-buttons div {\n",
              "      margin-bottom: 4px;\n",
              "    }\n",
              "\n",
              "    [theme=dark] .colab-df-convert {\n",
              "      background-color: #3B4455;\n",
              "      fill: #D2E3FC;\n",
              "    }\n",
              "\n",
              "    [theme=dark] .colab-df-convert:hover {\n",
              "      background-color: #434B5C;\n",
              "      box-shadow: 0px 1px 3px 1px rgba(0, 0, 0, 0.15);\n",
              "      filter: drop-shadow(0px 1px 2px rgba(0, 0, 0, 0.3));\n",
              "      fill: #FFFFFF;\n",
              "    }\n",
              "  </style>\n",
              "\n",
              "    <script>\n",
              "      const buttonEl =\n",
              "        document.querySelector('#df-7c732c0a-dd89-4703-a824-1fdd44ea4536 button.colab-df-convert');\n",
              "      buttonEl.style.display =\n",
              "        google.colab.kernel.accessAllowed ? 'block' : 'none';\n",
              "\n",
              "      async function convertToInteractive(key) {\n",
              "        const element = document.querySelector('#df-7c732c0a-dd89-4703-a824-1fdd44ea4536');\n",
              "        const dataTable =\n",
              "          await google.colab.kernel.invokeFunction('convertToInteractive',\n",
              "                                                    [key], {});\n",
              "        if (!dataTable) return;\n",
              "\n",
              "        const docLinkHtml = 'Like what you see? Visit the ' +\n",
              "          '<a target=\"_blank\" href=https://colab.research.google.com/notebooks/data_table.ipynb>data table notebook</a>'\n",
              "          + ' to learn more about interactive tables.';\n",
              "        element.innerHTML = '';\n",
              "        dataTable['output_type'] = 'display_data';\n",
              "        await google.colab.output.renderOutput(dataTable, element);\n",
              "        const docLink = document.createElement('div');\n",
              "        docLink.innerHTML = docLinkHtml;\n",
              "        element.appendChild(docLink);\n",
              "      }\n",
              "    </script>\n",
              "  </div>\n",
              "\n",
              "\n",
              "<div id=\"df-d2a44364-3f62-4e04-9eee-9fe28980cc1d\">\n",
              "  <button class=\"colab-df-quickchart\" onclick=\"quickchart('df-d2a44364-3f62-4e04-9eee-9fe28980cc1d')\"\n",
              "            title=\"Suggest charts.\"\n",
              "            style=\"display:none;\">\n",
              "\n",
              "<svg xmlns=\"http://www.w3.org/2000/svg\" height=\"24px\"viewBox=\"0 0 24 24\"\n",
              "     width=\"24px\">\n",
              "    <g>\n",
              "        <path d=\"M19 3H5c-1.1 0-2 .9-2 2v14c0 1.1.9 2 2 2h14c1.1 0 2-.9 2-2V5c0-1.1-.9-2-2-2zM9 17H7v-7h2v7zm4 0h-2V7h2v10zm4 0h-2v-4h2v4z\"/>\n",
              "    </g>\n",
              "</svg>\n",
              "  </button>\n",
              "\n",
              "<style>\n",
              "  .colab-df-quickchart {\n",
              "      --bg-color: #E8F0FE;\n",
              "      --fill-color: #1967D2;\n",
              "      --hover-bg-color: #E2EBFA;\n",
              "      --hover-fill-color: #174EA6;\n",
              "      --disabled-fill-color: #AAA;\n",
              "      --disabled-bg-color: #DDD;\n",
              "  }\n",
              "\n",
              "  [theme=dark] .colab-df-quickchart {\n",
              "      --bg-color: #3B4455;\n",
              "      --fill-color: #D2E3FC;\n",
              "      --hover-bg-color: #434B5C;\n",
              "      --hover-fill-color: #FFFFFF;\n",
              "      --disabled-bg-color: #3B4455;\n",
              "      --disabled-fill-color: #666;\n",
              "  }\n",
              "\n",
              "  .colab-df-quickchart {\n",
              "    background-color: var(--bg-color);\n",
              "    border: none;\n",
              "    border-radius: 50%;\n",
              "    cursor: pointer;\n",
              "    display: none;\n",
              "    fill: var(--fill-color);\n",
              "    height: 32px;\n",
              "    padding: 0;\n",
              "    width: 32px;\n",
              "  }\n",
              "\n",
              "  .colab-df-quickchart:hover {\n",
              "    background-color: var(--hover-bg-color);\n",
              "    box-shadow: 0 1px 2px rgba(60, 64, 67, 0.3), 0 1px 3px 1px rgba(60, 64, 67, 0.15);\n",
              "    fill: var(--button-hover-fill-color);\n",
              "  }\n",
              "\n",
              "  .colab-df-quickchart-complete:disabled,\n",
              "  .colab-df-quickchart-complete:disabled:hover {\n",
              "    background-color: var(--disabled-bg-color);\n",
              "    fill: var(--disabled-fill-color);\n",
              "    box-shadow: none;\n",
              "  }\n",
              "\n",
              "  .colab-df-spinner {\n",
              "    border: 2px solid var(--fill-color);\n",
              "    border-color: transparent;\n",
              "    border-bottom-color: var(--fill-color);\n",
              "    animation:\n",
              "      spin 1s steps(1) infinite;\n",
              "  }\n",
              "\n",
              "  @keyframes spin {\n",
              "    0% {\n",
              "      border-color: transparent;\n",
              "      border-bottom-color: var(--fill-color);\n",
              "      border-left-color: var(--fill-color);\n",
              "    }\n",
              "    20% {\n",
              "      border-color: transparent;\n",
              "      border-left-color: var(--fill-color);\n",
              "      border-top-color: var(--fill-color);\n",
              "    }\n",
              "    30% {\n",
              "      border-color: transparent;\n",
              "      border-left-color: var(--fill-color);\n",
              "      border-top-color: var(--fill-color);\n",
              "      border-right-color: var(--fill-color);\n",
              "    }\n",
              "    40% {\n",
              "      border-color: transparent;\n",
              "      border-right-color: var(--fill-color);\n",
              "      border-top-color: var(--fill-color);\n",
              "    }\n",
              "    60% {\n",
              "      border-color: transparent;\n",
              "      border-right-color: var(--fill-color);\n",
              "    }\n",
              "    80% {\n",
              "      border-color: transparent;\n",
              "      border-right-color: var(--fill-color);\n",
              "      border-bottom-color: var(--fill-color);\n",
              "    }\n",
              "    90% {\n",
              "      border-color: transparent;\n",
              "      border-bottom-color: var(--fill-color);\n",
              "    }\n",
              "  }\n",
              "</style>\n",
              "\n",
              "  <script>\n",
              "    async function quickchart(key) {\n",
              "      const quickchartButtonEl =\n",
              "        document.querySelector('#' + key + ' button');\n",
              "      quickchartButtonEl.disabled = true;  // To prevent multiple clicks.\n",
              "      quickchartButtonEl.classList.add('colab-df-spinner');\n",
              "      try {\n",
              "        const charts = await google.colab.kernel.invokeFunction(\n",
              "            'suggestCharts', [key], {});\n",
              "      } catch (error) {\n",
              "        console.error('Error during call to suggestCharts:', error);\n",
              "      }\n",
              "      quickchartButtonEl.classList.remove('colab-df-spinner');\n",
              "      quickchartButtonEl.classList.add('colab-df-quickchart-complete');\n",
              "    }\n",
              "    (() => {\n",
              "      let quickchartButtonEl =\n",
              "        document.querySelector('#df-d2a44364-3f62-4e04-9eee-9fe28980cc1d button');\n",
              "      quickchartButtonEl.style.display =\n",
              "        google.colab.kernel.accessAllowed ? 'block' : 'none';\n",
              "    })();\n",
              "  </script>\n",
              "</div>\n",
              "    </div>\n",
              "  </div>\n"
            ]
          },
          "metadata": {},
          "execution_count": 13
        }
      ]
    },
    {
      "cell_type": "code",
      "source": [
        "train_data[\"target\"].value_counts()"
      ],
      "metadata": {
        "colab": {
          "base_uri": "https://localhost:8080/"
        },
        "id": "yNenFkH5PpQp",
        "outputId": "d9b184fc-ce42-42e7-ff15-aafb9f1a1672"
      },
      "execution_count": 14,
      "outputs": [
        {
          "output_type": "execute_result",
          "data": {
            "text/plain": [
              "0    4342\n",
              "1    3271\n",
              "Name: target, dtype: int64"
            ]
          },
          "metadata": {},
          "execution_count": 14
        }
      ]
    },
    {
      "cell_type": "code",
      "source": [
        "train_data.tail()"
      ],
      "metadata": {
        "colab": {
          "base_uri": "https://localhost:8080/",
          "height": 241
        },
        "id": "8tRXGiEAP5ru",
        "outputId": "9c4c1dcc-bee1-4516-9447-d4cb6e7b51ec"
      },
      "execution_count": 15,
      "outputs": [
        {
          "output_type": "execute_result",
          "data": {
            "text/plain": [
              "         id keyword location  \\\n",
              "7608  10869     NaN      NaN   \n",
              "7609  10870     NaN      NaN   \n",
              "7610  10871     NaN      NaN   \n",
              "7611  10872     NaN      NaN   \n",
              "7612  10873     NaN      NaN   \n",
              "\n",
              "                                                                                                                                           text  \\\n",
              "7608                                                        Two giant cranes holding a bridge collapse into nearby homes http://t.co/STfMbbZFB5   \n",
              "7609              @aria_ahrary @TheTawniest The out of control wild fires in California even in the Northern part of the state. Very troubling.   \n",
              "7610                                                                          M1.94 [01:04 UTC]?5km S of Volcano Hawaii. http://t.co/zDtoyd8EbJ   \n",
              "7611  Police investigating after an e-bike collided with a car in Little Portugal. E-bike rider suffered serious non-life threatening injuries.   \n",
              "7612                                             The Latest: More Homes Razed by Northern California Wildfire - ABC News http://t.co/YmY4rSkQ3d   \n",
              "\n",
              "      target  \n",
              "7608       1  \n",
              "7609       1  \n",
              "7610       1  \n",
              "7611       1  \n",
              "7612       1  "
            ],
            "text/html": [
              "\n",
              "  <div id=\"df-4b544e80-c2c8-4707-8e41-81cfdf8ee263\" class=\"colab-df-container\">\n",
              "    <div>\n",
              "<style scoped>\n",
              "    .dataframe tbody tr th:only-of-type {\n",
              "        vertical-align: middle;\n",
              "    }\n",
              "\n",
              "    .dataframe tbody tr th {\n",
              "        vertical-align: top;\n",
              "    }\n",
              "\n",
              "    .dataframe thead th {\n",
              "        text-align: right;\n",
              "    }\n",
              "</style>\n",
              "<table border=\"1\" class=\"dataframe\">\n",
              "  <thead>\n",
              "    <tr style=\"text-align: right;\">\n",
              "      <th></th>\n",
              "      <th>id</th>\n",
              "      <th>keyword</th>\n",
              "      <th>location</th>\n",
              "      <th>text</th>\n",
              "      <th>target</th>\n",
              "    </tr>\n",
              "  </thead>\n",
              "  <tbody>\n",
              "    <tr>\n",
              "      <th>7608</th>\n",
              "      <td>10869</td>\n",
              "      <td>NaN</td>\n",
              "      <td>NaN</td>\n",
              "      <td>Two giant cranes holding a bridge collapse into nearby homes http://t.co/STfMbbZFB5</td>\n",
              "      <td>1</td>\n",
              "    </tr>\n",
              "    <tr>\n",
              "      <th>7609</th>\n",
              "      <td>10870</td>\n",
              "      <td>NaN</td>\n",
              "      <td>NaN</td>\n",
              "      <td>@aria_ahrary @TheTawniest The out of control wild fires in California even in the Northern part of the state. Very troubling.</td>\n",
              "      <td>1</td>\n",
              "    </tr>\n",
              "    <tr>\n",
              "      <th>7610</th>\n",
              "      <td>10871</td>\n",
              "      <td>NaN</td>\n",
              "      <td>NaN</td>\n",
              "      <td>M1.94 [01:04 UTC]?5km S of Volcano Hawaii. http://t.co/zDtoyd8EbJ</td>\n",
              "      <td>1</td>\n",
              "    </tr>\n",
              "    <tr>\n",
              "      <th>7611</th>\n",
              "      <td>10872</td>\n",
              "      <td>NaN</td>\n",
              "      <td>NaN</td>\n",
              "      <td>Police investigating after an e-bike collided with a car in Little Portugal. E-bike rider suffered serious non-life threatening injuries.</td>\n",
              "      <td>1</td>\n",
              "    </tr>\n",
              "    <tr>\n",
              "      <th>7612</th>\n",
              "      <td>10873</td>\n",
              "      <td>NaN</td>\n",
              "      <td>NaN</td>\n",
              "      <td>The Latest: More Homes Razed by Northern California Wildfire - ABC News http://t.co/YmY4rSkQ3d</td>\n",
              "      <td>1</td>\n",
              "    </tr>\n",
              "  </tbody>\n",
              "</table>\n",
              "</div>\n",
              "    <div class=\"colab-df-buttons\">\n",
              "\n",
              "  <div class=\"colab-df-container\">\n",
              "    <button class=\"colab-df-convert\" onclick=\"convertToInteractive('df-4b544e80-c2c8-4707-8e41-81cfdf8ee263')\"\n",
              "            title=\"Convert this dataframe to an interactive table.\"\n",
              "            style=\"display:none;\">\n",
              "\n",
              "  <svg xmlns=\"http://www.w3.org/2000/svg\" height=\"24px\" viewBox=\"0 -960 960 960\">\n",
              "    <path d=\"M120-120v-720h720v720H120Zm60-500h600v-160H180v160Zm220 220h160v-160H400v160Zm0 220h160v-160H400v160ZM180-400h160v-160H180v160Zm440 0h160v-160H620v160ZM180-180h160v-160H180v160Zm440 0h160v-160H620v160Z\"/>\n",
              "  </svg>\n",
              "    </button>\n",
              "\n",
              "  <style>\n",
              "    .colab-df-container {\n",
              "      display:flex;\n",
              "      gap: 12px;\n",
              "    }\n",
              "\n",
              "    .colab-df-convert {\n",
              "      background-color: #E8F0FE;\n",
              "      border: none;\n",
              "      border-radius: 50%;\n",
              "      cursor: pointer;\n",
              "      display: none;\n",
              "      fill: #1967D2;\n",
              "      height: 32px;\n",
              "      padding: 0 0 0 0;\n",
              "      width: 32px;\n",
              "    }\n",
              "\n",
              "    .colab-df-convert:hover {\n",
              "      background-color: #E2EBFA;\n",
              "      box-shadow: 0px 1px 2px rgba(60, 64, 67, 0.3), 0px 1px 3px 1px rgba(60, 64, 67, 0.15);\n",
              "      fill: #174EA6;\n",
              "    }\n",
              "\n",
              "    .colab-df-buttons div {\n",
              "      margin-bottom: 4px;\n",
              "    }\n",
              "\n",
              "    [theme=dark] .colab-df-convert {\n",
              "      background-color: #3B4455;\n",
              "      fill: #D2E3FC;\n",
              "    }\n",
              "\n",
              "    [theme=dark] .colab-df-convert:hover {\n",
              "      background-color: #434B5C;\n",
              "      box-shadow: 0px 1px 3px 1px rgba(0, 0, 0, 0.15);\n",
              "      filter: drop-shadow(0px 1px 2px rgba(0, 0, 0, 0.3));\n",
              "      fill: #FFFFFF;\n",
              "    }\n",
              "  </style>\n",
              "\n",
              "    <script>\n",
              "      const buttonEl =\n",
              "        document.querySelector('#df-4b544e80-c2c8-4707-8e41-81cfdf8ee263 button.colab-df-convert');\n",
              "      buttonEl.style.display =\n",
              "        google.colab.kernel.accessAllowed ? 'block' : 'none';\n",
              "\n",
              "      async function convertToInteractive(key) {\n",
              "        const element = document.querySelector('#df-4b544e80-c2c8-4707-8e41-81cfdf8ee263');\n",
              "        const dataTable =\n",
              "          await google.colab.kernel.invokeFunction('convertToInteractive',\n",
              "                                                    [key], {});\n",
              "        if (!dataTable) return;\n",
              "\n",
              "        const docLinkHtml = 'Like what you see? Visit the ' +\n",
              "          '<a target=\"_blank\" href=https://colab.research.google.com/notebooks/data_table.ipynb>data table notebook</a>'\n",
              "          + ' to learn more about interactive tables.';\n",
              "        element.innerHTML = '';\n",
              "        dataTable['output_type'] = 'display_data';\n",
              "        await google.colab.output.renderOutput(dataTable, element);\n",
              "        const docLink = document.createElement('div');\n",
              "        docLink.innerHTML = docLinkHtml;\n",
              "        element.appendChild(docLink);\n",
              "      }\n",
              "    </script>\n",
              "  </div>\n",
              "\n",
              "\n",
              "<div id=\"df-dafed02b-7301-43d3-b9d1-9471e9a61c57\">\n",
              "  <button class=\"colab-df-quickchart\" onclick=\"quickchart('df-dafed02b-7301-43d3-b9d1-9471e9a61c57')\"\n",
              "            title=\"Suggest charts.\"\n",
              "            style=\"display:none;\">\n",
              "\n",
              "<svg xmlns=\"http://www.w3.org/2000/svg\" height=\"24px\"viewBox=\"0 0 24 24\"\n",
              "     width=\"24px\">\n",
              "    <g>\n",
              "        <path d=\"M19 3H5c-1.1 0-2 .9-2 2v14c0 1.1.9 2 2 2h14c1.1 0 2-.9 2-2V5c0-1.1-.9-2-2-2zM9 17H7v-7h2v7zm4 0h-2V7h2v10zm4 0h-2v-4h2v4z\"/>\n",
              "    </g>\n",
              "</svg>\n",
              "  </button>\n",
              "\n",
              "<style>\n",
              "  .colab-df-quickchart {\n",
              "      --bg-color: #E8F0FE;\n",
              "      --fill-color: #1967D2;\n",
              "      --hover-bg-color: #E2EBFA;\n",
              "      --hover-fill-color: #174EA6;\n",
              "      --disabled-fill-color: #AAA;\n",
              "      --disabled-bg-color: #DDD;\n",
              "  }\n",
              "\n",
              "  [theme=dark] .colab-df-quickchart {\n",
              "      --bg-color: #3B4455;\n",
              "      --fill-color: #D2E3FC;\n",
              "      --hover-bg-color: #434B5C;\n",
              "      --hover-fill-color: #FFFFFF;\n",
              "      --disabled-bg-color: #3B4455;\n",
              "      --disabled-fill-color: #666;\n",
              "  }\n",
              "\n",
              "  .colab-df-quickchart {\n",
              "    background-color: var(--bg-color);\n",
              "    border: none;\n",
              "    border-radius: 50%;\n",
              "    cursor: pointer;\n",
              "    display: none;\n",
              "    fill: var(--fill-color);\n",
              "    height: 32px;\n",
              "    padding: 0;\n",
              "    width: 32px;\n",
              "  }\n",
              "\n",
              "  .colab-df-quickchart:hover {\n",
              "    background-color: var(--hover-bg-color);\n",
              "    box-shadow: 0 1px 2px rgba(60, 64, 67, 0.3), 0 1px 3px 1px rgba(60, 64, 67, 0.15);\n",
              "    fill: var(--button-hover-fill-color);\n",
              "  }\n",
              "\n",
              "  .colab-df-quickchart-complete:disabled,\n",
              "  .colab-df-quickchart-complete:disabled:hover {\n",
              "    background-color: var(--disabled-bg-color);\n",
              "    fill: var(--disabled-fill-color);\n",
              "    box-shadow: none;\n",
              "  }\n",
              "\n",
              "  .colab-df-spinner {\n",
              "    border: 2px solid var(--fill-color);\n",
              "    border-color: transparent;\n",
              "    border-bottom-color: var(--fill-color);\n",
              "    animation:\n",
              "      spin 1s steps(1) infinite;\n",
              "  }\n",
              "\n",
              "  @keyframes spin {\n",
              "    0% {\n",
              "      border-color: transparent;\n",
              "      border-bottom-color: var(--fill-color);\n",
              "      border-left-color: var(--fill-color);\n",
              "    }\n",
              "    20% {\n",
              "      border-color: transparent;\n",
              "      border-left-color: var(--fill-color);\n",
              "      border-top-color: var(--fill-color);\n",
              "    }\n",
              "    30% {\n",
              "      border-color: transparent;\n",
              "      border-left-color: var(--fill-color);\n",
              "      border-top-color: var(--fill-color);\n",
              "      border-right-color: var(--fill-color);\n",
              "    }\n",
              "    40% {\n",
              "      border-color: transparent;\n",
              "      border-right-color: var(--fill-color);\n",
              "      border-top-color: var(--fill-color);\n",
              "    }\n",
              "    60% {\n",
              "      border-color: transparent;\n",
              "      border-right-color: var(--fill-color);\n",
              "    }\n",
              "    80% {\n",
              "      border-color: transparent;\n",
              "      border-right-color: var(--fill-color);\n",
              "      border-bottom-color: var(--fill-color);\n",
              "    }\n",
              "    90% {\n",
              "      border-color: transparent;\n",
              "      border-bottom-color: var(--fill-color);\n",
              "    }\n",
              "  }\n",
              "</style>\n",
              "\n",
              "  <script>\n",
              "    async function quickchart(key) {\n",
              "      const quickchartButtonEl =\n",
              "        document.querySelector('#' + key + ' button');\n",
              "      quickchartButtonEl.disabled = true;  // To prevent multiple clicks.\n",
              "      quickchartButtonEl.classList.add('colab-df-spinner');\n",
              "      try {\n",
              "        const charts = await google.colab.kernel.invokeFunction(\n",
              "            'suggestCharts', [key], {});\n",
              "      } catch (error) {\n",
              "        console.error('Error during call to suggestCharts:', error);\n",
              "      }\n",
              "      quickchartButtonEl.classList.remove('colab-df-spinner');\n",
              "      quickchartButtonEl.classList.add('colab-df-quickchart-complete');\n",
              "    }\n",
              "    (() => {\n",
              "      let quickchartButtonEl =\n",
              "        document.querySelector('#df-dafed02b-7301-43d3-b9d1-9471e9a61c57 button');\n",
              "      quickchartButtonEl.style.display =\n",
              "        google.colab.kernel.accessAllowed ? 'block' : 'none';\n",
              "    })();\n",
              "  </script>\n",
              "</div>\n",
              "    </div>\n",
              "  </div>\n"
            ]
          },
          "metadata": {},
          "execution_count": 15
        }
      ]
    },
    {
      "cell_type": "code",
      "source": [
        "print(len(train_data))"
      ],
      "metadata": {
        "colab": {
          "base_uri": "https://localhost:8080/"
        },
        "id": "Bf0sIrGcR37a",
        "outputId": "ae97ca18-6336-489b-9496-3ad97a3b0497"
      },
      "execution_count": 16,
      "outputs": [
        {
          "output_type": "stream",
          "name": "stdout",
          "text": [
            "7613\n"
          ]
        }
      ]
    },
    {
      "cell_type": "code",
      "source": [
        "train_data.info()"
      ],
      "metadata": {
        "colab": {
          "base_uri": "https://localhost:8080/"
        },
        "id": "CJHpj4HLR9G2",
        "outputId": "63533f43-e565-47b5-c2e6-6a35d1fc63b3"
      },
      "execution_count": 17,
      "outputs": [
        {
          "output_type": "stream",
          "name": "stdout",
          "text": [
            "<class 'pandas.core.frame.DataFrame'>\n",
            "RangeIndex: 7613 entries, 0 to 7612\n",
            "Data columns (total 5 columns):\n",
            " #   Column    Non-Null Count  Dtype \n",
            "---  ------    --------------  ----- \n",
            " 0   id        7613 non-null   int64 \n",
            " 1   keyword   7552 non-null   object\n",
            " 2   location  5080 non-null   object\n",
            " 3   text      7613 non-null   object\n",
            " 4   target    7613 non-null   int64 \n",
            "dtypes: int64(2), object(3)\n",
            "memory usage: 297.5+ KB\n"
          ]
        }
      ]
    },
    {
      "cell_type": "code",
      "source": [
        "pd.options.display.max_dir_items=200"
      ],
      "metadata": {
        "id": "S-V28s30TCUG"
      },
      "execution_count": 18,
      "outputs": []
    },
    {
      "cell_type": "code",
      "source": [
        "train_data[\"keyword\"].isnull().value_counts()"
      ],
      "metadata": {
        "colab": {
          "base_uri": "https://localhost:8080/"
        },
        "id": "slMBDNLwSAON",
        "outputId": "b8a939d6-8b83-4013-9755-4037a5ba13a9"
      },
      "execution_count": 19,
      "outputs": [
        {
          "output_type": "execute_result",
          "data": {
            "text/plain": [
              "False    7552\n",
              "True       61\n",
              "Name: keyword, dtype: int64"
            ]
          },
          "metadata": {},
          "execution_count": 19
        }
      ]
    },
    {
      "cell_type": "code",
      "source": [
        "train_data[100:105]"
      ],
      "metadata": {
        "colab": {
          "base_uri": "https://localhost:8080/",
          "height": 293
        },
        "id": "xHqoAlAYS1bf",
        "outputId": "5e9288e2-4eb6-4934-8624-f22ebcd3e047"
      },
      "execution_count": 20,
      "outputs": [
        {
          "output_type": "execute_result",
          "data": {
            "text/plain": [
              "      id     keyword                  location  \\\n",
              "100  144    accident                        UK   \n",
              "101  145    accident            Nairobi, Kenya   \n",
              "102  146  aftershock  Instagram - @heyimginog    \n",
              "103  149  aftershock                       304   \n",
              "104  151  aftershock               Switzerland   \n",
              "\n",
              "                                                                                                                                            text  \\\n",
              "100                 .@NorwayMFA #Bahrain police had previously died in a road accident they were not killed by explosion https://t.co/gFJfgTodad   \n",
              "101  I still have not heard Church Leaders of Kenya coming forward to comment on the accident issue and disciplinary measures#ArrestPastorNganga   \n",
              "102                                                                                            @afterShock_DeLo scuf ps live and the game... cya   \n",
              "103                              'The man who can drive himself further once the effort gets painful is the man who will win.' \\nRoger Bannister   \n",
              "104   320 [IR] ICEMOON [AFTERSHOCK] | http://t.co/yNXnvVKCDA | @djicemoon | #Dubstep #TrapMusic #DnB #EDM #Dance #IcesÛ_ http://t.co/weQPesENku   \n",
              "\n",
              "     target  \n",
              "100       1  \n",
              "101       0  \n",
              "102       0  \n",
              "103       0  \n",
              "104       0  "
            ],
            "text/html": [
              "\n",
              "  <div id=\"df-0b71e3fe-cf80-42e1-ac95-430bc209fdb4\" class=\"colab-df-container\">\n",
              "    <div>\n",
              "<style scoped>\n",
              "    .dataframe tbody tr th:only-of-type {\n",
              "        vertical-align: middle;\n",
              "    }\n",
              "\n",
              "    .dataframe tbody tr th {\n",
              "        vertical-align: top;\n",
              "    }\n",
              "\n",
              "    .dataframe thead th {\n",
              "        text-align: right;\n",
              "    }\n",
              "</style>\n",
              "<table border=\"1\" class=\"dataframe\">\n",
              "  <thead>\n",
              "    <tr style=\"text-align: right;\">\n",
              "      <th></th>\n",
              "      <th>id</th>\n",
              "      <th>keyword</th>\n",
              "      <th>location</th>\n",
              "      <th>text</th>\n",
              "      <th>target</th>\n",
              "    </tr>\n",
              "  </thead>\n",
              "  <tbody>\n",
              "    <tr>\n",
              "      <th>100</th>\n",
              "      <td>144</td>\n",
              "      <td>accident</td>\n",
              "      <td>UK</td>\n",
              "      <td>.@NorwayMFA #Bahrain police had previously died in a road accident they were not killed by explosion https://t.co/gFJfgTodad</td>\n",
              "      <td>1</td>\n",
              "    </tr>\n",
              "    <tr>\n",
              "      <th>101</th>\n",
              "      <td>145</td>\n",
              "      <td>accident</td>\n",
              "      <td>Nairobi, Kenya</td>\n",
              "      <td>I still have not heard Church Leaders of Kenya coming forward to comment on the accident issue and disciplinary measures#ArrestPastorNganga</td>\n",
              "      <td>0</td>\n",
              "    </tr>\n",
              "    <tr>\n",
              "      <th>102</th>\n",
              "      <td>146</td>\n",
              "      <td>aftershock</td>\n",
              "      <td>Instagram - @heyimginog</td>\n",
              "      <td>@afterShock_DeLo scuf ps live and the game... cya</td>\n",
              "      <td>0</td>\n",
              "    </tr>\n",
              "    <tr>\n",
              "      <th>103</th>\n",
              "      <td>149</td>\n",
              "      <td>aftershock</td>\n",
              "      <td>304</td>\n",
              "      <td>'The man who can drive himself further once the effort gets painful is the man who will win.' \\nRoger Bannister</td>\n",
              "      <td>0</td>\n",
              "    </tr>\n",
              "    <tr>\n",
              "      <th>104</th>\n",
              "      <td>151</td>\n",
              "      <td>aftershock</td>\n",
              "      <td>Switzerland</td>\n",
              "      <td>320 [IR] ICEMOON [AFTERSHOCK] | http://t.co/yNXnvVKCDA | @djicemoon | #Dubstep #TrapMusic #DnB #EDM #Dance #IcesÛ_ http://t.co/weQPesENku</td>\n",
              "      <td>0</td>\n",
              "    </tr>\n",
              "  </tbody>\n",
              "</table>\n",
              "</div>\n",
              "    <div class=\"colab-df-buttons\">\n",
              "\n",
              "  <div class=\"colab-df-container\">\n",
              "    <button class=\"colab-df-convert\" onclick=\"convertToInteractive('df-0b71e3fe-cf80-42e1-ac95-430bc209fdb4')\"\n",
              "            title=\"Convert this dataframe to an interactive table.\"\n",
              "            style=\"display:none;\">\n",
              "\n",
              "  <svg xmlns=\"http://www.w3.org/2000/svg\" height=\"24px\" viewBox=\"0 -960 960 960\">\n",
              "    <path d=\"M120-120v-720h720v720H120Zm60-500h600v-160H180v160Zm220 220h160v-160H400v160Zm0 220h160v-160H400v160ZM180-400h160v-160H180v160Zm440 0h160v-160H620v160ZM180-180h160v-160H180v160Zm440 0h160v-160H620v160Z\"/>\n",
              "  </svg>\n",
              "    </button>\n",
              "\n",
              "  <style>\n",
              "    .colab-df-container {\n",
              "      display:flex;\n",
              "      gap: 12px;\n",
              "    }\n",
              "\n",
              "    .colab-df-convert {\n",
              "      background-color: #E8F0FE;\n",
              "      border: none;\n",
              "      border-radius: 50%;\n",
              "      cursor: pointer;\n",
              "      display: none;\n",
              "      fill: #1967D2;\n",
              "      height: 32px;\n",
              "      padding: 0 0 0 0;\n",
              "      width: 32px;\n",
              "    }\n",
              "\n",
              "    .colab-df-convert:hover {\n",
              "      background-color: #E2EBFA;\n",
              "      box-shadow: 0px 1px 2px rgba(60, 64, 67, 0.3), 0px 1px 3px 1px rgba(60, 64, 67, 0.15);\n",
              "      fill: #174EA6;\n",
              "    }\n",
              "\n",
              "    .colab-df-buttons div {\n",
              "      margin-bottom: 4px;\n",
              "    }\n",
              "\n",
              "    [theme=dark] .colab-df-convert {\n",
              "      background-color: #3B4455;\n",
              "      fill: #D2E3FC;\n",
              "    }\n",
              "\n",
              "    [theme=dark] .colab-df-convert:hover {\n",
              "      background-color: #434B5C;\n",
              "      box-shadow: 0px 1px 3px 1px rgba(0, 0, 0, 0.15);\n",
              "      filter: drop-shadow(0px 1px 2px rgba(0, 0, 0, 0.3));\n",
              "      fill: #FFFFFF;\n",
              "    }\n",
              "  </style>\n",
              "\n",
              "    <script>\n",
              "      const buttonEl =\n",
              "        document.querySelector('#df-0b71e3fe-cf80-42e1-ac95-430bc209fdb4 button.colab-df-convert');\n",
              "      buttonEl.style.display =\n",
              "        google.colab.kernel.accessAllowed ? 'block' : 'none';\n",
              "\n",
              "      async function convertToInteractive(key) {\n",
              "        const element = document.querySelector('#df-0b71e3fe-cf80-42e1-ac95-430bc209fdb4');\n",
              "        const dataTable =\n",
              "          await google.colab.kernel.invokeFunction('convertToInteractive',\n",
              "                                                    [key], {});\n",
              "        if (!dataTable) return;\n",
              "\n",
              "        const docLinkHtml = 'Like what you see? Visit the ' +\n",
              "          '<a target=\"_blank\" href=https://colab.research.google.com/notebooks/data_table.ipynb>data table notebook</a>'\n",
              "          + ' to learn more about interactive tables.';\n",
              "        element.innerHTML = '';\n",
              "        dataTable['output_type'] = 'display_data';\n",
              "        await google.colab.output.renderOutput(dataTable, element);\n",
              "        const docLink = document.createElement('div');\n",
              "        docLink.innerHTML = docLinkHtml;\n",
              "        element.appendChild(docLink);\n",
              "      }\n",
              "    </script>\n",
              "  </div>\n",
              "\n",
              "\n",
              "<div id=\"df-ea5ffc6d-0d53-46dc-9a63-b363566d2876\">\n",
              "  <button class=\"colab-df-quickchart\" onclick=\"quickchart('df-ea5ffc6d-0d53-46dc-9a63-b363566d2876')\"\n",
              "            title=\"Suggest charts.\"\n",
              "            style=\"display:none;\">\n",
              "\n",
              "<svg xmlns=\"http://www.w3.org/2000/svg\" height=\"24px\"viewBox=\"0 0 24 24\"\n",
              "     width=\"24px\">\n",
              "    <g>\n",
              "        <path d=\"M19 3H5c-1.1 0-2 .9-2 2v14c0 1.1.9 2 2 2h14c1.1 0 2-.9 2-2V5c0-1.1-.9-2-2-2zM9 17H7v-7h2v7zm4 0h-2V7h2v10zm4 0h-2v-4h2v4z\"/>\n",
              "    </g>\n",
              "</svg>\n",
              "  </button>\n",
              "\n",
              "<style>\n",
              "  .colab-df-quickchart {\n",
              "      --bg-color: #E8F0FE;\n",
              "      --fill-color: #1967D2;\n",
              "      --hover-bg-color: #E2EBFA;\n",
              "      --hover-fill-color: #174EA6;\n",
              "      --disabled-fill-color: #AAA;\n",
              "      --disabled-bg-color: #DDD;\n",
              "  }\n",
              "\n",
              "  [theme=dark] .colab-df-quickchart {\n",
              "      --bg-color: #3B4455;\n",
              "      --fill-color: #D2E3FC;\n",
              "      --hover-bg-color: #434B5C;\n",
              "      --hover-fill-color: #FFFFFF;\n",
              "      --disabled-bg-color: #3B4455;\n",
              "      --disabled-fill-color: #666;\n",
              "  }\n",
              "\n",
              "  .colab-df-quickchart {\n",
              "    background-color: var(--bg-color);\n",
              "    border: none;\n",
              "    border-radius: 50%;\n",
              "    cursor: pointer;\n",
              "    display: none;\n",
              "    fill: var(--fill-color);\n",
              "    height: 32px;\n",
              "    padding: 0;\n",
              "    width: 32px;\n",
              "  }\n",
              "\n",
              "  .colab-df-quickchart:hover {\n",
              "    background-color: var(--hover-bg-color);\n",
              "    box-shadow: 0 1px 2px rgba(60, 64, 67, 0.3), 0 1px 3px 1px rgba(60, 64, 67, 0.15);\n",
              "    fill: var(--button-hover-fill-color);\n",
              "  }\n",
              "\n",
              "  .colab-df-quickchart-complete:disabled,\n",
              "  .colab-df-quickchart-complete:disabled:hover {\n",
              "    background-color: var(--disabled-bg-color);\n",
              "    fill: var(--disabled-fill-color);\n",
              "    box-shadow: none;\n",
              "  }\n",
              "\n",
              "  .colab-df-spinner {\n",
              "    border: 2px solid var(--fill-color);\n",
              "    border-color: transparent;\n",
              "    border-bottom-color: var(--fill-color);\n",
              "    animation:\n",
              "      spin 1s steps(1) infinite;\n",
              "  }\n",
              "\n",
              "  @keyframes spin {\n",
              "    0% {\n",
              "      border-color: transparent;\n",
              "      border-bottom-color: var(--fill-color);\n",
              "      border-left-color: var(--fill-color);\n",
              "    }\n",
              "    20% {\n",
              "      border-color: transparent;\n",
              "      border-left-color: var(--fill-color);\n",
              "      border-top-color: var(--fill-color);\n",
              "    }\n",
              "    30% {\n",
              "      border-color: transparent;\n",
              "      border-left-color: var(--fill-color);\n",
              "      border-top-color: var(--fill-color);\n",
              "      border-right-color: var(--fill-color);\n",
              "    }\n",
              "    40% {\n",
              "      border-color: transparent;\n",
              "      border-right-color: var(--fill-color);\n",
              "      border-top-color: var(--fill-color);\n",
              "    }\n",
              "    60% {\n",
              "      border-color: transparent;\n",
              "      border-right-color: var(--fill-color);\n",
              "    }\n",
              "    80% {\n",
              "      border-color: transparent;\n",
              "      border-right-color: var(--fill-color);\n",
              "      border-bottom-color: var(--fill-color);\n",
              "    }\n",
              "    90% {\n",
              "      border-color: transparent;\n",
              "      border-bottom-color: var(--fill-color);\n",
              "    }\n",
              "  }\n",
              "</style>\n",
              "\n",
              "  <script>\n",
              "    async function quickchart(key) {\n",
              "      const quickchartButtonEl =\n",
              "        document.querySelector('#' + key + ' button');\n",
              "      quickchartButtonEl.disabled = true;  // To prevent multiple clicks.\n",
              "      quickchartButtonEl.classList.add('colab-df-spinner');\n",
              "      try {\n",
              "        const charts = await google.colab.kernel.invokeFunction(\n",
              "            'suggestCharts', [key], {});\n",
              "      } catch (error) {\n",
              "        console.error('Error during call to suggestCharts:', error);\n",
              "      }\n",
              "      quickchartButtonEl.classList.remove('colab-df-spinner');\n",
              "      quickchartButtonEl.classList.add('colab-df-quickchart-complete');\n",
              "    }\n",
              "    (() => {\n",
              "      let quickchartButtonEl =\n",
              "        document.querySelector('#df-ea5ffc6d-0d53-46dc-9a63-b363566d2876 button');\n",
              "      quickchartButtonEl.style.display =\n",
              "        google.colab.kernel.accessAllowed ? 'block' : 'none';\n",
              "    })();\n",
              "  </script>\n",
              "</div>\n",
              "    </div>\n",
              "  </div>\n"
            ]
          },
          "metadata": {},
          "execution_count": 20
        }
      ]
    },
    {
      "cell_type": "markdown",
      "source": [
        "i think ,location and keyword,doesnt have any influenct on our prediction,so we will remove them from our dataset in future"
      ],
      "metadata": {
        "id": "h7F79d_DUWz2"
      }
    },
    {
      "cell_type": "code",
      "source": [
        "from sklearn.model_selection import train_test_split"
      ],
      "metadata": {
        "id": "TP_aDx4-TdNh"
      },
      "execution_count": 21,
      "outputs": []
    },
    {
      "cell_type": "code",
      "source": [
        "train_data = train_data.sample(frac=1,random_state=85)"
      ],
      "metadata": {
        "id": "zMyTDAg8cNs2"
      },
      "execution_count": 22,
      "outputs": []
    },
    {
      "cell_type": "code",
      "source": [
        "train_data"
      ],
      "metadata": {
        "colab": {
          "base_uri": "https://localhost:8080/",
          "height": 580
        },
        "id": "uFJg1IoPcWsl",
        "outputId": "4f873875-a5c5-41a7-f487-6086b3c9d3b4"
      },
      "execution_count": 23,
      "outputs": [
        {
          "output_type": "execute_result",
          "data": {
            "text/plain": [
              "         id       keyword                        location  \\\n",
              "6039   8633       seismic              Mogadishu, Somalia   \n",
              "1709   2465      collided                   San Francisco   \n",
              "2775   3992   devastation                             NaN   \n",
              "2511   3607    desolation             North East, England   \n",
              "5234   7480  obliteration                             NaN   \n",
              "...     ...           ...                             ...   \n",
              "7053  10106       typhoon                           Dhaka   \n",
              "1587   2292  cliff%20fall                  Lagos, Nigeria   \n",
              "5828   8321        rubble  Spain - China - Latin America.   \n",
              "5280   7545      outbreak                           Chile   \n",
              "4458   6341      hostages                             NaN   \n",
              "\n",
              "                                                                                                                                            text  \\\n",
              "6039                                        Exploration Takes Seismic Shift in #Gabon to #Somalia\\nhttp://t.co/Ltf6jL5keU http://t.co/Zlq8tHcTkW   \n",
              "1709                 Mind blown by @GlassAnimals slithering viscous Gold Mine (cover of Yeah Yeah Yeahs + Erykah Badu)Û_ http://t.co/7Zb9gm5z0h   \n",
              "2775     70 Years After Atomic Bombs Japan Still Struggles With War Past: The anniversary of the devastation wrought b... http://t.co/vFCtrzaOk2   \n",
              "2511  Just came back from camping and returned with a new song which gets recorded tomorrow. Can't wait! #Desolation #TheConspiracyTheory #NewEP   \n",
              "5234                                                               Dead Space - Obliteration Imminent [2/2]: http://t.co/XJB0dCAaHf via @YouTube   \n",
              "...                                                                                                                                          ...   \n",
              "7053    Obama Declares Disaster for Typhoon-Devastated Saipan: Obama signs disaster declaration for Northern Marians a... http://t.co/lEYJwNnAH8   \n",
              "1587    Huge cliff landslide on road in China: Watch the moment a cliff collapses as huge chunks of rock fall onto a r... http://t.co/eEEwO207mX   \n",
              "5828  China's Stock Market Crash: Are There Gems In The Rubble?: ChinaÛªs stock market crash this summer h... http://t.co/pE2R3lN16o by .Forbes   \n",
              "5280    Families to sue over Legionnaires: More than 40 families affected by the fatal outbreak of Legionnaires' disea... http://t.co/02ELqLOpFk   \n",
              "4458                           Broadcast journalism: hostages to fortune otherwise quot-television blind else quot-operations since-3g superv...   \n",
              "\n",
              "      target  \n",
              "6039       1  \n",
              "1709       0  \n",
              "2775       1  \n",
              "2511       1  \n",
              "5234       0  \n",
              "...      ...  \n",
              "7053       1  \n",
              "1587       1  \n",
              "5828       0  \n",
              "5280       1  \n",
              "4458       0  \n",
              "\n",
              "[7613 rows x 5 columns]"
            ],
            "text/html": [
              "\n",
              "  <div id=\"df-43d2472d-411d-4d54-9588-d97eaa8ceb31\" class=\"colab-df-container\">\n",
              "    <div>\n",
              "<style scoped>\n",
              "    .dataframe tbody tr th:only-of-type {\n",
              "        vertical-align: middle;\n",
              "    }\n",
              "\n",
              "    .dataframe tbody tr th {\n",
              "        vertical-align: top;\n",
              "    }\n",
              "\n",
              "    .dataframe thead th {\n",
              "        text-align: right;\n",
              "    }\n",
              "</style>\n",
              "<table border=\"1\" class=\"dataframe\">\n",
              "  <thead>\n",
              "    <tr style=\"text-align: right;\">\n",
              "      <th></th>\n",
              "      <th>id</th>\n",
              "      <th>keyword</th>\n",
              "      <th>location</th>\n",
              "      <th>text</th>\n",
              "      <th>target</th>\n",
              "    </tr>\n",
              "  </thead>\n",
              "  <tbody>\n",
              "    <tr>\n",
              "      <th>6039</th>\n",
              "      <td>8633</td>\n",
              "      <td>seismic</td>\n",
              "      <td>Mogadishu, Somalia</td>\n",
              "      <td>Exploration Takes Seismic Shift in #Gabon to #Somalia\\nhttp://t.co/Ltf6jL5keU http://t.co/Zlq8tHcTkW</td>\n",
              "      <td>1</td>\n",
              "    </tr>\n",
              "    <tr>\n",
              "      <th>1709</th>\n",
              "      <td>2465</td>\n",
              "      <td>collided</td>\n",
              "      <td>San Francisco</td>\n",
              "      <td>Mind blown by @GlassAnimals slithering viscous Gold Mine (cover of Yeah Yeah Yeahs + Erykah Badu)Û_ http://t.co/7Zb9gm5z0h</td>\n",
              "      <td>0</td>\n",
              "    </tr>\n",
              "    <tr>\n",
              "      <th>2775</th>\n",
              "      <td>3992</td>\n",
              "      <td>devastation</td>\n",
              "      <td>NaN</td>\n",
              "      <td>70 Years After Atomic Bombs Japan Still Struggles With War Past: The anniversary of the devastation wrought b... http://t.co/vFCtrzaOk2</td>\n",
              "      <td>1</td>\n",
              "    </tr>\n",
              "    <tr>\n",
              "      <th>2511</th>\n",
              "      <td>3607</td>\n",
              "      <td>desolation</td>\n",
              "      <td>North East, England</td>\n",
              "      <td>Just came back from camping and returned with a new song which gets recorded tomorrow. Can't wait! #Desolation #TheConspiracyTheory #NewEP</td>\n",
              "      <td>1</td>\n",
              "    </tr>\n",
              "    <tr>\n",
              "      <th>5234</th>\n",
              "      <td>7480</td>\n",
              "      <td>obliteration</td>\n",
              "      <td>NaN</td>\n",
              "      <td>Dead Space - Obliteration Imminent [2/2]: http://t.co/XJB0dCAaHf via @YouTube</td>\n",
              "      <td>0</td>\n",
              "    </tr>\n",
              "    <tr>\n",
              "      <th>...</th>\n",
              "      <td>...</td>\n",
              "      <td>...</td>\n",
              "      <td>...</td>\n",
              "      <td>...</td>\n",
              "      <td>...</td>\n",
              "    </tr>\n",
              "    <tr>\n",
              "      <th>7053</th>\n",
              "      <td>10106</td>\n",
              "      <td>typhoon</td>\n",
              "      <td>Dhaka</td>\n",
              "      <td>Obama Declares Disaster for Typhoon-Devastated Saipan: Obama signs disaster declaration for Northern Marians a... http://t.co/lEYJwNnAH8</td>\n",
              "      <td>1</td>\n",
              "    </tr>\n",
              "    <tr>\n",
              "      <th>1587</th>\n",
              "      <td>2292</td>\n",
              "      <td>cliff%20fall</td>\n",
              "      <td>Lagos, Nigeria</td>\n",
              "      <td>Huge cliff landslide on road in China: Watch the moment a cliff collapses as huge chunks of rock fall onto a r... http://t.co/eEEwO207mX</td>\n",
              "      <td>1</td>\n",
              "    </tr>\n",
              "    <tr>\n",
              "      <th>5828</th>\n",
              "      <td>8321</td>\n",
              "      <td>rubble</td>\n",
              "      <td>Spain - China - Latin America.</td>\n",
              "      <td>China's Stock Market Crash: Are There Gems In The Rubble?: ChinaÛªs stock market crash this summer h... http://t.co/pE2R3lN16o by .Forbes</td>\n",
              "      <td>0</td>\n",
              "    </tr>\n",
              "    <tr>\n",
              "      <th>5280</th>\n",
              "      <td>7545</td>\n",
              "      <td>outbreak</td>\n",
              "      <td>Chile</td>\n",
              "      <td>Families to sue over Legionnaires: More than 40 families affected by the fatal outbreak of Legionnaires' disea... http://t.co/02ELqLOpFk</td>\n",
              "      <td>1</td>\n",
              "    </tr>\n",
              "    <tr>\n",
              "      <th>4458</th>\n",
              "      <td>6341</td>\n",
              "      <td>hostages</td>\n",
              "      <td>NaN</td>\n",
              "      <td>Broadcast journalism: hostages to fortune otherwise quot-television blind else quot-operations since-3g superv...</td>\n",
              "      <td>0</td>\n",
              "    </tr>\n",
              "  </tbody>\n",
              "</table>\n",
              "<p>7613 rows × 5 columns</p>\n",
              "</div>\n",
              "    <div class=\"colab-df-buttons\">\n",
              "\n",
              "  <div class=\"colab-df-container\">\n",
              "    <button class=\"colab-df-convert\" onclick=\"convertToInteractive('df-43d2472d-411d-4d54-9588-d97eaa8ceb31')\"\n",
              "            title=\"Convert this dataframe to an interactive table.\"\n",
              "            style=\"display:none;\">\n",
              "\n",
              "  <svg xmlns=\"http://www.w3.org/2000/svg\" height=\"24px\" viewBox=\"0 -960 960 960\">\n",
              "    <path d=\"M120-120v-720h720v720H120Zm60-500h600v-160H180v160Zm220 220h160v-160H400v160Zm0 220h160v-160H400v160ZM180-400h160v-160H180v160Zm440 0h160v-160H620v160ZM180-180h160v-160H180v160Zm440 0h160v-160H620v160Z\"/>\n",
              "  </svg>\n",
              "    </button>\n",
              "\n",
              "  <style>\n",
              "    .colab-df-container {\n",
              "      display:flex;\n",
              "      gap: 12px;\n",
              "    }\n",
              "\n",
              "    .colab-df-convert {\n",
              "      background-color: #E8F0FE;\n",
              "      border: none;\n",
              "      border-radius: 50%;\n",
              "      cursor: pointer;\n",
              "      display: none;\n",
              "      fill: #1967D2;\n",
              "      height: 32px;\n",
              "      padding: 0 0 0 0;\n",
              "      width: 32px;\n",
              "    }\n",
              "\n",
              "    .colab-df-convert:hover {\n",
              "      background-color: #E2EBFA;\n",
              "      box-shadow: 0px 1px 2px rgba(60, 64, 67, 0.3), 0px 1px 3px 1px rgba(60, 64, 67, 0.15);\n",
              "      fill: #174EA6;\n",
              "    }\n",
              "\n",
              "    .colab-df-buttons div {\n",
              "      margin-bottom: 4px;\n",
              "    }\n",
              "\n",
              "    [theme=dark] .colab-df-convert {\n",
              "      background-color: #3B4455;\n",
              "      fill: #D2E3FC;\n",
              "    }\n",
              "\n",
              "    [theme=dark] .colab-df-convert:hover {\n",
              "      background-color: #434B5C;\n",
              "      box-shadow: 0px 1px 3px 1px rgba(0, 0, 0, 0.15);\n",
              "      filter: drop-shadow(0px 1px 2px rgba(0, 0, 0, 0.3));\n",
              "      fill: #FFFFFF;\n",
              "    }\n",
              "  </style>\n",
              "\n",
              "    <script>\n",
              "      const buttonEl =\n",
              "        document.querySelector('#df-43d2472d-411d-4d54-9588-d97eaa8ceb31 button.colab-df-convert');\n",
              "      buttonEl.style.display =\n",
              "        google.colab.kernel.accessAllowed ? 'block' : 'none';\n",
              "\n",
              "      async function convertToInteractive(key) {\n",
              "        const element = document.querySelector('#df-43d2472d-411d-4d54-9588-d97eaa8ceb31');\n",
              "        const dataTable =\n",
              "          await google.colab.kernel.invokeFunction('convertToInteractive',\n",
              "                                                    [key], {});\n",
              "        if (!dataTable) return;\n",
              "\n",
              "        const docLinkHtml = 'Like what you see? Visit the ' +\n",
              "          '<a target=\"_blank\" href=https://colab.research.google.com/notebooks/data_table.ipynb>data table notebook</a>'\n",
              "          + ' to learn more about interactive tables.';\n",
              "        element.innerHTML = '';\n",
              "        dataTable['output_type'] = 'display_data';\n",
              "        await google.colab.output.renderOutput(dataTable, element);\n",
              "        const docLink = document.createElement('div');\n",
              "        docLink.innerHTML = docLinkHtml;\n",
              "        element.appendChild(docLink);\n",
              "      }\n",
              "    </script>\n",
              "  </div>\n",
              "\n",
              "\n",
              "<div id=\"df-b59a3f9e-7f78-40b9-8d95-11ef322b0230\">\n",
              "  <button class=\"colab-df-quickchart\" onclick=\"quickchart('df-b59a3f9e-7f78-40b9-8d95-11ef322b0230')\"\n",
              "            title=\"Suggest charts.\"\n",
              "            style=\"display:none;\">\n",
              "\n",
              "<svg xmlns=\"http://www.w3.org/2000/svg\" height=\"24px\"viewBox=\"0 0 24 24\"\n",
              "     width=\"24px\">\n",
              "    <g>\n",
              "        <path d=\"M19 3H5c-1.1 0-2 .9-2 2v14c0 1.1.9 2 2 2h14c1.1 0 2-.9 2-2V5c0-1.1-.9-2-2-2zM9 17H7v-7h2v7zm4 0h-2V7h2v10zm4 0h-2v-4h2v4z\"/>\n",
              "    </g>\n",
              "</svg>\n",
              "  </button>\n",
              "\n",
              "<style>\n",
              "  .colab-df-quickchart {\n",
              "      --bg-color: #E8F0FE;\n",
              "      --fill-color: #1967D2;\n",
              "      --hover-bg-color: #E2EBFA;\n",
              "      --hover-fill-color: #174EA6;\n",
              "      --disabled-fill-color: #AAA;\n",
              "      --disabled-bg-color: #DDD;\n",
              "  }\n",
              "\n",
              "  [theme=dark] .colab-df-quickchart {\n",
              "      --bg-color: #3B4455;\n",
              "      --fill-color: #D2E3FC;\n",
              "      --hover-bg-color: #434B5C;\n",
              "      --hover-fill-color: #FFFFFF;\n",
              "      --disabled-bg-color: #3B4455;\n",
              "      --disabled-fill-color: #666;\n",
              "  }\n",
              "\n",
              "  .colab-df-quickchart {\n",
              "    background-color: var(--bg-color);\n",
              "    border: none;\n",
              "    border-radius: 50%;\n",
              "    cursor: pointer;\n",
              "    display: none;\n",
              "    fill: var(--fill-color);\n",
              "    height: 32px;\n",
              "    padding: 0;\n",
              "    width: 32px;\n",
              "  }\n",
              "\n",
              "  .colab-df-quickchart:hover {\n",
              "    background-color: var(--hover-bg-color);\n",
              "    box-shadow: 0 1px 2px rgba(60, 64, 67, 0.3), 0 1px 3px 1px rgba(60, 64, 67, 0.15);\n",
              "    fill: var(--button-hover-fill-color);\n",
              "  }\n",
              "\n",
              "  .colab-df-quickchart-complete:disabled,\n",
              "  .colab-df-quickchart-complete:disabled:hover {\n",
              "    background-color: var(--disabled-bg-color);\n",
              "    fill: var(--disabled-fill-color);\n",
              "    box-shadow: none;\n",
              "  }\n",
              "\n",
              "  .colab-df-spinner {\n",
              "    border: 2px solid var(--fill-color);\n",
              "    border-color: transparent;\n",
              "    border-bottom-color: var(--fill-color);\n",
              "    animation:\n",
              "      spin 1s steps(1) infinite;\n",
              "  }\n",
              "\n",
              "  @keyframes spin {\n",
              "    0% {\n",
              "      border-color: transparent;\n",
              "      border-bottom-color: var(--fill-color);\n",
              "      border-left-color: var(--fill-color);\n",
              "    }\n",
              "    20% {\n",
              "      border-color: transparent;\n",
              "      border-left-color: var(--fill-color);\n",
              "      border-top-color: var(--fill-color);\n",
              "    }\n",
              "    30% {\n",
              "      border-color: transparent;\n",
              "      border-left-color: var(--fill-color);\n",
              "      border-top-color: var(--fill-color);\n",
              "      border-right-color: var(--fill-color);\n",
              "    }\n",
              "    40% {\n",
              "      border-color: transparent;\n",
              "      border-right-color: var(--fill-color);\n",
              "      border-top-color: var(--fill-color);\n",
              "    }\n",
              "    60% {\n",
              "      border-color: transparent;\n",
              "      border-right-color: var(--fill-color);\n",
              "    }\n",
              "    80% {\n",
              "      border-color: transparent;\n",
              "      border-right-color: var(--fill-color);\n",
              "      border-bottom-color: var(--fill-color);\n",
              "    }\n",
              "    90% {\n",
              "      border-color: transparent;\n",
              "      border-bottom-color: var(--fill-color);\n",
              "    }\n",
              "  }\n",
              "</style>\n",
              "\n",
              "  <script>\n",
              "    async function quickchart(key) {\n",
              "      const quickchartButtonEl =\n",
              "        document.querySelector('#' + key + ' button');\n",
              "      quickchartButtonEl.disabled = true;  // To prevent multiple clicks.\n",
              "      quickchartButtonEl.classList.add('colab-df-spinner');\n",
              "      try {\n",
              "        const charts = await google.colab.kernel.invokeFunction(\n",
              "            'suggestCharts', [key], {});\n",
              "      } catch (error) {\n",
              "        console.error('Error during call to suggestCharts:', error);\n",
              "      }\n",
              "      quickchartButtonEl.classList.remove('colab-df-spinner');\n",
              "      quickchartButtonEl.classList.add('colab-df-quickchart-complete');\n",
              "    }\n",
              "    (() => {\n",
              "      let quickchartButtonEl =\n",
              "        document.querySelector('#df-b59a3f9e-7f78-40b9-8d95-11ef322b0230 button');\n",
              "      quickchartButtonEl.style.display =\n",
              "        google.colab.kernel.accessAllowed ? 'block' : 'none';\n",
              "    })();\n",
              "  </script>\n",
              "</div>\n",
              "    </div>\n",
              "  </div>\n"
            ]
          },
          "metadata": {},
          "execution_count": 23
        }
      ]
    },
    {
      "cell_type": "code",
      "source": [
        "train_sentence,val_sentence,train_labels,val_labels = train_test_split(train_data[\"text\"].to_numpy(),\n",
        "                                                                       train_data[\"target\"].to_numpy(),\n",
        "                                                                       test_size=0.1,\n",
        "                                                                       random_state=85)"
      ],
      "metadata": {
        "id": "wviy90lPUxwX"
      },
      "execution_count": 24,
      "outputs": []
    },
    {
      "cell_type": "code",
      "source": [
        "len(train_sentence),len(train_labels),len(val_sentence),len(val_labels)"
      ],
      "metadata": {
        "colab": {
          "base_uri": "https://localhost:8080/"
        },
        "id": "0qgMQBOxcqCR",
        "outputId": "76de6408-e00e-48aa-e046-926725bb774d"
      },
      "execution_count": 25,
      "outputs": [
        {
          "output_type": "execute_result",
          "data": {
            "text/plain": [
              "(6851, 6851, 762, 762)"
            ]
          },
          "metadata": {},
          "execution_count": 25
        }
      ]
    },
    {
      "cell_type": "code",
      "source": [
        "train_sentence"
      ],
      "metadata": {
        "colab": {
          "base_uri": "https://localhost:8080/"
        },
        "id": "ak9IMwHEcsSs",
        "outputId": "e287a8c0-c9d9-430b-8508-38d67fd344d1"
      },
      "execution_count": 26,
      "outputs": [
        {
          "output_type": "execute_result",
          "data": {
            "text/plain": [
              "array(['Insane bush fires in California. Be safe. https://t.co/jSlxTQ3NqS',\n",
              "       '@beckyfeigin I defs will when it stops bleeding!',\n",
              "       \"I don't laugh out loud at many things. But man I really lol @ the big bang theory.\",\n",
              "       ...,\n",
              "       'Only one man Tsutomi Yamaguchi is said to have survived both atomic bomb blasts at #Hiroshima and #Nagasaki. #OTD http://t.co/DaalPeNZp0',\n",
              "       'Blue Bell May Be Close to a Return From Its Listeria Disaster... Hot on #theneeds #Recipes http://t.co/F56v61AmPt',\n",
              "       '9:35 pm. Thunderstorm. No rain. 90 degrees. This weather weird.'],\n",
              "      dtype=object)"
            ]
          },
          "metadata": {},
          "execution_count": 26
        }
      ]
    },
    {
      "cell_type": "markdown",
      "source": [
        "now,we have created our training sentence"
      ],
      "metadata": {
        "id": "nwOfBJlUdW4j"
      }
    },
    {
      "cell_type": "code",
      "source": [
        "import random\n",
        "def show_random(dataset1,dataset2):\n",
        "\n",
        "  if(len(dataset1)!=len(dataset2)):\n",
        "    return \"fuck you,your fucking datasets are wrong\"\n",
        "\n",
        "  length = len(dataset1)\n",
        "\n",
        "  random_num = random.randint(0,length)\n",
        "\n",
        "  random_text = dataset1[random_num]\n",
        "  random_label = dataset2[random_num]\n",
        "\n",
        "  if(random_label ==1):\n",
        "    random_label = \"disaster\"\n",
        "  else:\n",
        "    random_label = \"normal\"\n",
        "\n",
        "  print(f\"text: {random_text} \\n label :{random_label}\")"
      ],
      "metadata": {
        "id": "oKJQvKsrdFLS"
      },
      "execution_count": 27,
      "outputs": []
    },
    {
      "cell_type": "code",
      "source": [
        "show_random(train_sentence,train_labels)"
      ],
      "metadata": {
        "colab": {
          "base_uri": "https://localhost:8080/"
        },
        "id": "apSOZaQSfLcD",
        "outputId": "83693fd8-8cc8-41f1-ab37-336d749d0618"
      },
      "execution_count": 28,
      "outputs": [
        {
          "output_type": "stream",
          "name": "stdout",
          "text": [
            "text: @allen_enbot If you mess up it's gonna explode... \n",
            " label :disaster\n"
          ]
        }
      ]
    },
    {
      "cell_type": "markdown",
      "source": [
        "ok,now we should do our next step which is converting our dataset to number"
      ],
      "metadata": {
        "id": "eIuSlzgNgSvV"
      }
    },
    {
      "cell_type": "code",
      "source": [
        "from tensorflow.keras.layers import TextVectorization"
      ],
      "metadata": {
        "id": "-DxAbXTQgWkR"
      },
      "execution_count": 29,
      "outputs": []
    },
    {
      "cell_type": "code",
      "source": [
        "vocab_size = 20000\n",
        "\n",
        "vectorizer = TextVectorization(max_tokens=vocab_size,\n",
        "                               split=\"whitespace\",\n",
        "                               standardize=\"lower_and_strip_punctuation\",\n",
        "                               output_mode=\"int\",\n",
        "                               output_sequence_length=25)"
      ],
      "metadata": {
        "id": "iyMRmDQngWrl"
      },
      "execution_count": 30,
      "outputs": []
    },
    {
      "cell_type": "markdown",
      "source": [
        "now,we should adapt our vectorizer"
      ],
      "metadata": {
        "id": "0NhjLxVxkDY4"
      }
    },
    {
      "cell_type": "code",
      "source": [
        "vectorizer.adapt(train_sentence)"
      ],
      "metadata": {
        "id": "6PQqxuUDgXDt"
      },
      "execution_count": 31,
      "outputs": []
    },
    {
      "cell_type": "code",
      "source": [
        "vectorizer.vocabulary_size()"
      ],
      "metadata": {
        "colab": {
          "base_uri": "https://localhost:8080/"
        },
        "id": "35kz7XFhgXGR",
        "outputId": "25e30ef8-07db-42c3-c9d9-d3cfbe574916"
      },
      "execution_count": 32,
      "outputs": [
        {
          "output_type": "execute_result",
          "data": {
            "text/plain": [
              "20000"
            ]
          },
          "metadata": {},
          "execution_count": 32
        }
      ]
    },
    {
      "cell_type": "code",
      "source": [
        "len(vectorizer.get_vocabulary())"
      ],
      "metadata": {
        "id": "6Ugn0zCbkM2U",
        "colab": {
          "base_uri": "https://localhost:8080/"
        },
        "outputId": "447bdccf-7f8c-4514-bcb2-6a8987fc85fe"
      },
      "execution_count": 33,
      "outputs": [
        {
          "output_type": "execute_result",
          "data": {
            "text/plain": [
              "20000"
            ]
          },
          "metadata": {},
          "execution_count": 33
        }
      ]
    },
    {
      "cell_type": "code",
      "source": [
        "vectorizer.get_vocabulary()[:10]"
      ],
      "metadata": {
        "colab": {
          "base_uri": "https://localhost:8080/"
        },
        "id": "IrYCc-0-b-K5",
        "outputId": "199a7f02-ba67-42a2-c836-0bc371e69047"
      },
      "execution_count": 34,
      "outputs": [
        {
          "output_type": "execute_result",
          "data": {
            "text/plain": [
              "['', '[UNK]', 'the', 'a', 'in', 'to', 'of', 'and', 'i', 'is']"
            ]
          },
          "metadata": {},
          "execution_count": 34
        }
      ]
    },
    {
      "cell_type": "markdown",
      "source": [
        "all right,we have made our vocabulary\n",
        "\n",
        "lets test it on a simple sentence"
      ],
      "metadata": {
        "id": "mWNOT2QgcgUe"
      }
    },
    {
      "cell_type": "code",
      "source": [
        "simple_sentence = \"hello,did you know that zaza pachulia is the greatest player ever?\"\n",
        "\n",
        "simple_matrix = vectorizer(simple_sentence)\n",
        "\n",
        "simple_matrix"
      ],
      "metadata": {
        "colab": {
          "base_uri": "https://localhost:8080/"
        },
        "id": "llL6Evd2ceiT",
        "outputId": "116d1762-9a3c-4b04-857c-ddc3449b3450"
      },
      "execution_count": 35,
      "outputs": [
        {
          "output_type": "execute_result",
          "data": {
            "text/plain": [
              "<tf.Tensor: shape=(25,), dtype=int64, numpy=\n",
              "array([   1,   12,   92,   16,    1,    1,    9,    2, 2090, 2009,  224,\n",
              "          0,    0,    0,    0,    0,    0,    0,    0,    0,    0,    0,\n",
              "          0,    0,    0])>"
            ]
          },
          "metadata": {},
          "execution_count": 35
        }
      ]
    },
    {
      "cell_type": "code",
      "source": [
        "vectorizer.get_vocabulary()[9999]"
      ],
      "metadata": {
        "colab": {
          "base_uri": "https://localhost:8080/",
          "height": 35
        },
        "id": "MmSaqtDFc186",
        "outputId": "36a85584-3eb6-4f1e-ff35-30d1d8d3341d"
      },
      "execution_count": 36,
      "outputs": [
        {
          "output_type": "execute_result",
          "data": {
            "text/plain": [
              "'panik'"
            ],
            "application/vnd.google.colaboratory.intrinsic+json": {
              "type": "string"
            }
          },
          "metadata": {},
          "execution_count": 36
        }
      ]
    },
    {
      "cell_type": "code",
      "source": [
        "print(vectorizer(\"hello\"))"
      ],
      "metadata": {
        "colab": {
          "base_uri": "https://localhost:8080/"
        },
        "id": "lerryGzydDPh",
        "outputId": "fab2de23-dcda-48b9-eae2-3afeb108f4a0"
      },
      "execution_count": 37,
      "outputs": [
        {
          "output_type": "stream",
          "name": "stdout",
          "text": [
            "tf.Tensor(\n",
            "[1849    0    0    0    0    0    0    0    0    0    0    0    0    0\n",
            "    0    0    0    0    0    0    0    0    0    0    0], shape=(25,), dtype=int64)\n"
          ]
        }
      ]
    },
    {
      "cell_type": "markdown",
      "source": [
        "now,lets create a word embedding layer"
      ],
      "metadata": {
        "id": "Q8uBwmWZeSRB"
      }
    },
    {
      "cell_type": "code",
      "source": [
        "tf.random.set_seed(85)\n",
        "from tensorflow.keras import layers"
      ],
      "metadata": {
        "id": "Ft6hhqaldplG"
      },
      "execution_count": 38,
      "outputs": []
    },
    {
      "cell_type": "code",
      "source": [
        "embedding_layer = layers.Embedding(output_dim = 128,\n",
        "                                   embeddings_initializer=\"uniform\",\n",
        "                                   name=\"kir_khar\",\n",
        "                                   input_dim=vocab_size,\n",
        "                                   )"
      ],
      "metadata": {
        "id": "3V3Bcnd8ebWF"
      },
      "execution_count": 39,
      "outputs": []
    },
    {
      "cell_type": "code",
      "source": [
        "type(embedding_layer)"
      ],
      "metadata": {
        "colab": {
          "base_uri": "https://localhost:8080/"
        },
        "id": "m0lCEqdLfMKp",
        "outputId": "21a9b170-2c8c-44c5-8483-3eb6b0c33430"
      },
      "execution_count": 40,
      "outputs": [
        {
          "output_type": "execute_result",
          "data": {
            "text/plain": [
              "keras.src.layers.core.embedding.Embedding"
            ]
          },
          "metadata": {},
          "execution_count": 40
        }
      ]
    },
    {
      "cell_type": "code",
      "source": [
        "simple_embedding = embedding_layer(vectorizer(simple_sentence))\n",
        "simple_embedding.shape,simple_embedding"
      ],
      "metadata": {
        "colab": {
          "base_uri": "https://localhost:8080/"
        },
        "id": "8PeiGMJqfRBk",
        "outputId": "643612d9-eccc-4eb2-877a-45c1edd152e9"
      },
      "execution_count": 41,
      "outputs": [
        {
          "output_type": "execute_result",
          "data": {
            "text/plain": [
              "(TensorShape([25, 128]),\n",
              " <tf.Tensor: shape=(25, 128), dtype=float32, numpy=\n",
              " array([[-0.04495201, -0.0344975 , -0.02582169, ..., -0.00716541,\n",
              "          0.04351156,  0.01954195],\n",
              "        [ 0.04133829,  0.02867248, -0.02185245, ..., -0.01577201,\n",
              "         -0.03214873, -0.01620131],\n",
              "        [-0.0404963 ,  0.04459867, -0.00767633, ...,  0.02159332,\n",
              "         -0.04562512,  0.0150832 ],\n",
              "        ...,\n",
              "        [-0.00167416,  0.03749713, -0.036105  , ..., -0.01711414,\n",
              "          0.01166083,  0.00956291],\n",
              "        [-0.00167416,  0.03749713, -0.036105  , ..., -0.01711414,\n",
              "          0.01166083,  0.00956291],\n",
              "        [-0.00167416,  0.03749713, -0.036105  , ..., -0.01711414,\n",
              "          0.01166083,  0.00956291]], dtype=float32)>)"
            ]
          },
          "metadata": {},
          "execution_count": 41
        }
      ]
    },
    {
      "cell_type": "markdown",
      "source": [
        "now,lets finally create our fucking model"
      ],
      "metadata": {
        "id": "1fAvEJx3gHpo"
      }
    },
    {
      "cell_type": "code",
      "source": [
        "\n",
        "input_layer = tf.keras.layers.Input(shape=(1,),dtype=\"string\")\n",
        "x= vectorizer(input_layer)\n",
        "x= embedding_layer(x)\n",
        "x = tf.keras.layers.GlobalAveragePooling1D()(x)\n",
        "x=tf.keras.layers.Dense(1,activation=tf.keras.activations.sigmoid)(x)\n",
        "\n",
        "model_1 = tf.keras.Model(input_layer,x)\n"
      ],
      "metadata": {
        "id": "62pE09i6feTS"
      },
      "execution_count": 42,
      "outputs": []
    },
    {
      "cell_type": "markdown",
      "source": [
        "now,lets compile our model"
      ],
      "metadata": {
        "id": "-Sv4ctfXhGEx"
      }
    },
    {
      "cell_type": "code",
      "source": [
        "model_1.compile(loss=tf.keras.losses.binary_crossentropy,\n",
        "                optimizer = tf.keras.optimizers.Adam(learning_rate=0.001),\n",
        "                metrics=[\"accuracy\"])"
      ],
      "metadata": {
        "id": "Icy_FbsOhAM3"
      },
      "execution_count": 43,
      "outputs": []
    },
    {
      "cell_type": "code",
      "source": [
        "model_1_history = model_1.fit(train_sentence,\n",
        "                               train_labels,\n",
        "                               epochs=20,\n",
        "                               validation_data=(val_sentence,val_labels))"
      ],
      "metadata": {
        "colab": {
          "base_uri": "https://localhost:8080/"
        },
        "id": "0mxVTJjUhYCG",
        "outputId": "134cb5a3-7c8e-4170-9795-3033afb1b3a3"
      },
      "execution_count": 44,
      "outputs": [
        {
          "output_type": "stream",
          "name": "stdout",
          "text": [
            "Epoch 1/20\n",
            "215/215 [==============================] - 26s 93ms/step - loss: 0.6367 - accuracy: 0.6485 - val_loss: 0.5612 - val_accuracy: 0.7717\n",
            "Epoch 2/20\n",
            "215/215 [==============================] - 4s 18ms/step - loss: 0.4740 - accuracy: 0.8145 - val_loss: 0.4659 - val_accuracy: 0.7927\n",
            "Epoch 3/20\n",
            "215/215 [==============================] - 3s 13ms/step - loss: 0.3560 - accuracy: 0.8704 - val_loss: 0.4295 - val_accuracy: 0.8005\n",
            "Epoch 4/20\n",
            "215/215 [==============================] - 3s 13ms/step - loss: 0.2753 - accuracy: 0.9032 - val_loss: 0.4249 - val_accuracy: 0.8058\n",
            "Epoch 5/20\n",
            "215/215 [==============================] - 2s 8ms/step - loss: 0.2148 - accuracy: 0.9296 - val_loss: 0.4248 - val_accuracy: 0.8176\n",
            "Epoch 6/20\n",
            "215/215 [==============================] - 2s 8ms/step - loss: 0.1691 - accuracy: 0.9467 - val_loss: 0.4384 - val_accuracy: 0.8202\n",
            "Epoch 7/20\n",
            "215/215 [==============================] - 2s 9ms/step - loss: 0.1335 - accuracy: 0.9588 - val_loss: 0.4533 - val_accuracy: 0.8084\n",
            "Epoch 8/20\n",
            "215/215 [==============================] - 2s 8ms/step - loss: 0.1073 - accuracy: 0.9698 - val_loss: 0.4734 - val_accuracy: 0.8110\n",
            "Epoch 9/20\n",
            "215/215 [==============================] - 1s 6ms/step - loss: 0.0865 - accuracy: 0.9780 - val_loss: 0.4935 - val_accuracy: 0.8136\n",
            "Epoch 10/20\n",
            "215/215 [==============================] - 1s 5ms/step - loss: 0.0722 - accuracy: 0.9837 - val_loss: 0.5128 - val_accuracy: 0.8045\n",
            "Epoch 11/20\n",
            "215/215 [==============================] - 1s 6ms/step - loss: 0.0597 - accuracy: 0.9860 - val_loss: 0.5336 - val_accuracy: 0.8071\n",
            "Epoch 12/20\n",
            "215/215 [==============================] - 2s 10ms/step - loss: 0.0510 - accuracy: 0.9879 - val_loss: 0.5559 - val_accuracy: 0.8058\n",
            "Epoch 13/20\n",
            "215/215 [==============================] - 1s 5ms/step - loss: 0.0439 - accuracy: 0.9912 - val_loss: 0.5781 - val_accuracy: 0.8045\n",
            "Epoch 14/20\n",
            "215/215 [==============================] - 1s 6ms/step - loss: 0.0377 - accuracy: 0.9911 - val_loss: 0.6052 - val_accuracy: 0.8018\n",
            "Epoch 15/20\n",
            "215/215 [==============================] - 1s 5ms/step - loss: 0.0331 - accuracy: 0.9930 - val_loss: 0.6233 - val_accuracy: 0.8045\n",
            "Epoch 16/20\n",
            "215/215 [==============================] - 2s 8ms/step - loss: 0.0293 - accuracy: 0.9940 - val_loss: 0.6522 - val_accuracy: 0.8005\n",
            "Epoch 17/20\n",
            "215/215 [==============================] - 2s 7ms/step - loss: 0.0262 - accuracy: 0.9931 - val_loss: 0.6662 - val_accuracy: 0.8045\n",
            "Epoch 18/20\n",
            "215/215 [==============================] - 1s 6ms/step - loss: 0.0237 - accuracy: 0.9934 - val_loss: 0.6825 - val_accuracy: 0.8058\n",
            "Epoch 19/20\n",
            "215/215 [==============================] - 1s 5ms/step - loss: 0.0215 - accuracy: 0.9937 - val_loss: 0.7062 - val_accuracy: 0.7953\n",
            "Epoch 20/20\n",
            "215/215 [==============================] - 2s 7ms/step - loss: 0.0202 - accuracy: 0.9937 - val_loss: 0.7273 - val_accuracy: 0.7979\n"
          ]
        }
      ]
    },
    {
      "cell_type": "markdown",
      "source": [
        "it looke like,5 epochs was enough and we just increased our overfit\n",
        "\n",
        "so lets evaluate on our test dataset\n",
        "\n",
        "so,lets first create our dataset"
      ],
      "metadata": {
        "id": "LhbRbDuhi4B4"
      }
    },
    {
      "cell_type": "code",
      "source": [
        "train_data"
      ],
      "metadata": {
        "colab": {
          "base_uri": "https://localhost:8080/",
          "height": 580
        },
        "id": "h-witEnLhnmQ",
        "outputId": "295c9a35-9081-42c4-b6a9-ffc8f19a5909"
      },
      "execution_count": 45,
      "outputs": [
        {
          "output_type": "execute_result",
          "data": {
            "text/plain": [
              "         id       keyword                        location  \\\n",
              "6039   8633       seismic              Mogadishu, Somalia   \n",
              "1709   2465      collided                   San Francisco   \n",
              "2775   3992   devastation                             NaN   \n",
              "2511   3607    desolation             North East, England   \n",
              "5234   7480  obliteration                             NaN   \n",
              "...     ...           ...                             ...   \n",
              "7053  10106       typhoon                           Dhaka   \n",
              "1587   2292  cliff%20fall                  Lagos, Nigeria   \n",
              "5828   8321        rubble  Spain - China - Latin America.   \n",
              "5280   7545      outbreak                           Chile   \n",
              "4458   6341      hostages                             NaN   \n",
              "\n",
              "                                                                                                                                            text  \\\n",
              "6039                                        Exploration Takes Seismic Shift in #Gabon to #Somalia\\nhttp://t.co/Ltf6jL5keU http://t.co/Zlq8tHcTkW   \n",
              "1709                 Mind blown by @GlassAnimals slithering viscous Gold Mine (cover of Yeah Yeah Yeahs + Erykah Badu)Û_ http://t.co/7Zb9gm5z0h   \n",
              "2775     70 Years After Atomic Bombs Japan Still Struggles With War Past: The anniversary of the devastation wrought b... http://t.co/vFCtrzaOk2   \n",
              "2511  Just came back from camping and returned with a new song which gets recorded tomorrow. Can't wait! #Desolation #TheConspiracyTheory #NewEP   \n",
              "5234                                                               Dead Space - Obliteration Imminent [2/2]: http://t.co/XJB0dCAaHf via @YouTube   \n",
              "...                                                                                                                                          ...   \n",
              "7053    Obama Declares Disaster for Typhoon-Devastated Saipan: Obama signs disaster declaration for Northern Marians a... http://t.co/lEYJwNnAH8   \n",
              "1587    Huge cliff landslide on road in China: Watch the moment a cliff collapses as huge chunks of rock fall onto a r... http://t.co/eEEwO207mX   \n",
              "5828  China's Stock Market Crash: Are There Gems In The Rubble?: ChinaÛªs stock market crash this summer h... http://t.co/pE2R3lN16o by .Forbes   \n",
              "5280    Families to sue over Legionnaires: More than 40 families affected by the fatal outbreak of Legionnaires' disea... http://t.co/02ELqLOpFk   \n",
              "4458                           Broadcast journalism: hostages to fortune otherwise quot-television blind else quot-operations since-3g superv...   \n",
              "\n",
              "      target  \n",
              "6039       1  \n",
              "1709       0  \n",
              "2775       1  \n",
              "2511       1  \n",
              "5234       0  \n",
              "...      ...  \n",
              "7053       1  \n",
              "1587       1  \n",
              "5828       0  \n",
              "5280       1  \n",
              "4458       0  \n",
              "\n",
              "[7613 rows x 5 columns]"
            ],
            "text/html": [
              "\n",
              "  <div id=\"df-c6a515f2-7f6c-4f3f-ad56-5736094a02eb\" class=\"colab-df-container\">\n",
              "    <div>\n",
              "<style scoped>\n",
              "    .dataframe tbody tr th:only-of-type {\n",
              "        vertical-align: middle;\n",
              "    }\n",
              "\n",
              "    .dataframe tbody tr th {\n",
              "        vertical-align: top;\n",
              "    }\n",
              "\n",
              "    .dataframe thead th {\n",
              "        text-align: right;\n",
              "    }\n",
              "</style>\n",
              "<table border=\"1\" class=\"dataframe\">\n",
              "  <thead>\n",
              "    <tr style=\"text-align: right;\">\n",
              "      <th></th>\n",
              "      <th>id</th>\n",
              "      <th>keyword</th>\n",
              "      <th>location</th>\n",
              "      <th>text</th>\n",
              "      <th>target</th>\n",
              "    </tr>\n",
              "  </thead>\n",
              "  <tbody>\n",
              "    <tr>\n",
              "      <th>6039</th>\n",
              "      <td>8633</td>\n",
              "      <td>seismic</td>\n",
              "      <td>Mogadishu, Somalia</td>\n",
              "      <td>Exploration Takes Seismic Shift in #Gabon to #Somalia\\nhttp://t.co/Ltf6jL5keU http://t.co/Zlq8tHcTkW</td>\n",
              "      <td>1</td>\n",
              "    </tr>\n",
              "    <tr>\n",
              "      <th>1709</th>\n",
              "      <td>2465</td>\n",
              "      <td>collided</td>\n",
              "      <td>San Francisco</td>\n",
              "      <td>Mind blown by @GlassAnimals slithering viscous Gold Mine (cover of Yeah Yeah Yeahs + Erykah Badu)Û_ http://t.co/7Zb9gm5z0h</td>\n",
              "      <td>0</td>\n",
              "    </tr>\n",
              "    <tr>\n",
              "      <th>2775</th>\n",
              "      <td>3992</td>\n",
              "      <td>devastation</td>\n",
              "      <td>NaN</td>\n",
              "      <td>70 Years After Atomic Bombs Japan Still Struggles With War Past: The anniversary of the devastation wrought b... http://t.co/vFCtrzaOk2</td>\n",
              "      <td>1</td>\n",
              "    </tr>\n",
              "    <tr>\n",
              "      <th>2511</th>\n",
              "      <td>3607</td>\n",
              "      <td>desolation</td>\n",
              "      <td>North East, England</td>\n",
              "      <td>Just came back from camping and returned with a new song which gets recorded tomorrow. Can't wait! #Desolation #TheConspiracyTheory #NewEP</td>\n",
              "      <td>1</td>\n",
              "    </tr>\n",
              "    <tr>\n",
              "      <th>5234</th>\n",
              "      <td>7480</td>\n",
              "      <td>obliteration</td>\n",
              "      <td>NaN</td>\n",
              "      <td>Dead Space - Obliteration Imminent [2/2]: http://t.co/XJB0dCAaHf via @YouTube</td>\n",
              "      <td>0</td>\n",
              "    </tr>\n",
              "    <tr>\n",
              "      <th>...</th>\n",
              "      <td>...</td>\n",
              "      <td>...</td>\n",
              "      <td>...</td>\n",
              "      <td>...</td>\n",
              "      <td>...</td>\n",
              "    </tr>\n",
              "    <tr>\n",
              "      <th>7053</th>\n",
              "      <td>10106</td>\n",
              "      <td>typhoon</td>\n",
              "      <td>Dhaka</td>\n",
              "      <td>Obama Declares Disaster for Typhoon-Devastated Saipan: Obama signs disaster declaration for Northern Marians a... http://t.co/lEYJwNnAH8</td>\n",
              "      <td>1</td>\n",
              "    </tr>\n",
              "    <tr>\n",
              "      <th>1587</th>\n",
              "      <td>2292</td>\n",
              "      <td>cliff%20fall</td>\n",
              "      <td>Lagos, Nigeria</td>\n",
              "      <td>Huge cliff landslide on road in China: Watch the moment a cliff collapses as huge chunks of rock fall onto a r... http://t.co/eEEwO207mX</td>\n",
              "      <td>1</td>\n",
              "    </tr>\n",
              "    <tr>\n",
              "      <th>5828</th>\n",
              "      <td>8321</td>\n",
              "      <td>rubble</td>\n",
              "      <td>Spain - China - Latin America.</td>\n",
              "      <td>China's Stock Market Crash: Are There Gems In The Rubble?: ChinaÛªs stock market crash this summer h... http://t.co/pE2R3lN16o by .Forbes</td>\n",
              "      <td>0</td>\n",
              "    </tr>\n",
              "    <tr>\n",
              "      <th>5280</th>\n",
              "      <td>7545</td>\n",
              "      <td>outbreak</td>\n",
              "      <td>Chile</td>\n",
              "      <td>Families to sue over Legionnaires: More than 40 families affected by the fatal outbreak of Legionnaires' disea... http://t.co/02ELqLOpFk</td>\n",
              "      <td>1</td>\n",
              "    </tr>\n",
              "    <tr>\n",
              "      <th>4458</th>\n",
              "      <td>6341</td>\n",
              "      <td>hostages</td>\n",
              "      <td>NaN</td>\n",
              "      <td>Broadcast journalism: hostages to fortune otherwise quot-television blind else quot-operations since-3g superv...</td>\n",
              "      <td>0</td>\n",
              "    </tr>\n",
              "  </tbody>\n",
              "</table>\n",
              "<p>7613 rows × 5 columns</p>\n",
              "</div>\n",
              "    <div class=\"colab-df-buttons\">\n",
              "\n",
              "  <div class=\"colab-df-container\">\n",
              "    <button class=\"colab-df-convert\" onclick=\"convertToInteractive('df-c6a515f2-7f6c-4f3f-ad56-5736094a02eb')\"\n",
              "            title=\"Convert this dataframe to an interactive table.\"\n",
              "            style=\"display:none;\">\n",
              "\n",
              "  <svg xmlns=\"http://www.w3.org/2000/svg\" height=\"24px\" viewBox=\"0 -960 960 960\">\n",
              "    <path d=\"M120-120v-720h720v720H120Zm60-500h600v-160H180v160Zm220 220h160v-160H400v160Zm0 220h160v-160H400v160ZM180-400h160v-160H180v160Zm440 0h160v-160H620v160ZM180-180h160v-160H180v160Zm440 0h160v-160H620v160Z\"/>\n",
              "  </svg>\n",
              "    </button>\n",
              "\n",
              "  <style>\n",
              "    .colab-df-container {\n",
              "      display:flex;\n",
              "      gap: 12px;\n",
              "    }\n",
              "\n",
              "    .colab-df-convert {\n",
              "      background-color: #E8F0FE;\n",
              "      border: none;\n",
              "      border-radius: 50%;\n",
              "      cursor: pointer;\n",
              "      display: none;\n",
              "      fill: #1967D2;\n",
              "      height: 32px;\n",
              "      padding: 0 0 0 0;\n",
              "      width: 32px;\n",
              "    }\n",
              "\n",
              "    .colab-df-convert:hover {\n",
              "      background-color: #E2EBFA;\n",
              "      box-shadow: 0px 1px 2px rgba(60, 64, 67, 0.3), 0px 1px 3px 1px rgba(60, 64, 67, 0.15);\n",
              "      fill: #174EA6;\n",
              "    }\n",
              "\n",
              "    .colab-df-buttons div {\n",
              "      margin-bottom: 4px;\n",
              "    }\n",
              "\n",
              "    [theme=dark] .colab-df-convert {\n",
              "      background-color: #3B4455;\n",
              "      fill: #D2E3FC;\n",
              "    }\n",
              "\n",
              "    [theme=dark] .colab-df-convert:hover {\n",
              "      background-color: #434B5C;\n",
              "      box-shadow: 0px 1px 3px 1px rgba(0, 0, 0, 0.15);\n",
              "      filter: drop-shadow(0px 1px 2px rgba(0, 0, 0, 0.3));\n",
              "      fill: #FFFFFF;\n",
              "    }\n",
              "  </style>\n",
              "\n",
              "    <script>\n",
              "      const buttonEl =\n",
              "        document.querySelector('#df-c6a515f2-7f6c-4f3f-ad56-5736094a02eb button.colab-df-convert');\n",
              "      buttonEl.style.display =\n",
              "        google.colab.kernel.accessAllowed ? 'block' : 'none';\n",
              "\n",
              "      async function convertToInteractive(key) {\n",
              "        const element = document.querySelector('#df-c6a515f2-7f6c-4f3f-ad56-5736094a02eb');\n",
              "        const dataTable =\n",
              "          await google.colab.kernel.invokeFunction('convertToInteractive',\n",
              "                                                    [key], {});\n",
              "        if (!dataTable) return;\n",
              "\n",
              "        const docLinkHtml = 'Like what you see? Visit the ' +\n",
              "          '<a target=\"_blank\" href=https://colab.research.google.com/notebooks/data_table.ipynb>data table notebook</a>'\n",
              "          + ' to learn more about interactive tables.';\n",
              "        element.innerHTML = '';\n",
              "        dataTable['output_type'] = 'display_data';\n",
              "        await google.colab.output.renderOutput(dataTable, element);\n",
              "        const docLink = document.createElement('div');\n",
              "        docLink.innerHTML = docLinkHtml;\n",
              "        element.appendChild(docLink);\n",
              "      }\n",
              "    </script>\n",
              "  </div>\n",
              "\n",
              "\n",
              "<div id=\"df-64f53901-4360-428f-ba9b-fec102d5c7ae\">\n",
              "  <button class=\"colab-df-quickchart\" onclick=\"quickchart('df-64f53901-4360-428f-ba9b-fec102d5c7ae')\"\n",
              "            title=\"Suggest charts.\"\n",
              "            style=\"display:none;\">\n",
              "\n",
              "<svg xmlns=\"http://www.w3.org/2000/svg\" height=\"24px\"viewBox=\"0 0 24 24\"\n",
              "     width=\"24px\">\n",
              "    <g>\n",
              "        <path d=\"M19 3H5c-1.1 0-2 .9-2 2v14c0 1.1.9 2 2 2h14c1.1 0 2-.9 2-2V5c0-1.1-.9-2-2-2zM9 17H7v-7h2v7zm4 0h-2V7h2v10zm4 0h-2v-4h2v4z\"/>\n",
              "    </g>\n",
              "</svg>\n",
              "  </button>\n",
              "\n",
              "<style>\n",
              "  .colab-df-quickchart {\n",
              "      --bg-color: #E8F0FE;\n",
              "      --fill-color: #1967D2;\n",
              "      --hover-bg-color: #E2EBFA;\n",
              "      --hover-fill-color: #174EA6;\n",
              "      --disabled-fill-color: #AAA;\n",
              "      --disabled-bg-color: #DDD;\n",
              "  }\n",
              "\n",
              "  [theme=dark] .colab-df-quickchart {\n",
              "      --bg-color: #3B4455;\n",
              "      --fill-color: #D2E3FC;\n",
              "      --hover-bg-color: #434B5C;\n",
              "      --hover-fill-color: #FFFFFF;\n",
              "      --disabled-bg-color: #3B4455;\n",
              "      --disabled-fill-color: #666;\n",
              "  }\n",
              "\n",
              "  .colab-df-quickchart {\n",
              "    background-color: var(--bg-color);\n",
              "    border: none;\n",
              "    border-radius: 50%;\n",
              "    cursor: pointer;\n",
              "    display: none;\n",
              "    fill: var(--fill-color);\n",
              "    height: 32px;\n",
              "    padding: 0;\n",
              "    width: 32px;\n",
              "  }\n",
              "\n",
              "  .colab-df-quickchart:hover {\n",
              "    background-color: var(--hover-bg-color);\n",
              "    box-shadow: 0 1px 2px rgba(60, 64, 67, 0.3), 0 1px 3px 1px rgba(60, 64, 67, 0.15);\n",
              "    fill: var(--button-hover-fill-color);\n",
              "  }\n",
              "\n",
              "  .colab-df-quickchart-complete:disabled,\n",
              "  .colab-df-quickchart-complete:disabled:hover {\n",
              "    background-color: var(--disabled-bg-color);\n",
              "    fill: var(--disabled-fill-color);\n",
              "    box-shadow: none;\n",
              "  }\n",
              "\n",
              "  .colab-df-spinner {\n",
              "    border: 2px solid var(--fill-color);\n",
              "    border-color: transparent;\n",
              "    border-bottom-color: var(--fill-color);\n",
              "    animation:\n",
              "      spin 1s steps(1) infinite;\n",
              "  }\n",
              "\n",
              "  @keyframes spin {\n",
              "    0% {\n",
              "      border-color: transparent;\n",
              "      border-bottom-color: var(--fill-color);\n",
              "      border-left-color: var(--fill-color);\n",
              "    }\n",
              "    20% {\n",
              "      border-color: transparent;\n",
              "      border-left-color: var(--fill-color);\n",
              "      border-top-color: var(--fill-color);\n",
              "    }\n",
              "    30% {\n",
              "      border-color: transparent;\n",
              "      border-left-color: var(--fill-color);\n",
              "      border-top-color: var(--fill-color);\n",
              "      border-right-color: var(--fill-color);\n",
              "    }\n",
              "    40% {\n",
              "      border-color: transparent;\n",
              "      border-right-color: var(--fill-color);\n",
              "      border-top-color: var(--fill-color);\n",
              "    }\n",
              "    60% {\n",
              "      border-color: transparent;\n",
              "      border-right-color: var(--fill-color);\n",
              "    }\n",
              "    80% {\n",
              "      border-color: transparent;\n",
              "      border-right-color: var(--fill-color);\n",
              "      border-bottom-color: var(--fill-color);\n",
              "    }\n",
              "    90% {\n",
              "      border-color: transparent;\n",
              "      border-bottom-color: var(--fill-color);\n",
              "    }\n",
              "  }\n",
              "</style>\n",
              "\n",
              "  <script>\n",
              "    async function quickchart(key) {\n",
              "      const quickchartButtonEl =\n",
              "        document.querySelector('#' + key + ' button');\n",
              "      quickchartButtonEl.disabled = true;  // To prevent multiple clicks.\n",
              "      quickchartButtonEl.classList.add('colab-df-spinner');\n",
              "      try {\n",
              "        const charts = await google.colab.kernel.invokeFunction(\n",
              "            'suggestCharts', [key], {});\n",
              "      } catch (error) {\n",
              "        console.error('Error during call to suggestCharts:', error);\n",
              "      }\n",
              "      quickchartButtonEl.classList.remove('colab-df-spinner');\n",
              "      quickchartButtonEl.classList.add('colab-df-quickchart-complete');\n",
              "    }\n",
              "    (() => {\n",
              "      let quickchartButtonEl =\n",
              "        document.querySelector('#df-64f53901-4360-428f-ba9b-fec102d5c7ae button');\n",
              "      quickchartButtonEl.style.display =\n",
              "        google.colab.kernel.accessAllowed ? 'block' : 'none';\n",
              "    })();\n",
              "  </script>\n",
              "</div>\n",
              "    </div>\n",
              "  </div>\n"
            ]
          },
          "metadata": {},
          "execution_count": 45
        }
      ]
    },
    {
      "cell_type": "code",
      "source": [
        "import matplotlib.pyplot as plt"
      ],
      "metadata": {
        "id": "-ZCYgDbBjE3S"
      },
      "execution_count": 46,
      "outputs": []
    },
    {
      "cell_type": "code",
      "source": [
        "pd.DataFrame(model_1_history.history).plot()"
      ],
      "metadata": {
        "id": "B5INB_MBjE6b",
        "colab": {
          "base_uri": "https://localhost:8080/",
          "height": 447
        },
        "outputId": "57c8b223-21f0-4e1a-e4cb-e8c271f7efa9"
      },
      "execution_count": 47,
      "outputs": [
        {
          "output_type": "execute_result",
          "data": {
            "text/plain": [
              "<Axes: >"
            ]
          },
          "metadata": {},
          "execution_count": 47
        },
        {
          "output_type": "display_data",
          "data": {
            "text/plain": [
              "<Figure size 640x480 with 1 Axes>"
            ],
            "image/png": "[encoded data removed]"
          },
          "metadata": {}
        }
      ]
    },
    {
      "cell_type": "markdown",
      "source": [
        "now,lets examine another model to see if increasing the volume of dense layer have any effect"
      ],
      "metadata": {
        "id": "0JKDcJQPUUTA"
      }
    },
    {
      "cell_type": "code",
      "source": [
        "model_2_embedding = tf.keras.layers.Embedding(input_dim=vocab_size,\n",
        "                                              output_dim=128,\n",
        "                                              mask_zero=True,\n",
        "                                              embeddings_initializer=\"uniform\",\n",
        "                                              name=\"kir_asb\")"
      ],
      "metadata": {
        "id": "w5FhG7zPiqzJ"
      },
      "execution_count": 48,
      "outputs": []
    },
    {
      "cell_type": "code",
      "source": [
        "input_model_2 = tf.keras.layers.Input(shape=(1,),dtype=\"string\")\n",
        "x = vectorizer(input_model_2)\n",
        "x = model_2_embedding(x)\n",
        "x = tf.keras.layers.GlobalAveragePooling1D()(x)\n",
        "x = tf.keras.layers.Dense(128,activation=tf.keras.activations.relu)(x)\n",
        "output_2 = tf.keras.layers.Dense(1,activation=tf.keras.activations.sigmoid)(x)\n",
        "\n",
        "model_2 = tf.keras.Model(input_model_2,output_2)"
      ],
      "metadata": {
        "id": "22OC5KRqU4d0"
      },
      "execution_count": 49,
      "outputs": []
    },
    {
      "cell_type": "code",
      "source": [
        "model_2.compile(loss=tf.keras.losses.binary_crossentropy,\n",
        "                optimizer=tf.keras.optimizers.Adam(learning_rate=0.001),\n",
        "                metrics=[\"accuracy\"])"
      ],
      "metadata": {
        "id": "aahkS2pzV9l7"
      },
      "execution_count": 50,
      "outputs": []
    },
    {
      "cell_type": "code",
      "source": [
        "model_2_history = model_2.fit(train_sentence,\n",
        "                              train_labels,\n",
        "                              epochs=10,\n",
        "                              validation_data=(val_sentence,val_labels),\n",
        "                              verbose = 2)"
      ],
      "metadata": {
        "colab": {
          "base_uri": "https://localhost:8080/"
        },
        "id": "jDA4e-3yWTUn",
        "outputId": "5ebfc13e-8c24-4904-cb77-4b49e547a30d"
      },
      "execution_count": 51,
      "outputs": [
        {
          "output_type": "stream",
          "name": "stdout",
          "text": [
            "Epoch 1/10\n",
            "215/215 - 15s - loss: 0.5358 - accuracy: 0.7403 - val_loss: 0.4138 - val_accuracy: 0.8202 - 15s/epoch - 69ms/step\n",
            "Epoch 2/10\n",
            "215/215 - 3s - loss: 0.2721 - accuracy: 0.8945 - val_loss: 0.4687 - val_accuracy: 0.8084 - 3s/epoch - 13ms/step\n",
            "Epoch 3/10\n",
            "215/215 - 2s - loss: 0.1269 - accuracy: 0.9558 - val_loss: 0.6160 - val_accuracy: 0.7927 - 2s/epoch - 10ms/step\n",
            "Epoch 4/10\n",
            "215/215 - 2s - loss: 0.0635 - accuracy: 0.9790 - val_loss: 0.7978 - val_accuracy: 0.7822 - 2s/epoch - 9ms/step\n",
            "Epoch 5/10\n",
            "215/215 - 2s - loss: 0.0389 - accuracy: 0.9877 - val_loss: 0.8658 - val_accuracy: 0.7822 - 2s/epoch - 9ms/step\n",
            "Epoch 6/10\n",
            "215/215 - 1s - loss: 0.0302 - accuracy: 0.9899 - val_loss: 0.9003 - val_accuracy: 0.7782 - 1s/epoch - 6ms/step\n",
            "Epoch 7/10\n",
            "215/215 - 1s - loss: 0.0227 - accuracy: 0.9930 - val_loss: 1.0181 - val_accuracy: 0.7769 - 1s/epoch - 7ms/step\n",
            "Epoch 8/10\n",
            "215/215 - 1s - loss: 0.0200 - accuracy: 0.9931 - val_loss: 1.0033 - val_accuracy: 0.7822 - 1s/epoch - 6ms/step\n",
            "Epoch 9/10\n",
            "215/215 - 1s - loss: 0.0162 - accuracy: 0.9945 - val_loss: 1.0861 - val_accuracy: 0.7717 - 1s/epoch - 5ms/step\n",
            "Epoch 10/10\n",
            "215/215 - 1s - loss: 0.0146 - accuracy: 0.9945 - val_loss: 1.0955 - val_accuracy: 0.7756 - 871ms/epoch - 4ms/step\n"
          ]
        }
      ]
    },
    {
      "cell_type": "code",
      "source": [
        "pd.DataFrame(model_2_history.history).plot()"
      ],
      "metadata": {
        "colab": {
          "base_uri": "https://localhost:8080/",
          "height": 447
        },
        "id": "gp0OLG0cWq0o",
        "outputId": "40ce7413-fc06-4aa1-e44f-8065e6709424"
      },
      "execution_count": 52,
      "outputs": [
        {
          "output_type": "execute_result",
          "data": {
            "text/plain": [
              "<Axes: >"
            ]
          },
          "metadata": {},
          "execution_count": 52
        },
        {
          "output_type": "display_data",
          "data": {
            "text/plain": [
              "<Figure size 640x480 with 1 Axes>"
            ],
            "image/png": "[encoded data removed]"
          },
          "metadata": {}
        }
      ]
    },
    {
      "cell_type": "markdown",
      "source": [
        "Iknow,it was terrible\n",
        "\n",
        "lets see if we can imporve if we add another dnse layer"
      ],
      "metadata": {
        "id": "tQgWuA0YXOAx"
      }
    },
    {
      "cell_type": "code",
      "source": [
        "model_3_embedding = tf.keras.layers.Embedding(input_dim=vocab_size,\n",
        "                                              output_dim=256,\n",
        "                                              mask_zero=True,\n",
        "                                              name=\"kir_ensan\")"
      ],
      "metadata": {
        "id": "Seq5q1e5XI-c"
      },
      "execution_count": 53,
      "outputs": []
    },
    {
      "cell_type": "code",
      "source": [
        "input_model_3 = tf.keras.layers.Input(shape=(1,),dtype=\"string\")\n",
        "x = vectorizer(input_model_3)\n",
        "x = model_3_embedding(x)\n",
        "x = tf.keras.layers.GlobalAveragePooling1D()(x)\n",
        "x = tf.keras.layers.Dense(128,activation=tf.keras.activations.relu)(x)\n",
        "output_3 = tf.keras.layers.Dense(1,activation=tf.keras.activations.sigmoid)(x)\n",
        "\n",
        "model_3 = tf.keras.Model(input_model_3,output_3)"
      ],
      "metadata": {
        "id": "GZC5MME9Xvp4"
      },
      "execution_count": 54,
      "outputs": []
    },
    {
      "cell_type": "code",
      "source": [
        "model_3.compile(loss=tf.keras.losses.binary_crossentropy,\n",
        "                optimizer=tf.keras.optimizers.Adam(learning_rate=0.001),\n",
        "                metrics=[\"accuracy\"])"
      ],
      "metadata": {
        "id": "kuBJZ8w-YBIv"
      },
      "execution_count": 55,
      "outputs": []
    },
    {
      "cell_type": "code",
      "source": [
        "model_3_history = model_3.fit(train_sentence,\n",
        "                              train_labels,\n",
        "                              epochs=10,\n",
        "                              validation_data=(val_sentence,val_labels),\n",
        "                              verbose = 2)"
      ],
      "metadata": {
        "colab": {
          "base_uri": "https://localhost:8080/"
        },
        "id": "wnXCwFkjYFh1",
        "outputId": "cd274892-6375-4763-97cf-6800adcb71db"
      },
      "execution_count": 56,
      "outputs": [
        {
          "output_type": "stream",
          "name": "stdout",
          "text": [
            "Epoch 1/10\n",
            "215/215 - 21s - loss: 0.5243 - accuracy: 0.7495 - val_loss: 0.4147 - val_accuracy: 0.8268 - 21s/epoch - 96ms/step\n",
            "Epoch 2/10\n",
            "215/215 - 4s - loss: 0.2573 - accuracy: 0.8994 - val_loss: 0.4860 - val_accuracy: 0.8058 - 4s/epoch - 17ms/step\n",
            "Epoch 3/10\n",
            "215/215 - 3s - loss: 0.1160 - accuracy: 0.9572 - val_loss: 0.6460 - val_accuracy: 0.7979 - 3s/epoch - 13ms/step\n",
            "Epoch 4/10\n",
            "215/215 - 3s - loss: 0.0592 - accuracy: 0.9785 - val_loss: 0.8549 - val_accuracy: 0.7808 - 3s/epoch - 14ms/step\n",
            "Epoch 5/10\n",
            "215/215 - 2s - loss: 0.0333 - accuracy: 0.9880 - val_loss: 0.9236 - val_accuracy: 0.7822 - 2s/epoch - 11ms/step\n",
            "Epoch 6/10\n",
            "215/215 - 2s - loss: 0.0247 - accuracy: 0.9883 - val_loss: 1.0109 - val_accuracy: 0.7822 - 2s/epoch - 10ms/step\n",
            "Epoch 7/10\n",
            "215/215 - 3s - loss: 0.0208 - accuracy: 0.9926 - val_loss: 1.1084 - val_accuracy: 0.7822 - 3s/epoch - 14ms/step\n",
            "Epoch 8/10\n",
            "215/215 - 3s - loss: 0.0162 - accuracy: 0.9939 - val_loss: 1.1300 - val_accuracy: 0.7756 - 3s/epoch - 13ms/step\n",
            "Epoch 9/10\n",
            "215/215 - 2s - loss: 0.0139 - accuracy: 0.9937 - val_loss: 1.2370 - val_accuracy: 0.7848 - 2s/epoch - 10ms/step\n",
            "Epoch 10/10\n",
            "215/215 - 2s - loss: 0.0118 - accuracy: 0.9940 - val_loss: 1.2901 - val_accuracy: 0.7717 - 2s/epoch - 7ms/step\n"
          ]
        }
      ]
    },
    {
      "cell_type": "code",
      "source": [
        "pd.DataFrame(model_3_history.history).plot()"
      ],
      "metadata": {
        "colab": {
          "base_uri": "https://localhost:8080/",
          "height": 447
        },
        "id": "cqGY5fiWYKsS",
        "outputId": "d971aaba-6984-4102-95e3-68d41916a763"
      },
      "execution_count": 57,
      "outputs": [
        {
          "output_type": "execute_result",
          "data": {
            "text/plain": [
              "<Axes: >"
            ]
          },
          "metadata": {},
          "execution_count": 57
        },
        {
          "output_type": "display_data",
          "data": {
            "text/plain": [
              "<Figure size 640x480 with 1 Axes>"
            ],
            "image/png": "[encoded data removed]"
          },
          "metadata": {}
        }
      ]
    },
    {
      "cell_type": "markdown",
      "source": [
        "it wasnt good again,\n",
        "\n",
        "so,lets use our last weapon in dense model\n",
        "\n",
        "adding another fucking layer :))"
      ],
      "metadata": {
        "id": "LETfF4ZDZCde"
      }
    },
    {
      "cell_type": "code",
      "source": [
        "model_4_embedding = tf.keras.layers.Embedding(input_dim=vocab_size,\n",
        "                                              output_dim=256,\n",
        "                                              mask_zero=True,\n",
        "                                              name=\"kiri\")"
      ],
      "metadata": {
        "id": "zPxG6pEcZBK1"
      },
      "execution_count": 58,
      "outputs": []
    },
    {
      "cell_type": "code",
      "source": [
        "input_model_4 = tf.keras.layers.Input(shape=(1,),dtype=\"string\")\n",
        "x = vectorizer(input_model_4)\n",
        "x = model_4_embedding(x)\n",
        "x = tf.keras.layers.GlobalAveragePooling1D()(x)\n",
        "x = tf.keras.layers.Dense(128,activation=tf.keras.activations.relu)(x)\n",
        "x = tf.keras.layers.Dense(128,activation=tf.keras.activations.relu)(x)\n",
        "output_4 = tf.keras.layers.Dense(1,activation=tf.keras.activations.sigmoid)(x)\n",
        "\n",
        "model_4 = tf.keras.Model(input_model_4,output_4)"
      ],
      "metadata": {
        "id": "qcyEt2Ecf4ug"
      },
      "execution_count": 59,
      "outputs": []
    },
    {
      "cell_type": "code",
      "source": [
        "model_4.compile(loss=tf.keras.losses.binary_crossentropy,\n",
        "                metrics=[\"accuracy\"],\n",
        "                optimizer=tf.keras.optimizers.Adam(learning_rate=0.001))"
      ],
      "metadata": {
        "id": "pzzMvqz9iFav"
      },
      "execution_count": 60,
      "outputs": []
    },
    {
      "cell_type": "code",
      "source": [
        "model_4_history = model_4.fit(train_sentence,\n",
        "                              train_labels,\n",
        "                              epochs=10,\n",
        "                              validation_data=(val_sentence,val_labels),\n",
        "                              verbose = 2)"
      ],
      "metadata": {
        "colab": {
          "base_uri": "https://localhost:8080/"
        },
        "id": "4-6QX4gbjRs6",
        "outputId": "df356a79-5731-4d03-f3e5-aa892ea2dbc4"
      },
      "execution_count": 61,
      "outputs": [
        {
          "output_type": "stream",
          "name": "stdout",
          "text": [
            "Epoch 1/10\n",
            "215/215 - 20s - loss: 0.5144 - accuracy: 0.7491 - val_loss: 0.4197 - val_accuracy: 0.8215 - 20s/epoch - 93ms/step\n",
            "Epoch 2/10\n",
            "215/215 - 4s - loss: 0.2463 - accuracy: 0.9038 - val_loss: 0.5100 - val_accuracy: 0.8018 - 4s/epoch - 18ms/step\n",
            "Epoch 3/10\n",
            "215/215 - 2s - loss: 0.1054 - accuracy: 0.9604 - val_loss: 0.7503 - val_accuracy: 0.7874 - 2s/epoch - 11ms/step\n",
            "Epoch 4/10\n",
            "215/215 - 2s - loss: 0.0524 - accuracy: 0.9785 - val_loss: 0.9991 - val_accuracy: 0.7743 - 2s/epoch - 10ms/step\n",
            "Epoch 5/10\n",
            "215/215 - 2s - loss: 0.0305 - accuracy: 0.9870 - val_loss: 1.2505 - val_accuracy: 0.7743 - 2s/epoch - 9ms/step\n",
            "Epoch 6/10\n",
            "215/215 - 2s - loss: 0.0241 - accuracy: 0.9885 - val_loss: 1.3758 - val_accuracy: 0.7756 - 2s/epoch - 8ms/step\n",
            "Epoch 7/10\n",
            "215/215 - 2s - loss: 0.0155 - accuracy: 0.9918 - val_loss: 1.5918 - val_accuracy: 0.7572 - 2s/epoch - 8ms/step\n",
            "Epoch 8/10\n",
            "215/215 - 2s - loss: 0.0149 - accuracy: 0.9924 - val_loss: 1.9014 - val_accuracy: 0.7677 - 2s/epoch - 8ms/step\n",
            "Epoch 9/10\n",
            "215/215 - 1s - loss: 0.0103 - accuracy: 0.9934 - val_loss: 1.9902 - val_accuracy: 0.7690 - 1s/epoch - 6ms/step\n",
            "Epoch 10/10\n",
            "215/215 - 1s - loss: 0.0116 - accuracy: 0.9936 - val_loss: 1.9659 - val_accuracy: 0.7625 - 1s/epoch - 5ms/step\n"
          ]
        }
      ]
    },
    {
      "cell_type": "code",
      "source": [
        "pd.DataFrame(model_4_history.history).plot()"
      ],
      "metadata": {
        "colab": {
          "base_uri": "https://localhost:8080/",
          "height": 447
        },
        "id": "xSaRYNKajX_I",
        "outputId": "a6c0c0fb-ae1b-4fb8-a06c-e98e4519f453"
      },
      "execution_count": 62,
      "outputs": [
        {
          "output_type": "execute_result",
          "data": {
            "text/plain": [
              "<Axes: >"
            ]
          },
          "metadata": {},
          "execution_count": 62
        },
        {
          "output_type": "display_data",
          "data": {
            "text/plain": [
              "<Figure size 640x480 with 1 Axes>"
            ],
            "image/png": "[encoded data removed]"
          },
          "metadata": {}
        }
      ]
    },
    {
      "cell_type": "markdown",
      "source": [
        "its not working anymore\n",
        "\n",
        "lets try to work with rnn models\n",
        "\n",
        "we will start with our famout LSTM(long_short term memory)"
      ],
      "metadata": {
        "id": "hC2DIMEckiCq"
      }
    },
    {
      "cell_type": "code",
      "source": [
        "tf.random.set_seed(85)"
      ],
      "metadata": {
        "id": "2t578FOhkg3C"
      },
      "execution_count": 63,
      "outputs": []
    },
    {
      "cell_type": "code",
      "source": [
        "model_5_embedding = tf.keras.layers.Embedding(input_dim=vocab_size,\n",
        "                                              output_dim = 128 ,\n",
        "                                              mask_zero=True,\n",
        "                                              name=\"kiri1\")"
      ],
      "metadata": {
        "id": "bYOhM5kelAfj"
      },
      "execution_count": 64,
      "outputs": []
    },
    {
      "cell_type": "code",
      "source": [
        "input_model_5 = tf.keras.layers.Input(shape=(1,),dtype=\"string\")\n",
        "x = vectorizer(input_model_5)\n",
        "x = model_5_embedding(x)\n",
        "print(x.shape)\n",
        "x = tf.keras.layers.LSTM(64)(x)\n",
        "output_5 = tf.keras.layers.Dense(1,activation=tf.keras.activations.sigmoid)(x)\n",
        "\n",
        "model_5 = tf.keras.Model(input_model_5,output_5)"
      ],
      "metadata": {
        "id": "vlCpRfu4lR4O",
        "outputId": "d24b0c02-db23-409c-f2dc-96bf6e0cd9cc",
        "colab": {
          "base_uri": "https://localhost:8080/"
        }
      },
      "execution_count": 65,
      "outputs": [
        {
          "output_type": "stream",
          "name": "stdout",
          "text": [
            "(None, 25, 128)\n"
          ]
        }
      ]
    },
    {
      "cell_type": "code",
      "source": [
        "model_5.compile(loss=tf.keras.losses.binary_crossentropy,\n",
        "                metrics=[\"accuracy\"],\n",
        "                optimizer=tf.keras.optimizers.Adam(learning_rate=0.001))"
      ],
      "metadata": {
        "id": "vjt2ulwDmrGJ"
      },
      "execution_count": 66,
      "outputs": []
    },
    {
      "cell_type": "code",
      "source": [
        "model_5_history = model_5.fit(train_sentence,\n",
        "                              train_labels,\n",
        "                              epochs=10,\n",
        "                              validation_data=(val_sentence,val_labels),\n",
        "                              verbose = 2)"
      ],
      "metadata": {
        "id": "GOVIQO7JnnId",
        "outputId": "30dfc0d6-6440-4578-bc31-f7e25960e2f7",
        "colab": {
          "base_uri": "https://localhost:8080/"
        }
      },
      "execution_count": 67,
      "outputs": [
        {
          "output_type": "stream",
          "name": "stdout",
          "text": [
            "Epoch 1/10\n",
            "215/215 - 28s - loss: 0.5076 - accuracy: 0.7625 - val_loss: 0.4410 - val_accuracy: 0.8202 - 28s/epoch - 128ms/step\n",
            "Epoch 2/10\n",
            "215/215 - 4s - loss: 0.2548 - accuracy: 0.9010 - val_loss: 0.4673 - val_accuracy: 0.7927 - 4s/epoch - 20ms/step\n",
            "Epoch 3/10\n",
            "215/215 - 4s - loss: 0.1073 - accuracy: 0.9616 - val_loss: 0.5664 - val_accuracy: 0.7874 - 4s/epoch - 20ms/step\n",
            "Epoch 4/10\n",
            "215/215 - 3s - loss: 0.0578 - accuracy: 0.9815 - val_loss: 0.6947 - val_accuracy: 0.7822 - 3s/epoch - 12ms/step\n",
            "Epoch 5/10\n",
            "215/215 - 2s - loss: 0.0357 - accuracy: 0.9893 - val_loss: 0.7560 - val_accuracy: 0.7743 - 2s/epoch - 10ms/step\n",
            "Epoch 6/10\n",
            "215/215 - 2s - loss: 0.0264 - accuracy: 0.9907 - val_loss: 0.8630 - val_accuracy: 0.7835 - 2s/epoch - 10ms/step\n",
            "Epoch 7/10\n",
            "215/215 - 3s - loss: 0.0192 - accuracy: 0.9930 - val_loss: 1.0375 - val_accuracy: 0.7808 - 3s/epoch - 12ms/step\n",
            "Epoch 8/10\n",
            "215/215 - 3s - loss: 0.0165 - accuracy: 0.9930 - val_loss: 1.2105 - val_accuracy: 0.7743 - 3s/epoch - 14ms/step\n",
            "Epoch 9/10\n",
            "215/215 - 2s - loss: 0.0122 - accuracy: 0.9940 - val_loss: 1.2225 - val_accuracy: 0.7703 - 2s/epoch - 9ms/step\n",
            "Epoch 10/10\n",
            "215/215 - 2s - loss: 0.0111 - accuracy: 0.9940 - val_loss: 1.2990 - val_accuracy: 0.7664 - 2s/epoch - 8ms/step\n"
          ]
        }
      ]
    },
    {
      "cell_type": "markdown",
      "source": [
        "its not working again\n",
        "\n",
        "i am tired :(("
      ],
      "metadata": {
        "id": "Vw5kt3nCom88"
      }
    },
    {
      "cell_type": "code",
      "source": [
        "pd.DataFrame(model_4_history.history).plot()"
      ],
      "metadata": {
        "id": "LbiKhYxmns5v",
        "outputId": "18020059-a4ec-4821-89a2-9f8bfc547a76",
        "colab": {
          "base_uri": "https://localhost:8080/",
          "height": 447
        }
      },
      "execution_count": 68,
      "outputs": [
        {
          "output_type": "execute_result",
          "data": {
            "text/plain": [
              "<Axes: >"
            ]
          },
          "metadata": {},
          "execution_count": 68
        },
        {
          "output_type": "display_data",
          "data": {
            "text/plain": [
              "<Figure size 640x480 with 1 Axes>"
            ],
            "image/png": "[encoded data removed]"
          },
          "metadata": {}
        }
      ]
    },
    {
      "cell_type": "markdown",
      "source": [
        "lets add another lstm cell layer"
      ],
      "metadata": {
        "id": "WhUmjjYqpS2-"
      }
    },
    {
      "cell_type": "code",
      "source": [
        "model_6_embedding = tf.keras.layers.Embedding(input_dim=vocab_size,\n",
        "                                              output_dim=128,\n",
        "                                              name=\"kk\",\n",
        "                                              mask_zero=True)"
      ],
      "metadata": {
        "id": "xSb8OH4CpRDz"
      },
      "execution_count": 69,
      "outputs": []
    },
    {
      "cell_type": "code",
      "source": [
        "input_model_6 = tf.keras.layers.Input(shape=(1,),dtype=\"string\")\n",
        "x = vectorizer(input_model_6)\n",
        "x = model_6_embedding(x)\n",
        "print(x.shape)\n",
        "x = tf.keras.layers.LSTM(128,return_sequences=True)(x)\n",
        "x = tf.keras.layers.LSTM(64)(x)\n",
        "output_6 = tf.keras.layers.Dense(1,activation=tf.keras.activations.sigmoid)(x)\n",
        "\n",
        "model_6 = tf.keras.Model(input_model_6,output_6)"
      ],
      "metadata": {
        "id": "gQTmQcPNpkH3",
        "outputId": "21b2f589-92ce-42b0-b3e8-ee1517a8b651",
        "colab": {
          "base_uri": "https://localhost:8080/"
        }
      },
      "execution_count": 70,
      "outputs": [
        {
          "output_type": "stream",
          "name": "stdout",
          "text": [
            "(None, 25, 128)\n"
          ]
        }
      ]
    },
    {
      "cell_type": "code",
      "source": [
        "model_6.compile(loss=tf.keras.losses.binary_crossentropy,\n",
        "                metrics=[\"accuracy\"],\n",
        "                optimizer=tf.keras.optimizers.Adam(learning_rate=0.001))"
      ],
      "metadata": {
        "id": "Id3n-TRCp180"
      },
      "execution_count": 71,
      "outputs": []
    },
    {
      "cell_type": "code",
      "source": [
        "model_6_history = model_6.fit(train_sentence,\n",
        "                              train_labels,\n",
        "                              epochs=10,\n",
        "                              validation_data=(val_sentence,val_labels),\n",
        "                              verbose = 2)"
      ],
      "metadata": {
        "id": "vkZcOF7ZqCqg",
        "outputId": "49c63c6b-93d3-460b-a94e-5ce81be4804c",
        "colab": {
          "base_uri": "https://localhost:8080/"
        }
      },
      "execution_count": 72,
      "outputs": [
        {
          "output_type": "stream",
          "name": "stdout",
          "text": [
            "Epoch 1/10\n",
            "215/215 - 44s - loss: 0.5055 - accuracy: 0.7612 - val_loss: 0.4241 - val_accuracy: 0.8228 - 44s/epoch - 203ms/step\n",
            "Epoch 2/10\n",
            "215/215 - 7s - loss: 0.2568 - accuracy: 0.9015 - val_loss: 0.4584 - val_accuracy: 0.8097 - 7s/epoch - 33ms/step\n",
            "Epoch 3/10\n",
            "215/215 - 6s - loss: 0.1071 - accuracy: 0.9625 - val_loss: 0.5963 - val_accuracy: 0.7927 - 6s/epoch - 29ms/step\n",
            "Epoch 4/10\n",
            "215/215 - 5s - loss: 0.0592 - accuracy: 0.9823 - val_loss: 0.7059 - val_accuracy: 0.7848 - 5s/epoch - 24ms/step\n",
            "Epoch 5/10\n",
            "215/215 - 7s - loss: 0.0376 - accuracy: 0.9893 - val_loss: 0.7483 - val_accuracy: 0.7703 - 7s/epoch - 32ms/step\n",
            "Epoch 6/10\n",
            "215/215 - 5s - loss: 0.0278 - accuracy: 0.9893 - val_loss: 1.1022 - val_accuracy: 0.7402 - 5s/epoch - 25ms/step\n",
            "Epoch 7/10\n",
            "215/215 - 4s - loss: 0.0209 - accuracy: 0.9924 - val_loss: 0.9642 - val_accuracy: 0.7651 - 4s/epoch - 18ms/step\n",
            "Epoch 8/10\n",
            "215/215 - 5s - loss: 0.0135 - accuracy: 0.9933 - val_loss: 1.2107 - val_accuracy: 0.7717 - 5s/epoch - 25ms/step\n",
            "Epoch 9/10\n",
            "215/215 - 4s - loss: 0.0107 - accuracy: 0.9953 - val_loss: 1.4431 - val_accuracy: 0.7677 - 4s/epoch - 20ms/step\n",
            "Epoch 10/10\n",
            "215/215 - 5s - loss: 0.0092 - accuracy: 0.9943 - val_loss: 1.4532 - val_accuracy: 0.7769 - 5s/epoch - 21ms/step\n"
          ]
        }
      ]
    },
    {
      "cell_type": "markdown",
      "source": [
        "it got worse"
      ],
      "metadata": {
        "id": "frxYe4pesycn"
      }
    },
    {
      "cell_type": "code",
      "source": [
        "pd.DataFrame(model_6_history.history).plot()"
      ],
      "metadata": {
        "id": "QFeHhlF3qIYE",
        "outputId": "818175b3-819f-4d3a-d89f-64e1800554e0",
        "colab": {
          "base_uri": "https://localhost:8080/",
          "height": 447
        }
      },
      "execution_count": 73,
      "outputs": [
        {
          "output_type": "execute_result",
          "data": {
            "text/plain": [
              "<Axes: >"
            ]
          },
          "metadata": {},
          "execution_count": 73
        },
        {
          "output_type": "display_data",
          "data": {
            "text/plain": [
              "<Figure size 640x480 with 1 Axes>"
            ],
            "image/png": "[encoded data removed]"
          },
          "metadata": {}
        }
      ]
    },
    {
      "cell_type": "markdown",
      "source": [
        "i think it is time to start using gru cells to see if we can achieve any improvement"
      ],
      "metadata": {
        "id": "Nhro0mSSVdRe"
      }
    },
    {
      "cell_type": "code",
      "source": [
        "model_7_embedding = tf.keras.layers.Embedding(input_dim = vocab_size,\n",
        "                                              output_dim=128,\n",
        "                                              mask_zero=True,\n",
        "                                              name=\"kiri_7\",\n",
        "                                              embeddings_initializer=\"uniform\")"
      ],
      "metadata": {
        "id": "lQ_L7VMss78a"
      },
      "execution_count": 74,
      "outputs": []
    },
    {
      "cell_type": "code",
      "source": [
        "input_model_7 = tf.keras.layers.Input(shape=(1,),dtype=\"string\")\n",
        "\n",
        "x = vectorizer(input_model_7)\n",
        "x = model_7_embedding(x)\n",
        "x = tf.keras.layers.GRU(128,return_sequences=True)(x)\n",
        "x = tf.keras.layers.GRU(64)(x)\n",
        "x = tf.keras.layers.Dense(64,activation=tf.keras.activations.relu)(x)\n",
        "output_7 = tf.keras.layers.Dense(1,activation=tf.keras.activations.sigmoid)(x)\n",
        "\n",
        "\n",
        "model_7 = tf.keras.Model(input_model_7,output_7)"
      ],
      "metadata": {
        "id": "j9xBr_yxWlzz"
      },
      "execution_count": 75,
      "outputs": []
    },
    {
      "cell_type": "code",
      "source": [
        "model_7.compile(loss=tf.keras.losses.binary_crossentropy,\n",
        "                metrics=[\"accuracy\"],\n",
        "                optimizer=tf.keras.optimizers.Adam(learning_rate=0.001))"
      ],
      "metadata": {
        "id": "0Ixlb4uvXe_B"
      },
      "execution_count": 76,
      "outputs": []
    },
    {
      "cell_type": "code",
      "source": [
        "model_7_history = model_7.fit(train_sentence,\n",
        "                              train_labels,\n",
        "                              epochs=10,\n",
        "                              validation_data=(val_sentence,val_labels),\n",
        "                              verbose = 2)"
      ],
      "metadata": {
        "colab": {
          "base_uri": "https://localhost:8080/"
        },
        "id": "dkyryDdAXxuq",
        "outputId": "dfd192ee-d5ab-491e-bbbb-5367f6c39efe"
      },
      "execution_count": 77,
      "outputs": [
        {
          "output_type": "stream",
          "name": "stdout",
          "text": [
            "Epoch 1/10\n",
            "215/215 - 27s - loss: 0.5117 - accuracy: 0.7532 - val_loss: 0.4268 - val_accuracy: 0.8123 - 27s/epoch - 126ms/step\n",
            "Epoch 2/10\n",
            "215/215 - 8s - loss: 0.2480 - accuracy: 0.9015 - val_loss: 0.4796 - val_accuracy: 0.7953 - 8s/epoch - 38ms/step\n",
            "Epoch 3/10\n",
            "215/215 - 7s - loss: 0.0984 - accuracy: 0.9654 - val_loss: 0.6390 - val_accuracy: 0.7927 - 7s/epoch - 32ms/step\n",
            "Epoch 4/10\n",
            "215/215 - 6s - loss: 0.0515 - accuracy: 0.9854 - val_loss: 0.8226 - val_accuracy: 0.7782 - 6s/epoch - 29ms/step\n",
            "Epoch 5/10\n",
            "215/215 - 6s - loss: 0.0368 - accuracy: 0.9898 - val_loss: 0.7463 - val_accuracy: 0.7887 - 6s/epoch - 26ms/step\n",
            "Epoch 6/10\n",
            "215/215 - 4s - loss: 0.0242 - accuracy: 0.9918 - val_loss: 0.9159 - val_accuracy: 0.7795 - 4s/epoch - 20ms/step\n",
            "Epoch 7/10\n",
            "215/215 - 6s - loss: 0.0177 - accuracy: 0.9943 - val_loss: 1.0556 - val_accuracy: 0.7651 - 6s/epoch - 26ms/step\n",
            "Epoch 8/10\n",
            "215/215 - 6s - loss: 0.0113 - accuracy: 0.9940 - val_loss: 1.2549 - val_accuracy: 0.7690 - 6s/epoch - 28ms/step\n",
            "Epoch 9/10\n",
            "215/215 - 3s - loss: 0.0077 - accuracy: 0.9953 - val_loss: 1.5339 - val_accuracy: 0.7677 - 3s/epoch - 14ms/step\n",
            "Epoch 10/10\n",
            "215/215 - 3s - loss: 0.0073 - accuracy: 0.9952 - val_loss: 1.6050 - val_accuracy: 0.7769 - 3s/epoch - 13ms/step\n"
          ]
        }
      ]
    },
    {
      "cell_type": "markdown",
      "source": [
        "fuckkkk\n",
        "\n",
        "i dont know why mo model is getting worse,whenever i try to train it\n",
        "\n",
        "lets use bidirectionality for our model to see if we can improve our model"
      ],
      "metadata": {
        "id": "yHSEIpCpZ0RC"
      }
    },
    {
      "cell_type": "code",
      "source": [
        "tf.random.set_seed(85)  # 85 is my favorite number"
      ],
      "metadata": {
        "id": "eAuKoyTAX3_H"
      },
      "execution_count": 78,
      "outputs": []
    },
    {
      "cell_type": "code",
      "source": [
        "model_8_embedding = tf.keras.layers.Embedding(input_dim=vocab_size,\n",
        "                                              output_dim=128,\n",
        "                                              name=\"zaaz\",\n",
        "                                              mask_zero=True,\n",
        "                                              embeddings_initializer=\"uniform\")"
      ],
      "metadata": {
        "id": "PVj3tBJkaHvE"
      },
      "execution_count": 79,
      "outputs": []
    },
    {
      "cell_type": "code",
      "source": [
        "input_model_8 = tf.keras.layers.Input(shape=(1,), dtype=\"string\")\n",
        "\n",
        "x = vectorizer(input_model_8)\n",
        "x = model_8_embedding(x)\n",
        "x = tf.keras.layers.Bidirectional(tf.keras.layers.LSTM(64))(x)\n",
        "x = tf.keras.layers.Dense(64,activation=tf.keras.activations.relu)(x)\n",
        "output_8 = tf.keras.layers.Dense(1,activation=tf.keras.activations.sigmoid)(x)\n",
        "\n",
        "model_8 = tf.keras.Model(input_model_8,output_8)"
      ],
      "metadata": {
        "id": "bsCwTDS8amri"
      },
      "execution_count": 80,
      "outputs": []
    },
    {
      "cell_type": "code",
      "source": [
        "model_8.compile(loss=tf.keras.losses.binary_crossentropy,\n",
        "                metrics=[\"accuracy\"],\n",
        "                optimizer=tf.keras.optimizers.Adam(learning_rate=0.001))"
      ],
      "metadata": {
        "id": "1VgMv5PPbgNZ"
      },
      "execution_count": 81,
      "outputs": []
    },
    {
      "cell_type": "code",
      "source": [
        "model_8_history = model_8.fit(train_sentence,\n",
        "                              train_labels,\n",
        "                              epochs=5,\n",
        "                              validation_data=(val_sentence,val_labels),\n",
        "                              verbose = 2)"
      ],
      "metadata": {
        "colab": {
          "base_uri": "https://localhost:8080/"
        },
        "id": "yD_yzz0Fbv48",
        "outputId": "3c7c945e-7290-4539-cd3c-7f6477dea47b"
      },
      "execution_count": 82,
      "outputs": [
        {
          "output_type": "stream",
          "name": "stdout",
          "text": [
            "Epoch 1/5\n",
            "215/215 - 28s - loss: 0.5095 - accuracy: 0.7489 - val_loss: 0.4105 - val_accuracy: 0.8228 - 28s/epoch - 129ms/step\n",
            "Epoch 2/5\n",
            "215/215 - 6s - loss: 0.2405 - accuracy: 0.9059 - val_loss: 0.4760 - val_accuracy: 0.7927 - 6s/epoch - 29ms/step\n",
            "Epoch 3/5\n",
            "215/215 - 6s - loss: 0.0933 - accuracy: 0.9664 - val_loss: 0.6100 - val_accuracy: 0.7835 - 6s/epoch - 27ms/step\n",
            "Epoch 4/5\n",
            "215/215 - 3s - loss: 0.0409 - accuracy: 0.9874 - val_loss: 0.8302 - val_accuracy: 0.7782 - 3s/epoch - 16ms/step\n",
            "Epoch 5/5\n",
            "215/215 - 3s - loss: 0.0208 - accuracy: 0.9921 - val_loss: 0.7762 - val_accuracy: 0.7690 - 3s/epoch - 14ms/step\n"
          ]
        }
      ]
    },
    {
      "cell_type": "code",
      "source": [
        "import pandas as pd\n",
        "\n",
        "pd.DataFrame(model_8_history.history).plot()"
      ],
      "metadata": {
        "colab": {
          "base_uri": "https://localhost:8080/",
          "height": 447
        },
        "id": "fcSEVPgub0v9",
        "outputId": "797e7213-a8e8-43d2-ca49-e05206e3bfad"
      },
      "execution_count": 83,
      "outputs": [
        {
          "output_type": "execute_result",
          "data": {
            "text/plain": [
              "<Axes: >"
            ]
          },
          "metadata": {},
          "execution_count": 83
        },
        {
          "output_type": "display_data",
          "data": {
            "text/plain": [
              "<Figure size 640x480 with 1 Axes>"
            ],
            "image/png": "[encoded data removed]"
          },
          "metadata": {}
        }
      ]
    },
    {
      "cell_type": "code",
      "source": [
        "model_8.summary()"
      ],
      "metadata": {
        "colab": {
          "base_uri": "https://localhost:8080/"
        },
        "id": "2FKVSIeqeysx",
        "outputId": "2f3d9c8f-5547-4fb0-ec33-dac99d3acd1e"
      },
      "execution_count": 84,
      "outputs": [
        {
          "output_type": "stream",
          "name": "stdout",
          "text": [
            "Model: \"model_7\"\n",
            "_________________________________________________________________\n",
            " Layer (type)                Output Shape              Param #   \n",
            "=================================================================\n",
            " input_8 (InputLayer)        [(None, 1)]               0         \n",
            "                                                                 \n",
            " text_vectorization (TextVe  (None, 25)                0         \n",
            " ctorization)                                                    \n",
            "                                                                 \n",
            " zaaz (Embedding)            (None, 25, 128)           2560000   \n",
            "                                                                 \n",
            " bidirectional (Bidirection  (None, 128)               98816     \n",
            " al)                                                             \n",
            "                                                                 \n",
            " dense_12 (Dense)            (None, 64)                8256      \n",
            "                                                                 \n",
            " dense_13 (Dense)            (None, 1)                 65        \n",
            "                                                                 \n",
            "=================================================================\n",
            "Total params: 2667137 (10.17 MB)\n",
            "Trainable params: 2667137 (10.17 MB)\n",
            "Non-trainable params: 0 (0.00 Byte)\n",
            "_________________________________________________________________\n"
          ]
        }
      ]
    },
    {
      "cell_type": "markdown",
      "source": [
        "it is not working\n",
        "\n",
        "it looks like that our datasets maximum accuracy is about 80 percent and we can not pass it\n",
        "\n",
        "lets use my last weapon,beside transfer learning ,which is convolutinal models"
      ],
      "metadata": {
        "id": "BxCuHfLJdOba"
      }
    },
    {
      "cell_type": "code",
      "source": [
        "model_9_embedding = tf.keras.layers.Embedding(input_dim=vocab_size,\n",
        "                                              output_dim=128,\n",
        "                                              name=\"kobe\",\n",
        "                                              mask_zero=True,\n",
        "                                              embeddings_initializer=\"uniform\")"
      ],
      "metadata": {
        "id": "S1JvJ4r4dIFK"
      },
      "execution_count": 85,
      "outputs": []
    },
    {
      "cell_type": "code",
      "source": [
        "input_model_9 = tf.keras.layers.Input(shape=(1,), dtype=\"string\")\n",
        "\n",
        "x = vectorizer(input_model_9)\n",
        "x = model_9_embedding(x)\n",
        "# here we should use convolutional layer\n",
        "x = tf.keras.layers.Conv1D(filters=32,kernel_size=4,activation=tf.keras.activations.relu)(x)\n",
        "x = tf.keras.layers.GlobalMaxPool1D()(x)\n",
        "x = tf.keras.layers.Dense(16,activation=tf.keras.activations.relu)(x)\n",
        "output_9 = tf.keras.layers.Dense(1,activation=tf.keras.activations.sigmoid)(x)\n",
        "\n",
        "model_9 = tf.keras.Model(input_model_9,output_9)"
      ],
      "metadata": {
        "id": "oUfwdaSAefws"
      },
      "execution_count": 86,
      "outputs": []
    },
    {
      "cell_type": "code",
      "source": [
        "model_9.compile(loss=tf.keras.losses.binary_crossentropy,\n",
        "                metrics=[\"accuracy\"],\n",
        "                optimizer=tf.keras.optimizers.Adam(learning_rate=0.001))"
      ],
      "metadata": {
        "id": "ZAIzFLlFgP9G"
      },
      "execution_count": 87,
      "outputs": []
    },
    {
      "cell_type": "code",
      "source": [
        "model_9_history = model_9.fit(train_sentence,\n",
        "                              train_labels,\n",
        "                              epochs=5,\n",
        "                              validation_data=(val_sentence,val_labels),\n",
        "                              verbose = 2)"
      ],
      "metadata": {
        "colab": {
          "base_uri": "https://localhost:8080/"
        },
        "id": "o00P8Vr_gl02",
        "outputId": "d4c30db4-ac85-434e-d1cb-7ec93fdb90a5"
      },
      "execution_count": 88,
      "outputs": [
        {
          "output_type": "stream",
          "name": "stdout",
          "text": [
            "Epoch 1/5\n",
            "215/215 - 21s - loss: 0.5906 - accuracy: 0.6830 - val_loss: 0.4374 - val_accuracy: 0.8123 - 21s/epoch - 98ms/step\n",
            "Epoch 2/5\n",
            "215/215 - 3s - loss: 0.3159 - accuracy: 0.8749 - val_loss: 0.4264 - val_accuracy: 0.8110 - 3s/epoch - 14ms/step\n",
            "Epoch 3/5\n",
            "215/215 - 3s - loss: 0.1300 - accuracy: 0.9562 - val_loss: 0.5037 - val_accuracy: 0.8163 - 3s/epoch - 14ms/step\n",
            "Epoch 4/5\n",
            "215/215 - 2s - loss: 0.0526 - accuracy: 0.9854 - val_loss: 0.5940 - val_accuracy: 0.8031 - 2s/epoch - 8ms/step\n",
            "Epoch 5/5\n",
            "215/215 - 1s - loss: 0.0301 - accuracy: 0.9914 - val_loss: 0.6564 - val_accuracy: 0.8058 - 1s/epoch - 6ms/step\n"
          ]
        }
      ]
    },
    {
      "cell_type": "code",
      "source": [
        "pd.DataFrame(model_9_history.history).plot()"
      ],
      "metadata": {
        "colab": {
          "base_uri": "https://localhost:8080/",
          "height": 447
        },
        "id": "UZXFshShgsqi",
        "outputId": "e3b4802f-cf69-4a63-aa9a-2ec9c2b064b9"
      },
      "execution_count": 89,
      "outputs": [
        {
          "output_type": "execute_result",
          "data": {
            "text/plain": [
              "<Axes: >"
            ]
          },
          "metadata": {},
          "execution_count": 89
        },
        {
          "output_type": "display_data",
          "data": {
            "text/plain": [
              "<Figure size 640x480 with 1 Axes>"
            ],
            "image/png": "[encoded data removed]"
          },
          "metadata": {}
        }
      ]
    },
    {
      "cell_type": "code",
      "source": [
        "model_9.summary()"
      ],
      "metadata": {
        "colab": {
          "base_uri": "https://localhost:8080/"
        },
        "id": "QW76R_fjg7Dv",
        "outputId": "cd1f6331-4f5f-45ec-b4f2-7a1a102b20d4"
      },
      "execution_count": 90,
      "outputs": [
        {
          "output_type": "stream",
          "name": "stdout",
          "text": [
            "Model: \"model_8\"\n",
            "_________________________________________________________________\n",
            " Layer (type)                Output Shape              Param #   \n",
            "=================================================================\n",
            " input_9 (InputLayer)        [(None, 1)]               0         \n",
            "                                                                 \n",
            " text_vectorization (TextVe  (None, 25)                0         \n",
            " ctorization)                                                    \n",
            "                                                                 \n",
            " kobe (Embedding)            (None, 25, 128)           2560000   \n",
            "                                                                 \n",
            " conv1d (Conv1D)             (None, 22, 32)            16416     \n",
            "                                                                 \n",
            " global_max_pooling1d (Glob  (None, 32)                0         \n",
            " alMaxPooling1D)                                                 \n",
            "                                                                 \n",
            " dense_14 (Dense)            (None, 16)                528       \n",
            "                                                                 \n",
            " dense_15 (Dense)            (None, 1)                 17        \n",
            "                                                                 \n",
            "=================================================================\n",
            "Total params: 2576961 (9.83 MB)\n",
            "Trainable params: 2576961 (9.83 MB)\n",
            "Non-trainable params: 0 (0.00 Byte)\n",
            "_________________________________________________________________\n"
          ]
        }
      ]
    },
    {
      "cell_type": "markdown",
      "source": [
        "i think it is time to use our last and the strongest model,which is transfer learning,with pretrained embedding"
      ],
      "metadata": {
        "id": "7_55y3v0hjv8"
      }
    },
    {
      "cell_type": "markdown",
      "source": [
        "i will use universal sentence encoder"
      ],
      "metadata": {
        "id": "XcwkNlCilXEY"
      }
    },
    {
      "cell_type": "code",
      "source": [
        "import tensorflow_hub as hub"
      ],
      "metadata": {
        "id": "CWJ9Oc5Lg8zM"
      },
      "execution_count": 91,
      "outputs": []
    },
    {
      "cell_type": "code",
      "source": [
        "embed_link = \"https://tfhub.dev/google/universal-sentence-encoder/4\"\n",
        "\n",
        "sentence_encoder_layer = hub.KerasLayer(embed_link,\n",
        "                                        input_shape=[],\n",
        "                                        name=\"kiri_last\",\n",
        "                                        trainable=False,\n",
        "                                        dtype=\"string\")"
      ],
      "metadata": {
        "id": "-ykgFdZMlftz"
      },
      "execution_count": 92,
      "outputs": []
    },
    {
      "cell_type": "markdown",
      "source": [
        "i will use sequential API for this model(instead of functional API)"
      ],
      "metadata": {
        "id": "ssD88kO-mUrS"
      }
    },
    {
      "cell_type": "code",
      "source": [
        "model_10 = tf.keras.Sequential(name=\"zaza_pachulia\")\n",
        "\n",
        "model_10.add(sentence_encoder_layer)\n",
        "model_10.add(tf.keras.layers.Dense(64,activation=tf.keras.activations.relu))\n",
        "model_10.add(tf.keras.layers.Dense(1,activation=tf.keras.activations.sigmoid))\n",
        "\n"
      ],
      "metadata": {
        "id": "bVdbXl3umLcH"
      },
      "execution_count": 93,
      "outputs": []
    },
    {
      "cell_type": "code",
      "source": [
        "model_10.compile(loss=tf.keras.losses.binary_crossentropy,\n",
        "                 metrics=[\"accuracy\"],\n",
        "                 optimizer=tf.keras.optimizers.Adam(learning_rate=0.001))"
      ],
      "metadata": {
        "id": "TOjWQ3gnm4hB"
      },
      "execution_count": 94,
      "outputs": []
    },
    {
      "cell_type": "code",
      "source": [
        "model_10.summary()"
      ],
      "metadata": {
        "colab": {
          "base_uri": "https://localhost:8080/"
        },
        "id": "y4pgzADenLt6",
        "outputId": "d84933b5-ef68-431d-f94c-d2e1c995e559"
      },
      "execution_count": 95,
      "outputs": [
        {
          "output_type": "stream",
          "name": "stdout",
          "text": [
            "Model: \"zaza_pachulia\"\n",
            "_________________________________________________________________\n",
            " Layer (type)                Output Shape              Param #   \n",
            "=================================================================\n",
            " kiri_last (KerasLayer)      (None, 512)               256797824 \n",
            "                                                                 \n",
            " dense_16 (Dense)            (None, 64)                32832     \n",
            "                                                                 \n",
            " dense_17 (Dense)            (None, 1)                 65        \n",
            "                                                                 \n",
            "=================================================================\n",
            "Total params: 256830721 (979.73 MB)\n",
            "Trainable params: 32897 (128.50 KB)\n",
            "Non-trainable params: 256797824 (979.61 MB)\n",
            "_________________________________________________________________\n"
          ]
        }
      ]
    },
    {
      "cell_type": "code",
      "source": [
        "model_10_history = model_10.fit(train_sentence,\n",
        "                              train_labels,\n",
        "                              epochs=10,\n",
        "                              validation_data=(val_sentence,val_labels),\n",
        "                              verbose = 2)"
      ],
      "metadata": {
        "colab": {
          "base_uri": "https://localhost:8080/"
        },
        "id": "Sm_85sV1nD63",
        "outputId": "b836ce71-e01c-4363-d002-f25dd809b57d"
      },
      "execution_count": 96,
      "outputs": [
        {
          "output_type": "stream",
          "name": "stdout",
          "text": [
            "Epoch 1/10\n",
            "215/215 - 8s - loss: 0.5069 - accuracy: 0.7867 - val_loss: 0.4214 - val_accuracy: 0.8084 - 8s/epoch - 38ms/step\n",
            "Epoch 2/10\n",
            "215/215 - 3s - loss: 0.4176 - accuracy: 0.8156 - val_loss: 0.4137 - val_accuracy: 0.8150 - 3s/epoch - 12ms/step\n",
            "Epoch 3/10\n",
            "215/215 - 2s - loss: 0.4043 - accuracy: 0.8212 - val_loss: 0.4132 - val_accuracy: 0.8176 - 2s/epoch - 12ms/step\n",
            "Epoch 4/10\n",
            "215/215 - 3s - loss: 0.3953 - accuracy: 0.8259 - val_loss: 0.4136 - val_accuracy: 0.8241 - 3s/epoch - 16ms/step\n",
            "Epoch 5/10\n",
            "215/215 - 4s - loss: 0.3881 - accuracy: 0.8343 - val_loss: 0.4135 - val_accuracy: 0.8176 - 4s/epoch - 17ms/step\n",
            "Epoch 6/10\n",
            "215/215 - 4s - loss: 0.3834 - accuracy: 0.8348 - val_loss: 0.4134 - val_accuracy: 0.8163 - 4s/epoch - 21ms/step\n",
            "Epoch 7/10\n",
            "215/215 - 6s - loss: 0.3773 - accuracy: 0.8383 - val_loss: 0.4106 - val_accuracy: 0.8176 - 6s/epoch - 27ms/step\n",
            "Epoch 8/10\n",
            "215/215 - 5s - loss: 0.3707 - accuracy: 0.8415 - val_loss: 0.4108 - val_accuracy: 0.8228 - 5s/epoch - 21ms/step\n",
            "Epoch 9/10\n",
            "215/215 - 5s - loss: 0.3645 - accuracy: 0.8403 - val_loss: 0.4087 - val_accuracy: 0.8202 - 5s/epoch - 22ms/step\n",
            "Epoch 10/10\n",
            "215/215 - 5s - loss: 0.3594 - accuracy: 0.8435 - val_loss: 0.4094 - val_accuracy: 0.8228 - 5s/epoch - 21ms/step\n"
          ]
        }
      ]
    },
    {
      "cell_type": "markdown",
      "source": [
        "with feature extractor model,we could achieve 82 percent\n",
        "\n",
        "lets see what will happen,if we set our trainable parameter of our keras layer to \"True\""
      ],
      "metadata": {
        "id": "SiaELLZLnx0q"
      }
    },
    {
      "cell_type": "code",
      "source": [
        "embed_link = \"https://tfhub.dev/google/universal-sentence-encoder/4\"\n",
        "\n",
        "sentence_encoder_layer_2 = hub.KerasLayer(embed_link,\n",
        "                                          trainable=True,\n",
        "                                          input_shape=[],\n",
        "                                          dtype=\"string\",\n",
        "                                          name=\"hashem_sag-sefat\")"
      ],
      "metadata": {
        "id": "WuQ_NGrInRGZ"
      },
      "execution_count": 97,
      "outputs": []
    },
    {
      "cell_type": "code",
      "source": [
        "model_11 = tf.keras.Sequential(name=\"please_work\")\n",
        "\n",
        "model_11.add(sentence_encoder_layer_2)\n",
        "model_11.add(tf.keras.layers.Dense(64,activation=tf.keras.activations.relu))\n",
        "model_11.add(tf.keras.layers.Dense(1,activation=tf.keras.activations.sigmoid))"
      ],
      "metadata": {
        "id": "M0D3dVGDogDl"
      },
      "execution_count": 98,
      "outputs": []
    },
    {
      "cell_type": "code",
      "source": [
        "model_11.summary()"
      ],
      "metadata": {
        "colab": {
          "base_uri": "https://localhost:8080/"
        },
        "id": "c83N-5Czo8PA",
        "outputId": "f16219cb-ce7d-4445-f62c-6b524ad911a7"
      },
      "execution_count": 99,
      "outputs": [
        {
          "output_type": "stream",
          "name": "stdout",
          "text": [
            "Model: \"please_work\"\n",
            "_________________________________________________________________\n",
            " Layer (type)                Output Shape              Param #   \n",
            "=================================================================\n",
            " hashem_sag-sefat (KerasLay  (None, 512)               256797824 \n",
            " er)                                                             \n",
            "                                                                 \n",
            " dense_18 (Dense)            (None, 64)                32832     \n",
            "                                                                 \n",
            " dense_19 (Dense)            (None, 1)                 65        \n",
            "                                                                 \n",
            "=================================================================\n",
            "Total params: 256830721 (979.73 MB)\n",
            "Trainable params: 256830721 (979.73 MB)\n",
            "Non-trainable params: 0 (0.00 Byte)\n",
            "_________________________________________________________________\n"
          ]
        }
      ]
    },
    {
      "cell_type": "code",
      "source": [
        "model_11.compile(loss=tf.keras.losses.binary_crossentropy,\n",
        "                 metrics=\"accuracy\",\n",
        "                 optimizer=tf.keras.optimizers.Adam(learning_rate=0.001))"
      ],
      "metadata": {
        "id": "9iCW4ZtzpV_j"
      },
      "execution_count": 100,
      "outputs": []
    },
    {
      "cell_type": "markdown",
      "source": [
        "as you can see,we have a lot of trainable parameters"
      ],
      "metadata": {
        "id": "dC-SM6yzpFq3"
      }
    },
    {
      "cell_type": "code",
      "source": [
        "model_11_history = model_11.fit(train_sentence,\n",
        "                              train_labels,\n",
        "                              epochs=7,\n",
        "                              validation_data=(val_sentence,val_labels),\n",
        "                              verbose = 2)"
      ],
      "metadata": {
        "colab": {
          "base_uri": "https://localhost:8080/"
        },
        "id": "FoEGsvGBo9tk",
        "outputId": "9aedbb8e-fdad-4a13-de3d-843874492737"
      },
      "execution_count": 101,
      "outputs": [
        {
          "output_type": "stream",
          "name": "stdout",
          "text": [
            "Epoch 1/7\n",
            "215/215 - 228s - loss: 0.4516 - accuracy: 0.8032 - val_loss: 0.3926 - val_accuracy: 0.8346 - 228s/epoch - 1s/step\n",
            "Epoch 2/7\n",
            "215/215 - 41s - loss: 0.2272 - accuracy: 0.9153 - val_loss: 0.4572 - val_accuracy: 0.8176 - 41s/epoch - 191ms/step\n",
            "Epoch 3/7\n",
            "215/215 - 30s - loss: 0.0826 - accuracy: 0.9730 - val_loss: 0.5133 - val_accuracy: 0.8018 - 30s/epoch - 142ms/step\n",
            "Epoch 4/7\n",
            "215/215 - 37s - loss: 0.0458 - accuracy: 0.9834 - val_loss: 0.5956 - val_accuracy: 0.8163 - 37s/epoch - 174ms/step\n",
            "Epoch 5/7\n",
            "215/215 - 23s - loss: 0.0335 - accuracy: 0.9882 - val_loss: 0.5835 - val_accuracy: 0.7992 - 23s/epoch - 108ms/step\n",
            "Epoch 6/7\n",
            "215/215 - 23s - loss: 0.0230 - accuracy: 0.9901 - val_loss: 0.6988 - val_accuracy: 0.7690 - 23s/epoch - 108ms/step\n",
            "Epoch 7/7\n",
            "215/215 - 25s - loss: 0.0168 - accuracy: 0.9928 - val_loss: 0.7064 - val_accuracy: 0.8031 - 25s/epoch - 114ms/step\n"
          ]
        }
      ]
    },
    {
      "cell_type": "markdown",
      "source": [
        "it looks like our models arent as powerfull to achieve higher accuracy,\n",
        "\n",
        "so,lets ensemble them together,to see if we can find a better model"
      ],
      "metadata": {
        "id": "lTaMDokPvrmR"
      }
    },
    {
      "cell_type": "code",
      "source": [
        "model_11.predict([\"we will be dead by this explosion\"])"
      ],
      "metadata": {
        "colab": {
          "base_uri": "https://localhost:8080/"
        },
        "id": "G6kue-wTpTXU",
        "outputId": "b2d766f2-814b-448d-9811-e667dbe276d4"
      },
      "execution_count": 102,
      "outputs": [
        {
          "output_type": "stream",
          "name": "stdout",
          "text": [
            "1/1 [==============================] - 0s 421ms/step\n"
          ]
        },
        {
          "output_type": "execute_result",
          "data": {
            "text/plain": [
              "array([[0.956121]], dtype=float32)"
            ]
          },
          "metadata": {},
          "execution_count": 102
        }
      ]
    },
    {
      "cell_type": "markdown",
      "source": [
        "now,as we can see,we have 11 models and they are not working very well to be honest,\n",
        "\n",
        "i think,the best model will be achieved,if we do voting with these 11 models"
      ],
      "metadata": {
        "id": "nKWt3tEjT7Ns"
      }
    },
    {
      "cell_type": "code",
      "source": [
        "def prediction(list):\n",
        "\n",
        "  prediction_length = len(list)\n",
        "  pred_list = []\n",
        "  models = []\n",
        "  pred_model_1 = np.round(model_1.predict(list))\n",
        "  pred_model_2 = np.round(model_2.predict(list))\n",
        "  pred_model_3 = np.round(model_3.predict(list))\n",
        "  pred_model_4 = np.round(model_4.predict(list))\n",
        "  pred_model_5 = np.round(model_5.predict(list))\n",
        "  pred_model_6 = np.round(model_6.predict(list))\n",
        "  pred_model_7 = np.round(model_7.predict(list))\n",
        "  pred_model_8 = np.round(model_8.predict(list))\n",
        "  pred_model_9 = np.round(model_9.predict(list))\n",
        "  pred_model_10 = np.round(model_10.predict(list))\n",
        "  pred_model_11 = np.round(model_11.predict(list))\n",
        "  models.append(pred_model_1)\n",
        "  models.append(pred_model_2)\n",
        "  models.append(pred_model_3)\n",
        "  models.append(pred_model_4)\n",
        "  models.append(pred_model_5)\n",
        "  models.append(pred_model_6)\n",
        "  models.append(pred_model_7)\n",
        "  models.append(pred_model_8)\n",
        "  models.append(pred_model_9)\n",
        "  models.append(pred_model_10)\n",
        "  models.append(pred_model_11)\n",
        "\n",
        "  for i in range(prediction_length):\n",
        "    count_1 = 0\n",
        "    for j in models:\n",
        "      if j[i]==1:\n",
        "        count_1 = count_1 + 1\n",
        "    if count_1>5:\n",
        "      pred_list.append(1)\n",
        "    else:\n",
        "      pred_list.append(0)\n",
        "\n",
        "  return pred_list\n"
      ],
      "metadata": {
        "id": "C78D-J7HUWU1"
      },
      "execution_count": 108,
      "outputs": []
    },
    {
      "cell_type": "code",
      "source": [
        "prediction([\"hello\",\"this earthquake is deadly\"])"
      ],
      "metadata": {
        "id": "4xuhuy6JX5zQ",
        "outputId": "efdbcac7-e373-44b5-af10-3a9f3394f5b2",
        "colab": {
          "base_uri": "https://localhost:8080/"
        }
      },
      "execution_count": 114,
      "outputs": [
        {
          "output_type": "stream",
          "name": "stdout",
          "text": [
            "1/1 [==============================] - 0s 70ms/step\n",
            "1/1 [==============================] - 0s 52ms/step\n",
            "1/1 [==============================] - 0s 55ms/step\n",
            "1/1 [==============================] - 0s 52ms/step\n",
            "1/1 [==============================] - 0s 57ms/step\n",
            "1/1 [==============================] - 0s 168ms/step\n",
            "1/1 [==============================] - 0s 83ms/step\n",
            "1/1 [==============================] - 0s 43ms/step\n",
            "1/1 [==============================] - 0s 64ms/step\n",
            "1/1 [==============================] - 0s 39ms/step\n",
            "1/1 [==============================] - 0s 37ms/step\n"
          ]
        },
        {
          "output_type": "execute_result",
          "data": {
            "text/plain": [
              "[0, 1]"
            ]
          },
          "metadata": {},
          "execution_count": 114
        }
      ]
    },
    {
      "cell_type": "code",
      "source": [
        "np.round([0.23,0.7])"
      ],
      "metadata": {
        "id": "nNTD8CwSYBuV",
        "outputId": "a4449f5f-567a-43a9-872b-0e0f2c26bfdf",
        "colab": {
          "base_uri": "https://localhost:8080/"
        }
      },
      "execution_count": 105,
      "outputs": [
        {
          "output_type": "execute_result",
          "data": {
            "text/plain": [
              "array([0., 1.])"
            ]
          },
          "metadata": {},
          "execution_count": 105
        }
      ]
    },
    {
      "cell_type": "code",
      "source": [],
      "metadata": {
        "id": "NhDxKacqYOyB"
      },
      "execution_count": null,
      "outputs": []
    }
  ],
  "metadata": {
    "kernelspec": {
      "display_name": "Python 3",
      "name": "python3"
    },
    "language_info": {
      "codemirror_mode": {
        "name": "ipython",
        "version": 3
      },
      "file_extension": ".py",
      "mimetype": "text/x-python",
      "name": "python",
      "nbconvert_exporter": "python",
      "pygments_lexer": "ipython3",
      "version": "3.10.7"
    },
    "orig_nbformat": 4,
    "colab": {
      "provenance": [],
      "gpuType": "T4",
      "include_colab_link": true
    },
    "accelerator": "GPU"
  },
  "nbformat": 4,
  "nbformat_minor": 0
}